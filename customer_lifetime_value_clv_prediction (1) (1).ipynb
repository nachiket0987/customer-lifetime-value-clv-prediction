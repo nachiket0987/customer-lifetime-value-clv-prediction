{
  "cells": [
    {
      "cell_type": "markdown",
      "id": "39240504",
      "metadata": {
        "id": "39240504",
        "papermill": {
          "duration": 0.029798,
          "end_time": "2022-11-14T09:03:25.726498",
          "exception": false,
          "start_time": "2022-11-14T09:03:25.696700",
          "status": "completed"
        },
        "tags": []
      },
      "source": [
        " # <p style=\"background-color:#C71585;font-family:Georgia;font-size:150%;color:white;text-align:center;border-radius:20px 20px;\"><b>Customer Lifetime Value (CLV) Prediction</b></p>"
      ]
    },
    {
      "cell_type": "markdown",
      "id": "0422d6e9",
      "metadata": {
        "id": "0422d6e9",
        "papermill": {
          "duration": 0.02661,
          "end_time": "2022-11-14T09:03:25.832825",
          "exception": false,
          "start_time": "2022-11-14T09:03:25.806215",
          "status": "completed"
        },
        "tags": []
      },
      "source": [
        "The customer lifetime value (CLV) is a valuable metric that shows the total amount of money a business expects a customer to spend on products and services throughout the customer relationship.\n",
        "\n",
        "This figure shows businesses where they need to redirect the marketing spend to draw in new customers or retain existing ones.\n",
        "\n",
        "It puts a numeric value on how valuable a specific customer or segment’s relationship is to the business and how much should be invested in that relationship.\n",
        "\n",
        "Companies get insights about customers and can create well-informed marketing strategies to achieve their marketing goals and develop loyal customers who advocate for their brand.\n",
        "\n",
        "In short, it helps focus on the long term profitability of business rather than short term gain so that both business and customers reap benefits.\n",
        "\n",
        "[Source](https://www.surveysensum.com/customer-experience/customer-lifetime-value/)\n",
        "\n",
        "In this project, We are going to build some machine learning models that predicts our customers lifetime value."
      ]
    },
    {
      "cell_type": "markdown",
      "id": "77eee917",
      "metadata": {
        "id": "77eee917",
        "papermill": {
          "duration": 0.027381,
          "end_time": "2022-11-14T09:03:25.887852",
          "exception": false,
          "start_time": "2022-11-14T09:03:25.860471",
          "status": "completed"
        },
        "tags": []
      },
      "source": [
        "# <p style=\"background-color:#C71585;font-family:Georgia;color:white;text-align:left;border-radius:20px 20px;\"><b>About Dataset</b></p>\n",
        "\n",
        "## Context\n",
        "\n",
        "A real online retail transaction data set of two years:\n",
        "https://archive.ics.uci.edu/ml/datasets/Online+Retail+II\n",
        "\n",
        "\n",
        "## Content\n",
        "\n",
        "This Online Retail II data set contains all the transactions occurring for a UK-based and registered, non-store online retail between 01/12/2009 and 09/12/2011.The company mainly sells unique all-occasion gift-ware. Many customers of the company are wholesalers.\n",
        "\n",
        "\n",
        "## Column Descriptors\n",
        "\n",
        "InvoiceNo: Invoice number. Nominal. A 6-digit integral number uniquely assigned to each transaction. If this code starts with the letter 'c', it indicates a cancellation.\n",
        "\n",
        "StockCode: Product (item) code. Nominal. A 5-digit integral number uniquely assigned to each distinct product.\n",
        "\n",
        "Description: Product (item) name. Nominal.\n",
        "\n",
        "Quantity: The quantities of each product (item) per transaction. Numeric.\n",
        "\n",
        "InvoiceDate: Invice date and time. Numeric. The day and time when a transaction was generated.\n",
        "\n",
        "UnitPrice: Unit price. Numeric. Product price per unit in sterling (Â£).\n",
        "\n",
        "CustomerID: Customer number. Nominal. A 5-digit integral number uniquely assigned to each customer.\n",
        "\n",
        "Country: Country name. Nominal. The name of the country where a customer resides."
      ]
    },
    {
      "cell_type": "markdown",
      "id": "757cd98a",
      "metadata": {
        "id": "757cd98a",
        "papermill": {
          "duration": 0.027317,
          "end_time": "2022-11-14T09:03:25.942397",
          "exception": false,
          "start_time": "2022-11-14T09:03:25.915080",
          "status": "completed"
        },
        "tags": []
      },
      "source": [
        "# <p style=\"background-color:#C71585;font-family:Georgia;color:white;text-align:left;border-radius:20px 20px;\"><b>Importing Basic Libraries and Data</b></p>"
      ]
    },
    {
      "cell_type": "code",
      "execution_count": null,
      "id": "40060e5b",
      "metadata": {
        "execution": {
          "iopub.execute_input": "2022-11-14T09:03:26.000169Z",
          "iopub.status.busy": "2022-11-14T09:03:25.999456Z",
          "iopub.status.idle": "2022-11-14T09:03:27.160202Z",
          "shell.execute_reply": "2022-11-14T09:03:27.158818Z"
        },
        "id": "40060e5b",
        "papermill": {
          "duration": 1.19258,
          "end_time": "2022-11-14T09:03:27.163065",
          "exception": false,
          "start_time": "2022-11-14T09:03:25.970485",
          "status": "completed"
        },
        "tags": []
      },
      "outputs": [],
      "source": [
        "import pandas as pd\n",
        "import numpy as np\n",
        "import matplotlib.pyplot as plt\n",
        "import seaborn as sns\n",
        "\n",
        "import warnings\n",
        "warnings.filterwarnings(\"ignore\")\n",
        "\n",
        "import datetime as dt\n",
        "from datetime import datetime, timedelta, date"
      ]
    },
    {
      "cell_type": "code",
      "execution_count": null,
      "id": "40f6a292",
      "metadata": {
        "execution": {
          "iopub.execute_input": "2022-11-14T09:03:27.218403Z",
          "iopub.status.busy": "2022-11-14T09:03:27.218000Z",
          "iopub.status.idle": "2022-11-14T09:03:27.234260Z",
          "shell.execute_reply": "2022-11-14T09:03:27.232884Z"
        },
        "id": "40f6a292",
        "papermill": {
          "duration": 0.047893,
          "end_time": "2022-11-14T09:03:27.237968",
          "exception": false,
          "start_time": "2022-11-14T09:03:27.190075",
          "status": "completed"
        },
        "tags": []
      },
      "outputs": [],
      "source": [
        "import os\n",
        "for dirname, _, filenames in os.walk('/kaggle/input'):\n",
        "    for filename in filenames:\n",
        "        print(os.path.join(dirname, filename))"
      ]
    },
    {
      "cell_type": "code",
      "execution_count": null,
      "id": "9cc34f65",
      "metadata": {
        "colab": {
          "base_uri": "https://localhost:8080/",
          "height": 304
        },
        "execution": {
          "iopub.execute_input": "2022-11-14T09:03:27.296925Z",
          "iopub.status.busy": "2022-11-14T09:03:27.295982Z",
          "iopub.status.idle": "2022-11-14T09:03:29.495994Z",
          "shell.execute_reply": "2022-11-14T09:03:29.494818Z"
        },
        "id": "9cc34f65",
        "outputId": "041c29ae-878c-48e2-d1c1-5a1c475afdc9",
        "papermill": {
          "duration": 2.231895,
          "end_time": "2022-11-14T09:03:29.498292",
          "exception": false,
          "start_time": "2022-11-14T09:03:27.266397",
          "status": "completed"
        },
        "tags": []
      },
      "outputs": [
        {
          "ename": "FileNotFoundError",
          "evalue": "[Errno 2] No such file or directory: '../input/online-retail-ii-uci/online_retail_II.csv'",
          "output_type": "error",
          "traceback": [
            "\u001b[0;31m---------------------------------------------------------------------------\u001b[0m",
            "\u001b[0;31mFileNotFoundError\u001b[0m                         Traceback (most recent call last)",
            "\u001b[0;32m<ipython-input-3-6f963bed0ecf>\u001b[0m in \u001b[0;36m<cell line: 1>\u001b[0;34m()\u001b[0m\n\u001b[0;32m----> 1\u001b[0;31m \u001b[0mdf\u001b[0m\u001b[0;34m=\u001b[0m \u001b[0mpd\u001b[0m\u001b[0;34m.\u001b[0m\u001b[0mread_csv\u001b[0m\u001b[0;34m(\u001b[0m\u001b[0;34m\"../input/online-retail-ii-uci/online_retail_II.csv\"\u001b[0m\u001b[0;34m)\u001b[0m\u001b[0;34m\u001b[0m\u001b[0;34m\u001b[0m\u001b[0m\n\u001b[0m\u001b[1;32m      2\u001b[0m \u001b[0mdf\u001b[0m\u001b[0;34m\u001b[0m\u001b[0;34m\u001b[0m\u001b[0m\n",
            "\u001b[0;32m/usr/local/lib/python3.10/dist-packages/pandas/io/parsers/readers.py\u001b[0m in \u001b[0;36mread_csv\u001b[0;34m(filepath_or_buffer, sep, delimiter, header, names, index_col, usecols, dtype, engine, converters, true_values, false_values, skipinitialspace, skiprows, skipfooter, nrows, na_values, keep_default_na, na_filter, verbose, skip_blank_lines, parse_dates, infer_datetime_format, keep_date_col, date_parser, date_format, dayfirst, cache_dates, iterator, chunksize, compression, thousands, decimal, lineterminator, quotechar, quoting, doublequote, escapechar, comment, encoding, encoding_errors, dialect, on_bad_lines, delim_whitespace, low_memory, memory_map, float_precision, storage_options, dtype_backend)\u001b[0m\n\u001b[1;32m    910\u001b[0m     \u001b[0mkwds\u001b[0m\u001b[0;34m.\u001b[0m\u001b[0mupdate\u001b[0m\u001b[0;34m(\u001b[0m\u001b[0mkwds_defaults\u001b[0m\u001b[0;34m)\u001b[0m\u001b[0;34m\u001b[0m\u001b[0;34m\u001b[0m\u001b[0m\n\u001b[1;32m    911\u001b[0m \u001b[0;34m\u001b[0m\u001b[0m\n\u001b[0;32m--> 912\u001b[0;31m     \u001b[0;32mreturn\u001b[0m \u001b[0m_read\u001b[0m\u001b[0;34m(\u001b[0m\u001b[0mfilepath_or_buffer\u001b[0m\u001b[0;34m,\u001b[0m \u001b[0mkwds\u001b[0m\u001b[0;34m)\u001b[0m\u001b[0;34m\u001b[0m\u001b[0;34m\u001b[0m\u001b[0m\n\u001b[0m\u001b[1;32m    913\u001b[0m \u001b[0;34m\u001b[0m\u001b[0m\n\u001b[1;32m    914\u001b[0m \u001b[0;34m\u001b[0m\u001b[0m\n",
            "\u001b[0;32m/usr/local/lib/python3.10/dist-packages/pandas/io/parsers/readers.py\u001b[0m in \u001b[0;36m_read\u001b[0;34m(filepath_or_buffer, kwds)\u001b[0m\n\u001b[1;32m    575\u001b[0m \u001b[0;34m\u001b[0m\u001b[0m\n\u001b[1;32m    576\u001b[0m     \u001b[0;31m# Create the parser.\u001b[0m\u001b[0;34m\u001b[0m\u001b[0;34m\u001b[0m\u001b[0m\n\u001b[0;32m--> 577\u001b[0;31m     \u001b[0mparser\u001b[0m \u001b[0;34m=\u001b[0m \u001b[0mTextFileReader\u001b[0m\u001b[0;34m(\u001b[0m\u001b[0mfilepath_or_buffer\u001b[0m\u001b[0;34m,\u001b[0m \u001b[0;34m**\u001b[0m\u001b[0mkwds\u001b[0m\u001b[0;34m)\u001b[0m\u001b[0;34m\u001b[0m\u001b[0;34m\u001b[0m\u001b[0m\n\u001b[0m\u001b[1;32m    578\u001b[0m \u001b[0;34m\u001b[0m\u001b[0m\n\u001b[1;32m    579\u001b[0m     \u001b[0;32mif\u001b[0m \u001b[0mchunksize\u001b[0m \u001b[0;32mor\u001b[0m \u001b[0miterator\u001b[0m\u001b[0;34m:\u001b[0m\u001b[0;34m\u001b[0m\u001b[0;34m\u001b[0m\u001b[0m\n",
            "\u001b[0;32m/usr/local/lib/python3.10/dist-packages/pandas/io/parsers/readers.py\u001b[0m in \u001b[0;36m__init__\u001b[0;34m(self, f, engine, **kwds)\u001b[0m\n\u001b[1;32m   1405\u001b[0m \u001b[0;34m\u001b[0m\u001b[0m\n\u001b[1;32m   1406\u001b[0m         \u001b[0mself\u001b[0m\u001b[0;34m.\u001b[0m\u001b[0mhandles\u001b[0m\u001b[0;34m:\u001b[0m \u001b[0mIOHandles\u001b[0m \u001b[0;34m|\u001b[0m \u001b[0;32mNone\u001b[0m \u001b[0;34m=\u001b[0m \u001b[0;32mNone\u001b[0m\u001b[0;34m\u001b[0m\u001b[0;34m\u001b[0m\u001b[0m\n\u001b[0;32m-> 1407\u001b[0;31m         \u001b[0mself\u001b[0m\u001b[0;34m.\u001b[0m\u001b[0m_engine\u001b[0m \u001b[0;34m=\u001b[0m \u001b[0mself\u001b[0m\u001b[0;34m.\u001b[0m\u001b[0m_make_engine\u001b[0m\u001b[0;34m(\u001b[0m\u001b[0mf\u001b[0m\u001b[0;34m,\u001b[0m \u001b[0mself\u001b[0m\u001b[0;34m.\u001b[0m\u001b[0mengine\u001b[0m\u001b[0;34m)\u001b[0m\u001b[0;34m\u001b[0m\u001b[0;34m\u001b[0m\u001b[0m\n\u001b[0m\u001b[1;32m   1408\u001b[0m \u001b[0;34m\u001b[0m\u001b[0m\n\u001b[1;32m   1409\u001b[0m     \u001b[0;32mdef\u001b[0m \u001b[0mclose\u001b[0m\u001b[0;34m(\u001b[0m\u001b[0mself\u001b[0m\u001b[0;34m)\u001b[0m \u001b[0;34m->\u001b[0m \u001b[0;32mNone\u001b[0m\u001b[0;34m:\u001b[0m\u001b[0;34m\u001b[0m\u001b[0;34m\u001b[0m\u001b[0m\n",
            "\u001b[0;32m/usr/local/lib/python3.10/dist-packages/pandas/io/parsers/readers.py\u001b[0m in \u001b[0;36m_make_engine\u001b[0;34m(self, f, engine)\u001b[0m\n\u001b[1;32m   1659\u001b[0m                 \u001b[0;32mif\u001b[0m \u001b[0;34m\"b\"\u001b[0m \u001b[0;32mnot\u001b[0m \u001b[0;32min\u001b[0m \u001b[0mmode\u001b[0m\u001b[0;34m:\u001b[0m\u001b[0;34m\u001b[0m\u001b[0;34m\u001b[0m\u001b[0m\n\u001b[1;32m   1660\u001b[0m                     \u001b[0mmode\u001b[0m \u001b[0;34m+=\u001b[0m \u001b[0;34m\"b\"\u001b[0m\u001b[0;34m\u001b[0m\u001b[0;34m\u001b[0m\u001b[0m\n\u001b[0;32m-> 1661\u001b[0;31m             self.handles = get_handle(\n\u001b[0m\u001b[1;32m   1662\u001b[0m                 \u001b[0mf\u001b[0m\u001b[0;34m,\u001b[0m\u001b[0;34m\u001b[0m\u001b[0;34m\u001b[0m\u001b[0m\n\u001b[1;32m   1663\u001b[0m                 \u001b[0mmode\u001b[0m\u001b[0;34m,\u001b[0m\u001b[0;34m\u001b[0m\u001b[0;34m\u001b[0m\u001b[0m\n",
            "\u001b[0;32m/usr/local/lib/python3.10/dist-packages/pandas/io/common.py\u001b[0m in \u001b[0;36mget_handle\u001b[0;34m(path_or_buf, mode, encoding, compression, memory_map, is_text, errors, storage_options)\u001b[0m\n\u001b[1;32m    857\u001b[0m         \u001b[0;32mif\u001b[0m \u001b[0mioargs\u001b[0m\u001b[0;34m.\u001b[0m\u001b[0mencoding\u001b[0m \u001b[0;32mand\u001b[0m \u001b[0;34m\"b\"\u001b[0m \u001b[0;32mnot\u001b[0m \u001b[0;32min\u001b[0m \u001b[0mioargs\u001b[0m\u001b[0;34m.\u001b[0m\u001b[0mmode\u001b[0m\u001b[0;34m:\u001b[0m\u001b[0;34m\u001b[0m\u001b[0;34m\u001b[0m\u001b[0m\n\u001b[1;32m    858\u001b[0m             \u001b[0;31m# Encoding\u001b[0m\u001b[0;34m\u001b[0m\u001b[0;34m\u001b[0m\u001b[0m\n\u001b[0;32m--> 859\u001b[0;31m             handle = open(\n\u001b[0m\u001b[1;32m    860\u001b[0m                 \u001b[0mhandle\u001b[0m\u001b[0;34m,\u001b[0m\u001b[0;34m\u001b[0m\u001b[0;34m\u001b[0m\u001b[0m\n\u001b[1;32m    861\u001b[0m                 \u001b[0mioargs\u001b[0m\u001b[0;34m.\u001b[0m\u001b[0mmode\u001b[0m\u001b[0;34m,\u001b[0m\u001b[0;34m\u001b[0m\u001b[0;34m\u001b[0m\u001b[0m\n",
            "\u001b[0;31mFileNotFoundError\u001b[0m: [Errno 2] No such file or directory: '../input/online-retail-ii-uci/online_retail_II.csv'"
          ]
        }
      ],
      "source": [
        "df= pd.read_csv(\"../input/online-retail-ii-uci/online_retail_II.csv\")\n",
        "df"
      ]
    },
    {
      "cell_type": "markdown",
      "id": "710303e2",
      "metadata": {
        "id": "710303e2",
        "papermill": {
          "duration": 0.026702,
          "end_time": "2022-11-14T09:03:29.552003",
          "exception": false,
          "start_time": "2022-11-14T09:03:29.525301",
          "status": "completed"
        },
        "tags": []
      },
      "source": [
        "# <p style=\"background-color:#C71585;font-family:Georgia;color:white;text-align:left;border-radius:20px 20px;\"><b>Understanding the Dataset (EDA & Data Preprocessing)</b></p>"
      ]
    },
    {
      "cell_type": "code",
      "execution_count": null,
      "id": "1079b4c4",
      "metadata": {
        "execution": {
          "iopub.execute_input": "2022-11-14T09:03:29.609216Z",
          "iopub.status.busy": "2022-11-14T09:03:29.608570Z",
          "iopub.status.idle": "2022-11-14T09:03:29.614140Z",
          "shell.execute_reply": "2022-11-14T09:03:29.613525Z"
        },
        "id": "1079b4c4",
        "outputId": "37d820a4-d411-481a-dacc-3e1bf23b6ea5",
        "papermill": {
          "duration": 0.03582,
          "end_time": "2022-11-14T09:03:29.615707",
          "exception": false,
          "start_time": "2022-11-14T09:03:29.579887",
          "status": "completed"
        },
        "tags": []
      },
      "outputs": [
        {
          "data": {
            "text/plain": [
              "(1067371, 8)"
            ]
          },
          "execution_count": 4,
          "metadata": {},
          "output_type": "execute_result"
        }
      ],
      "source": [
        "df.shape"
      ]
    },
    {
      "cell_type": "code",
      "execution_count": null,
      "id": "44b5b46b",
      "metadata": {
        "execution": {
          "iopub.execute_input": "2022-11-14T09:03:29.673557Z",
          "iopub.status.busy": "2022-11-14T09:03:29.672886Z",
          "iopub.status.idle": "2022-11-14T09:03:29.893739Z",
          "shell.execute_reply": "2022-11-14T09:03:29.892454Z"
        },
        "id": "44b5b46b",
        "outputId": "2db07352-ab19-4094-be82-4e2e36f0315f",
        "papermill": {
          "duration": 0.252401,
          "end_time": "2022-11-14T09:03:29.896273",
          "exception": false,
          "start_time": "2022-11-14T09:03:29.643872",
          "status": "completed"
        },
        "scrolled": true,
        "tags": []
      },
      "outputs": [
        {
          "name": "stdout",
          "output_type": "stream",
          "text": [
            "<class 'pandas.core.frame.DataFrame'>\n",
            "RangeIndex: 1067371 entries, 0 to 1067370\n",
            "Data columns (total 8 columns):\n",
            " #   Column       Non-Null Count    Dtype  \n",
            "---  ------       --------------    -----  \n",
            " 0   Invoice      1067371 non-null  object \n",
            " 1   StockCode    1067371 non-null  object \n",
            " 2   Description  1062989 non-null  object \n",
            " 3   Quantity     1067371 non-null  int64  \n",
            " 4   InvoiceDate  1067371 non-null  object \n",
            " 5   Price        1067371 non-null  float64\n",
            " 6   Customer ID  824364 non-null   float64\n",
            " 7   Country      1067371 non-null  object \n",
            "dtypes: float64(2), int64(1), object(5)\n",
            "memory usage: 65.1+ MB\n"
          ]
        }
      ],
      "source": [
        "df.info()"
      ]
    },
    {
      "cell_type": "markdown",
      "id": "6a06a8c3",
      "metadata": {
        "id": "6a06a8c3",
        "papermill": {
          "duration": 0.027193,
          "end_time": "2022-11-14T09:03:29.952654",
          "exception": false,
          "start_time": "2022-11-14T09:03:29.925461",
          "status": "completed"
        },
        "tags": []
      },
      "source": [
        "Checking null data..."
      ]
    },
    {
      "cell_type": "code",
      "execution_count": null,
      "id": "968d945f",
      "metadata": {
        "execution": {
          "iopub.execute_input": "2022-11-14T09:03:30.009918Z",
          "iopub.status.busy": "2022-11-14T09:03:30.009586Z",
          "iopub.status.idle": "2022-11-14T09:03:30.205478Z",
          "shell.execute_reply": "2022-11-14T09:03:30.204444Z"
        },
        "id": "968d945f",
        "outputId": "80063f32-aa13-4629-8bfb-61b890b92c77",
        "papermill": {
          "duration": 0.227657,
          "end_time": "2022-11-14T09:03:30.208291",
          "exception": false,
          "start_time": "2022-11-14T09:03:29.980634",
          "status": "completed"
        },
        "tags": []
      },
      "outputs": [
        {
          "data": {
            "text/plain": [
              "Invoice             0\n",
              "StockCode           0\n",
              "Description      4382\n",
              "Quantity            0\n",
              "InvoiceDate         0\n",
              "Price               0\n",
              "Customer ID    243007\n",
              "Country             0\n",
              "dtype: int64"
            ]
          },
          "execution_count": 6,
          "metadata": {},
          "output_type": "execute_result"
        }
      ],
      "source": [
        "df.isnull().sum()"
      ]
    },
    {
      "cell_type": "markdown",
      "id": "ca108349",
      "metadata": {
        "id": "ca108349",
        "papermill": {
          "duration": 0.027708,
          "end_time": "2022-11-14T09:03:30.264464",
          "exception": false,
          "start_time": "2022-11-14T09:03:30.236756",
          "status": "completed"
        },
        "tags": []
      },
      "source": [
        "Only required features for our analysis:"
      ]
    },
    {
      "cell_type": "code",
      "execution_count": null,
      "id": "d0aed83e",
      "metadata": {
        "execution": {
          "iopub.execute_input": "2022-11-14T09:03:30.323163Z",
          "iopub.status.busy": "2022-11-14T09:03:30.322482Z",
          "iopub.status.idle": "2022-11-14T09:03:30.327908Z",
          "shell.execute_reply": "2022-11-14T09:03:30.326898Z"
        },
        "id": "d0aed83e",
        "papermill": {
          "duration": 0.037426,
          "end_time": "2022-11-14T09:03:30.330457",
          "exception": false,
          "start_time": "2022-11-14T09:03:30.293031",
          "status": "completed"
        },
        "tags": []
      },
      "outputs": [],
      "source": [
        "def drop_columns(df, columns):\n",
        "    df1= df.drop(columns, axis=1)\n",
        "    return df1"
      ]
    },
    {
      "cell_type": "code",
      "execution_count": null,
      "id": "2590c506",
      "metadata": {
        "execution": {
          "iopub.execute_input": "2022-11-14T09:03:30.389741Z",
          "iopub.status.busy": "2022-11-14T09:03:30.389347Z",
          "iopub.status.idle": "2022-11-14T09:03:30.434810Z",
          "shell.execute_reply": "2022-11-14T09:03:30.434004Z"
        },
        "id": "2590c506",
        "papermill": {
          "duration": 0.077918,
          "end_time": "2022-11-14T09:03:30.437150",
          "exception": false,
          "start_time": "2022-11-14T09:03:30.359232",
          "status": "completed"
        },
        "tags": []
      },
      "outputs": [],
      "source": [
        "df1= drop_columns(df, [\"Description\", \"Country\"])"
      ]
    },
    {
      "cell_type": "code",
      "execution_count": null,
      "id": "27334705",
      "metadata": {
        "execution": {
          "iopub.execute_input": "2022-11-14T09:03:30.496359Z",
          "iopub.status.busy": "2022-11-14T09:03:30.495946Z",
          "iopub.status.idle": "2022-11-14T09:03:30.514702Z",
          "shell.execute_reply": "2022-11-14T09:03:30.513807Z"
        },
        "id": "27334705",
        "outputId": "9220ad35-f48c-47dd-c66f-9ae40b545c44",
        "papermill": {
          "duration": 0.050168,
          "end_time": "2022-11-14T09:03:30.516483",
          "exception": false,
          "start_time": "2022-11-14T09:03:30.466315",
          "status": "completed"
        },
        "tags": []
      },
      "outputs": [
        {
          "data": {
            "text/html": [
              "<div>\n",
              "<style scoped>\n",
              "    .dataframe tbody tr th:only-of-type {\n",
              "        vertical-align: middle;\n",
              "    }\n",
              "\n",
              "    .dataframe tbody tr th {\n",
              "        vertical-align: top;\n",
              "    }\n",
              "\n",
              "    .dataframe thead th {\n",
              "        text-align: right;\n",
              "    }\n",
              "</style>\n",
              "<table border=\"1\" class=\"dataframe\">\n",
              "  <thead>\n",
              "    <tr style=\"text-align: right;\">\n",
              "      <th></th>\n",
              "      <th>Invoice</th>\n",
              "      <th>StockCode</th>\n",
              "      <th>Quantity</th>\n",
              "      <th>InvoiceDate</th>\n",
              "      <th>Price</th>\n",
              "      <th>Customer ID</th>\n",
              "    </tr>\n",
              "  </thead>\n",
              "  <tbody>\n",
              "    <tr>\n",
              "      <th>0</th>\n",
              "      <td>489434</td>\n",
              "      <td>85048</td>\n",
              "      <td>12</td>\n",
              "      <td>2009-12-01 07:45:00</td>\n",
              "      <td>6.95</td>\n",
              "      <td>13085.0</td>\n",
              "    </tr>\n",
              "    <tr>\n",
              "      <th>1</th>\n",
              "      <td>489434</td>\n",
              "      <td>79323P</td>\n",
              "      <td>12</td>\n",
              "      <td>2009-12-01 07:45:00</td>\n",
              "      <td>6.75</td>\n",
              "      <td>13085.0</td>\n",
              "    </tr>\n",
              "    <tr>\n",
              "      <th>2</th>\n",
              "      <td>489434</td>\n",
              "      <td>79323W</td>\n",
              "      <td>12</td>\n",
              "      <td>2009-12-01 07:45:00</td>\n",
              "      <td>6.75</td>\n",
              "      <td>13085.0</td>\n",
              "    </tr>\n",
              "    <tr>\n",
              "      <th>3</th>\n",
              "      <td>489434</td>\n",
              "      <td>22041</td>\n",
              "      <td>48</td>\n",
              "      <td>2009-12-01 07:45:00</td>\n",
              "      <td>2.10</td>\n",
              "      <td>13085.0</td>\n",
              "    </tr>\n",
              "    <tr>\n",
              "      <th>4</th>\n",
              "      <td>489434</td>\n",
              "      <td>21232</td>\n",
              "      <td>24</td>\n",
              "      <td>2009-12-01 07:45:00</td>\n",
              "      <td>1.25</td>\n",
              "      <td>13085.0</td>\n",
              "    </tr>\n",
              "    <tr>\n",
              "      <th>...</th>\n",
              "      <td>...</td>\n",
              "      <td>...</td>\n",
              "      <td>...</td>\n",
              "      <td>...</td>\n",
              "      <td>...</td>\n",
              "      <td>...</td>\n",
              "    </tr>\n",
              "    <tr>\n",
              "      <th>1067366</th>\n",
              "      <td>581587</td>\n",
              "      <td>22899</td>\n",
              "      <td>6</td>\n",
              "      <td>2011-12-09 12:50:00</td>\n",
              "      <td>2.10</td>\n",
              "      <td>12680.0</td>\n",
              "    </tr>\n",
              "    <tr>\n",
              "      <th>1067367</th>\n",
              "      <td>581587</td>\n",
              "      <td>23254</td>\n",
              "      <td>4</td>\n",
              "      <td>2011-12-09 12:50:00</td>\n",
              "      <td>4.15</td>\n",
              "      <td>12680.0</td>\n",
              "    </tr>\n",
              "    <tr>\n",
              "      <th>1067368</th>\n",
              "      <td>581587</td>\n",
              "      <td>23255</td>\n",
              "      <td>4</td>\n",
              "      <td>2011-12-09 12:50:00</td>\n",
              "      <td>4.15</td>\n",
              "      <td>12680.0</td>\n",
              "    </tr>\n",
              "    <tr>\n",
              "      <th>1067369</th>\n",
              "      <td>581587</td>\n",
              "      <td>22138</td>\n",
              "      <td>3</td>\n",
              "      <td>2011-12-09 12:50:00</td>\n",
              "      <td>4.95</td>\n",
              "      <td>12680.0</td>\n",
              "    </tr>\n",
              "    <tr>\n",
              "      <th>1067370</th>\n",
              "      <td>581587</td>\n",
              "      <td>POST</td>\n",
              "      <td>1</td>\n",
              "      <td>2011-12-09 12:50:00</td>\n",
              "      <td>18.00</td>\n",
              "      <td>12680.0</td>\n",
              "    </tr>\n",
              "  </tbody>\n",
              "</table>\n",
              "<p>1067371 rows × 6 columns</p>\n",
              "</div>"
            ],
            "text/plain": [
              "        Invoice StockCode  Quantity          InvoiceDate  Price  Customer ID\n",
              "0        489434     85048        12  2009-12-01 07:45:00   6.95      13085.0\n",
              "1        489434    79323P        12  2009-12-01 07:45:00   6.75      13085.0\n",
              "2        489434    79323W        12  2009-12-01 07:45:00   6.75      13085.0\n",
              "3        489434     22041        48  2009-12-01 07:45:00   2.10      13085.0\n",
              "4        489434     21232        24  2009-12-01 07:45:00   1.25      13085.0\n",
              "...         ...       ...       ...                  ...    ...          ...\n",
              "1067366  581587     22899         6  2011-12-09 12:50:00   2.10      12680.0\n",
              "1067367  581587     23254         4  2011-12-09 12:50:00   4.15      12680.0\n",
              "1067368  581587     23255         4  2011-12-09 12:50:00   4.15      12680.0\n",
              "1067369  581587     22138         3  2011-12-09 12:50:00   4.95      12680.0\n",
              "1067370  581587      POST         1  2011-12-09 12:50:00  18.00      12680.0\n",
              "\n",
              "[1067371 rows x 6 columns]"
            ]
          },
          "execution_count": 9,
          "metadata": {},
          "output_type": "execute_result"
        }
      ],
      "source": [
        "df1"
      ]
    },
    {
      "cell_type": "code",
      "execution_count": null,
      "id": "98f3308f",
      "metadata": {
        "execution": {
          "iopub.execute_input": "2022-11-14T09:03:30.575566Z",
          "iopub.status.busy": "2022-11-14T09:03:30.575027Z",
          "iopub.status.idle": "2022-11-14T09:03:30.698346Z",
          "shell.execute_reply": "2022-11-14T09:03:30.697482Z"
        },
        "id": "98f3308f",
        "outputId": "f0ee61d4-a20d-4ca3-b3b9-97d613834d09",
        "papermill": {
          "duration": 0.157288,
          "end_time": "2022-11-14T09:03:30.701579",
          "exception": false,
          "start_time": "2022-11-14T09:03:30.544291",
          "status": "completed"
        },
        "tags": []
      },
      "outputs": [
        {
          "data": {
            "text/plain": [
              "Invoice             0\n",
              "StockCode           0\n",
              "Quantity            0\n",
              "InvoiceDate         0\n",
              "Price               0\n",
              "Customer ID    243007\n",
              "dtype: int64"
            ]
          },
          "execution_count": 10,
          "metadata": {},
          "output_type": "execute_result"
        }
      ],
      "source": [
        "df1.isnull().sum()"
      ]
    },
    {
      "cell_type": "code",
      "execution_count": null,
      "id": "d1dc4e07",
      "metadata": {
        "execution": {
          "iopub.execute_input": "2022-11-14T09:03:30.765454Z",
          "iopub.status.busy": "2022-11-14T09:03:30.765082Z",
          "iopub.status.idle": "2022-11-14T09:03:30.956694Z",
          "shell.execute_reply": "2022-11-14T09:03:30.955718Z"
        },
        "id": "d1dc4e07",
        "papermill": {
          "duration": 0.227157,
          "end_time": "2022-11-14T09:03:30.958880",
          "exception": false,
          "start_time": "2022-11-14T09:03:30.731723",
          "status": "completed"
        },
        "tags": []
      },
      "outputs": [],
      "source": [
        "#Let's drop the rows containing NaN\n",
        "df1.dropna(inplace=True)"
      ]
    },
    {
      "cell_type": "markdown",
      "id": "ff2b81ab",
      "metadata": {
        "id": "ff2b81ab",
        "papermill": {
          "duration": 0.028881,
          "end_time": "2022-11-14T09:03:31.015903",
          "exception": false,
          "start_time": "2022-11-14T09:03:30.987022",
          "status": "completed"
        },
        "tags": []
      },
      "source": [
        "Checking duplicate rows..."
      ]
    },
    {
      "cell_type": "code",
      "execution_count": null,
      "id": "cd02f63d",
      "metadata": {
        "execution": {
          "iopub.execute_input": "2022-11-14T09:03:31.076550Z",
          "iopub.status.busy": "2022-11-14T09:03:31.076189Z",
          "iopub.status.idle": "2022-11-14T09:03:31.419886Z",
          "shell.execute_reply": "2022-11-14T09:03:31.418713Z"
        },
        "id": "cd02f63d",
        "outputId": "1ee6103b-ddc1-47ea-ed13-716194555360",
        "papermill": {
          "duration": 0.376133,
          "end_time": "2022-11-14T09:03:31.422103",
          "exception": false,
          "start_time": "2022-11-14T09:03:31.045970",
          "status": "completed"
        },
        "tags": []
      },
      "outputs": [
        {
          "data": {
            "text/html": [
              "<div>\n",
              "<style scoped>\n",
              "    .dataframe tbody tr th:only-of-type {\n",
              "        vertical-align: middle;\n",
              "    }\n",
              "\n",
              "    .dataframe tbody tr th {\n",
              "        vertical-align: top;\n",
              "    }\n",
              "\n",
              "    .dataframe thead th {\n",
              "        text-align: right;\n",
              "    }\n",
              "</style>\n",
              "<table border=\"1\" class=\"dataframe\">\n",
              "  <thead>\n",
              "    <tr style=\"text-align: right;\">\n",
              "      <th></th>\n",
              "      <th>Invoice</th>\n",
              "      <th>StockCode</th>\n",
              "      <th>Quantity</th>\n",
              "      <th>InvoiceDate</th>\n",
              "      <th>Price</th>\n",
              "      <th>Customer ID</th>\n",
              "    </tr>\n",
              "  </thead>\n",
              "  <tbody>\n",
              "    <tr>\n",
              "      <th>371</th>\n",
              "      <td>489517</td>\n",
              "      <td>21912</td>\n",
              "      <td>1</td>\n",
              "      <td>2009-12-01 11:34:00</td>\n",
              "      <td>3.75</td>\n",
              "      <td>16329.0</td>\n",
              "    </tr>\n",
              "    <tr>\n",
              "      <th>383</th>\n",
              "      <td>489517</td>\n",
              "      <td>22130</td>\n",
              "      <td>6</td>\n",
              "      <td>2009-12-01 11:34:00</td>\n",
              "      <td>0.85</td>\n",
              "      <td>16329.0</td>\n",
              "    </tr>\n",
              "    <tr>\n",
              "      <th>384</th>\n",
              "      <td>489517</td>\n",
              "      <td>22319</td>\n",
              "      <td>12</td>\n",
              "      <td>2009-12-01 11:34:00</td>\n",
              "      <td>0.65</td>\n",
              "      <td>16329.0</td>\n",
              "    </tr>\n",
              "    <tr>\n",
              "      <th>385</th>\n",
              "      <td>489517</td>\n",
              "      <td>21913</td>\n",
              "      <td>1</td>\n",
              "      <td>2009-12-01 11:34:00</td>\n",
              "      <td>3.75</td>\n",
              "      <td>16329.0</td>\n",
              "    </tr>\n",
              "    <tr>\n",
              "      <th>386</th>\n",
              "      <td>489517</td>\n",
              "      <td>21821</td>\n",
              "      <td>1</td>\n",
              "      <td>2009-12-01 11:34:00</td>\n",
              "      <td>3.75</td>\n",
              "      <td>16329.0</td>\n",
              "    </tr>\n",
              "    <tr>\n",
              "      <th>...</th>\n",
              "      <td>...</td>\n",
              "      <td>...</td>\n",
              "      <td>...</td>\n",
              "      <td>...</td>\n",
              "      <td>...</td>\n",
              "      <td>...</td>\n",
              "    </tr>\n",
              "    <tr>\n",
              "      <th>1067136</th>\n",
              "      <td>581538</td>\n",
              "      <td>22068</td>\n",
              "      <td>1</td>\n",
              "      <td>2011-12-09 11:34:00</td>\n",
              "      <td>0.39</td>\n",
              "      <td>14446.0</td>\n",
              "    </tr>\n",
              "    <tr>\n",
              "      <th>1067150</th>\n",
              "      <td>581538</td>\n",
              "      <td>23318</td>\n",
              "      <td>1</td>\n",
              "      <td>2011-12-09 11:34:00</td>\n",
              "      <td>2.49</td>\n",
              "      <td>14446.0</td>\n",
              "    </tr>\n",
              "    <tr>\n",
              "      <th>1067153</th>\n",
              "      <td>581538</td>\n",
              "      <td>22992</td>\n",
              "      <td>1</td>\n",
              "      <td>2011-12-09 11:34:00</td>\n",
              "      <td>1.95</td>\n",
              "      <td>14446.0</td>\n",
              "    </tr>\n",
              "    <tr>\n",
              "      <th>1067160</th>\n",
              "      <td>581538</td>\n",
              "      <td>22694</td>\n",
              "      <td>1</td>\n",
              "      <td>2011-12-09 11:34:00</td>\n",
              "      <td>2.10</td>\n",
              "      <td>14446.0</td>\n",
              "    </tr>\n",
              "    <tr>\n",
              "      <th>1067162</th>\n",
              "      <td>581538</td>\n",
              "      <td>23343</td>\n",
              "      <td>1</td>\n",
              "      <td>2011-12-09 11:34:00</td>\n",
              "      <td>2.08</td>\n",
              "      <td>14446.0</td>\n",
              "    </tr>\n",
              "  </tbody>\n",
              "</table>\n",
              "<p>26481 rows × 6 columns</p>\n",
              "</div>"
            ],
            "text/plain": [
              "        Invoice StockCode  Quantity          InvoiceDate  Price  Customer ID\n",
              "371      489517     21912         1  2009-12-01 11:34:00   3.75      16329.0\n",
              "383      489517     22130         6  2009-12-01 11:34:00   0.85      16329.0\n",
              "384      489517     22319        12  2009-12-01 11:34:00   0.65      16329.0\n",
              "385      489517     21913         1  2009-12-01 11:34:00   3.75      16329.0\n",
              "386      489517     21821         1  2009-12-01 11:34:00   3.75      16329.0\n",
              "...         ...       ...       ...                  ...    ...          ...\n",
              "1067136  581538     22068         1  2011-12-09 11:34:00   0.39      14446.0\n",
              "1067150  581538     23318         1  2011-12-09 11:34:00   2.49      14446.0\n",
              "1067153  581538     22992         1  2011-12-09 11:34:00   1.95      14446.0\n",
              "1067160  581538     22694         1  2011-12-09 11:34:00   2.10      14446.0\n",
              "1067162  581538     23343         1  2011-12-09 11:34:00   2.08      14446.0\n",
              "\n",
              "[26481 rows x 6 columns]"
            ]
          },
          "execution_count": 12,
          "metadata": {},
          "output_type": "execute_result"
        }
      ],
      "source": [
        "df1[df1.duplicated()]"
      ]
    },
    {
      "cell_type": "markdown",
      "id": "be6c3222",
      "metadata": {
        "id": "be6c3222",
        "papermill": {
          "duration": 0.028404,
          "end_time": "2022-11-14T09:03:31.479649",
          "exception": false,
          "start_time": "2022-11-14T09:03:31.451245",
          "status": "completed"
        },
        "tags": []
      },
      "source": [
        "let's check any row:"
      ]
    },
    {
      "cell_type": "code",
      "execution_count": null,
      "id": "ab208e5d",
      "metadata": {
        "execution": {
          "iopub.execute_input": "2022-11-14T09:03:31.538741Z",
          "iopub.status.busy": "2022-11-14T09:03:31.538058Z",
          "iopub.status.idle": "2022-11-14T09:03:31.644778Z",
          "shell.execute_reply": "2022-11-14T09:03:31.643410Z"
        },
        "id": "ab208e5d",
        "outputId": "c2f19cde-8b8f-4176-ebb2-19683c3050a0",
        "papermill": {
          "duration": 0.139136,
          "end_time": "2022-11-14T09:03:31.647349",
          "exception": false,
          "start_time": "2022-11-14T09:03:31.508213",
          "status": "completed"
        },
        "tags": []
      },
      "outputs": [
        {
          "data": {
            "text/html": [
              "<div>\n",
              "<style scoped>\n",
              "    .dataframe tbody tr th:only-of-type {\n",
              "        vertical-align: middle;\n",
              "    }\n",
              "\n",
              "    .dataframe tbody tr th {\n",
              "        vertical-align: top;\n",
              "    }\n",
              "\n",
              "    .dataframe thead th {\n",
              "        text-align: right;\n",
              "    }\n",
              "</style>\n",
              "<table border=\"1\" class=\"dataframe\">\n",
              "  <thead>\n",
              "    <tr style=\"text-align: right;\">\n",
              "      <th></th>\n",
              "      <th>Invoice</th>\n",
              "      <th>StockCode</th>\n",
              "      <th>Quantity</th>\n",
              "      <th>InvoiceDate</th>\n",
              "      <th>Price</th>\n",
              "      <th>Customer ID</th>\n",
              "    </tr>\n",
              "  </thead>\n",
              "  <tbody>\n",
              "    <tr>\n",
              "      <th>363</th>\n",
              "      <td>489517</td>\n",
              "      <td>21912</td>\n",
              "      <td>1</td>\n",
              "      <td>2009-12-01 11:34:00</td>\n",
              "      <td>3.75</td>\n",
              "      <td>16329.0</td>\n",
              "    </tr>\n",
              "    <tr>\n",
              "      <th>371</th>\n",
              "      <td>489517</td>\n",
              "      <td>21912</td>\n",
              "      <td>1</td>\n",
              "      <td>2009-12-01 11:34:00</td>\n",
              "      <td>3.75</td>\n",
              "      <td>16329.0</td>\n",
              "    </tr>\n",
              "    <tr>\n",
              "      <th>394</th>\n",
              "      <td>489517</td>\n",
              "      <td>21912</td>\n",
              "      <td>1</td>\n",
              "      <td>2009-12-01 11:34:00</td>\n",
              "      <td>3.75</td>\n",
              "      <td>16329.0</td>\n",
              "    </tr>\n",
              "  </tbody>\n",
              "</table>\n",
              "</div>"
            ],
            "text/plain": [
              "    Invoice StockCode  Quantity          InvoiceDate  Price  Customer ID\n",
              "363  489517     21912         1  2009-12-01 11:34:00   3.75      16329.0\n",
              "371  489517     21912         1  2009-12-01 11:34:00   3.75      16329.0\n",
              "394  489517     21912         1  2009-12-01 11:34:00   3.75      16329.0"
            ]
          },
          "execution_count": 13,
          "metadata": {},
          "output_type": "execute_result"
        }
      ],
      "source": [
        "df1.loc[(df1.Invoice==\"489517\") & (df1.StockCode==\"21912\")]"
      ]
    },
    {
      "cell_type": "code",
      "execution_count": null,
      "id": "75af1ccc",
      "metadata": {
        "execution": {
          "iopub.execute_input": "2022-11-14T09:03:31.708745Z",
          "iopub.status.busy": "2022-11-14T09:03:31.707519Z",
          "iopub.status.idle": "2022-11-14T09:03:32.031137Z",
          "shell.execute_reply": "2022-11-14T09:03:32.029767Z"
        },
        "id": "75af1ccc",
        "outputId": "7203a8ad-c8a4-45c6-bad6-7e4afb4d61fe",
        "papermill": {
          "duration": 0.356489,
          "end_time": "2022-11-14T09:03:32.033303",
          "exception": false,
          "start_time": "2022-11-14T09:03:31.676814",
          "status": "completed"
        },
        "tags": []
      },
      "outputs": [
        {
          "data": {
            "text/plain": [
              "26481"
            ]
          },
          "execution_count": 14,
          "metadata": {},
          "output_type": "execute_result"
        }
      ],
      "source": [
        "len(df1[df1.duplicated()])"
      ]
    },
    {
      "cell_type": "markdown",
      "id": "02630def",
      "metadata": {
        "id": "02630def",
        "papermill": {
          "duration": 0.029242,
          "end_time": "2022-11-14T09:03:32.093125",
          "exception": false,
          "start_time": "2022-11-14T09:03:32.063883",
          "status": "completed"
        },
        "tags": []
      },
      "source": [
        "There are 26481 duplicate rows, let's drop them:"
      ]
    },
    {
      "cell_type": "code",
      "execution_count": null,
      "id": "7b52d88e",
      "metadata": {
        "execution": {
          "iopub.execute_input": "2022-11-14T09:03:32.153809Z",
          "iopub.status.busy": "2022-11-14T09:03:32.153341Z",
          "iopub.status.idle": "2022-11-14T09:03:32.553113Z",
          "shell.execute_reply": "2022-11-14T09:03:32.552173Z"
        },
        "id": "7b52d88e",
        "papermill": {
          "duration": 0.433013,
          "end_time": "2022-11-14T09:03:32.555435",
          "exception": false,
          "start_time": "2022-11-14T09:03:32.122422",
          "status": "completed"
        },
        "tags": []
      },
      "outputs": [],
      "source": [
        "df1.drop(df1[df1.duplicated()].index, axis=0, inplace=True)"
      ]
    },
    {
      "cell_type": "code",
      "execution_count": null,
      "id": "2d8e9be3",
      "metadata": {
        "execution": {
          "iopub.execute_input": "2022-11-14T09:03:32.615611Z",
          "iopub.status.busy": "2022-11-14T09:03:32.614499Z",
          "iopub.status.idle": "2022-11-14T09:03:32.621822Z",
          "shell.execute_reply": "2022-11-14T09:03:32.620487Z"
        },
        "id": "2d8e9be3",
        "outputId": "78c16fb9-830d-4998-fe6d-828b809f5b92",
        "papermill": {
          "duration": 0.039474,
          "end_time": "2022-11-14T09:03:32.623828",
          "exception": false,
          "start_time": "2022-11-14T09:03:32.584354",
          "status": "completed"
        },
        "tags": []
      },
      "outputs": [
        {
          "data": {
            "text/plain": [
              "(797883, 6)"
            ]
          },
          "execution_count": 16,
          "metadata": {},
          "output_type": "execute_result"
        }
      ],
      "source": [
        "df1.shape"
      ]
    },
    {
      "cell_type": "code",
      "execution_count": null,
      "id": "ef65de43",
      "metadata": {
        "execution": {
          "iopub.execute_input": "2022-11-14T09:03:32.686837Z",
          "iopub.status.busy": "2022-11-14T09:03:32.686431Z",
          "iopub.status.idle": "2022-11-14T09:03:32.783201Z",
          "shell.execute_reply": "2022-11-14T09:03:32.782536Z"
        },
        "id": "ef65de43",
        "outputId": "378a520f-0e10-4a15-a064-1bf59565b345",
        "papermill": {
          "duration": 0.131739,
          "end_time": "2022-11-14T09:03:32.785125",
          "exception": false,
          "start_time": "2022-11-14T09:03:32.653386",
          "status": "completed"
        },
        "tags": []
      },
      "outputs": [
        {
          "name": "stdout",
          "output_type": "stream",
          "text": [
            "<class 'pandas.core.frame.DataFrame'>\n",
            "Int64Index: 797883 entries, 0 to 1067370\n",
            "Data columns (total 6 columns):\n",
            " #   Column       Non-Null Count   Dtype  \n",
            "---  ------       --------------   -----  \n",
            " 0   Invoice      797883 non-null  object \n",
            " 1   StockCode    797883 non-null  object \n",
            " 2   Quantity     797883 non-null  int64  \n",
            " 3   InvoiceDate  797883 non-null  object \n",
            " 4   Price        797883 non-null  float64\n",
            " 5   Customer ID  797883 non-null  float64\n",
            "dtypes: float64(2), int64(1), object(3)\n",
            "memory usage: 42.6+ MB\n"
          ]
        }
      ],
      "source": [
        "# now, no \"NULL\" and \"duplicate\" data\n",
        "df1.info()"
      ]
    },
    {
      "cell_type": "code",
      "execution_count": null,
      "id": "358e4f25",
      "metadata": {
        "execution": {
          "iopub.execute_input": "2022-11-14T09:03:32.846059Z",
          "iopub.status.busy": "2022-11-14T09:03:32.845644Z",
          "iopub.status.idle": "2022-11-14T09:03:32.858068Z",
          "shell.execute_reply": "2022-11-14T09:03:32.856982Z"
        },
        "id": "358e4f25",
        "outputId": "35b98aa5-a646-4197-c2ca-ae8884dc0999",
        "papermill": {
          "duration": 0.045241,
          "end_time": "2022-11-14T09:03:32.860057",
          "exception": false,
          "start_time": "2022-11-14T09:03:32.814816",
          "status": "completed"
        },
        "scrolled": true,
        "tags": []
      },
      "outputs": [
        {
          "data": {
            "text/html": [
              "<div>\n",
              "<style scoped>\n",
              "    .dataframe tbody tr th:only-of-type {\n",
              "        vertical-align: middle;\n",
              "    }\n",
              "\n",
              "    .dataframe tbody tr th {\n",
              "        vertical-align: top;\n",
              "    }\n",
              "\n",
              "    .dataframe thead th {\n",
              "        text-align: right;\n",
              "    }\n",
              "</style>\n",
              "<table border=\"1\" class=\"dataframe\">\n",
              "  <thead>\n",
              "    <tr style=\"text-align: right;\">\n",
              "      <th></th>\n",
              "      <th>Invoice</th>\n",
              "      <th>StockCode</th>\n",
              "      <th>Quantity</th>\n",
              "      <th>InvoiceDate</th>\n",
              "      <th>Price</th>\n",
              "      <th>Customer ID</th>\n",
              "    </tr>\n",
              "  </thead>\n",
              "  <tbody>\n",
              "    <tr>\n",
              "      <th>0</th>\n",
              "      <td>489434</td>\n",
              "      <td>85048</td>\n",
              "      <td>12</td>\n",
              "      <td>2009-12-01 07:45:00</td>\n",
              "      <td>6.95</td>\n",
              "      <td>13085.0</td>\n",
              "    </tr>\n",
              "    <tr>\n",
              "      <th>1</th>\n",
              "      <td>489434</td>\n",
              "      <td>79323P</td>\n",
              "      <td>12</td>\n",
              "      <td>2009-12-01 07:45:00</td>\n",
              "      <td>6.75</td>\n",
              "      <td>13085.0</td>\n",
              "    </tr>\n",
              "    <tr>\n",
              "      <th>2</th>\n",
              "      <td>489434</td>\n",
              "      <td>79323W</td>\n",
              "      <td>12</td>\n",
              "      <td>2009-12-01 07:45:00</td>\n",
              "      <td>6.75</td>\n",
              "      <td>13085.0</td>\n",
              "    </tr>\n",
              "    <tr>\n",
              "      <th>3</th>\n",
              "      <td>489434</td>\n",
              "      <td>22041</td>\n",
              "      <td>48</td>\n",
              "      <td>2009-12-01 07:45:00</td>\n",
              "      <td>2.10</td>\n",
              "      <td>13085.0</td>\n",
              "    </tr>\n",
              "    <tr>\n",
              "      <th>4</th>\n",
              "      <td>489434</td>\n",
              "      <td>21232</td>\n",
              "      <td>24</td>\n",
              "      <td>2009-12-01 07:45:00</td>\n",
              "      <td>1.25</td>\n",
              "      <td>13085.0</td>\n",
              "    </tr>\n",
              "  </tbody>\n",
              "</table>\n",
              "</div>"
            ],
            "text/plain": [
              "  Invoice StockCode  Quantity          InvoiceDate  Price  Customer ID\n",
              "0  489434     85048        12  2009-12-01 07:45:00   6.95      13085.0\n",
              "1  489434    79323P        12  2009-12-01 07:45:00   6.75      13085.0\n",
              "2  489434    79323W        12  2009-12-01 07:45:00   6.75      13085.0\n",
              "3  489434     22041        48  2009-12-01 07:45:00   2.10      13085.0\n",
              "4  489434     21232        24  2009-12-01 07:45:00   1.25      13085.0"
            ]
          },
          "execution_count": 18,
          "metadata": {},
          "output_type": "execute_result"
        }
      ],
      "source": [
        "df1.head()"
      ]
    },
    {
      "cell_type": "markdown",
      "id": "db827e8e",
      "metadata": {
        "id": "db827e8e",
        "papermill": {
          "duration": 0.028963,
          "end_time": "2022-11-14T09:03:32.919286",
          "exception": false,
          "start_time": "2022-11-14T09:03:32.890323",
          "status": "completed"
        },
        "tags": []
      },
      "source": [
        "# <p style=\"background-color:#C71585;font-family:Georgia;color:white;text-align:left;border-radius:20px 20px;\"><b>Handling Columns</b></p>"
      ]
    },
    {
      "cell_type": "markdown",
      "id": "70b40985",
      "metadata": {
        "id": "70b40985",
        "papermill": {
          "duration": 0.030593,
          "end_time": "2022-11-14T09:03:32.984192",
          "exception": false,
          "start_time": "2022-11-14T09:03:32.953599",
          "status": "completed"
        },
        "tags": []
      },
      "source": [
        "Let's create a new feature: \"TotalPrice\""
      ]
    },
    {
      "cell_type": "code",
      "execution_count": null,
      "id": "cfacdcbd",
      "metadata": {
        "execution": {
          "iopub.execute_input": "2022-11-14T09:03:33.049211Z",
          "iopub.status.busy": "2022-11-14T09:03:33.048830Z",
          "iopub.status.idle": "2022-11-14T09:03:33.068135Z",
          "shell.execute_reply": "2022-11-14T09:03:33.066537Z"
        },
        "id": "cfacdcbd",
        "papermill": {
          "duration": 0.055056,
          "end_time": "2022-11-14T09:03:33.070633",
          "exception": false,
          "start_time": "2022-11-14T09:03:33.015577",
          "status": "completed"
        },
        "tags": []
      },
      "outputs": [],
      "source": [
        "df2= df1.copy()\n",
        "df2[\"TotalPrice\"] = df2[\"Quantity\"] * df2[\"Price\"]"
      ]
    },
    {
      "cell_type": "code",
      "execution_count": null,
      "id": "fca1dd34",
      "metadata": {
        "execution": {
          "iopub.execute_input": "2022-11-14T09:03:33.134520Z",
          "iopub.status.busy": "2022-11-14T09:03:33.132658Z",
          "iopub.status.idle": "2022-11-14T09:03:33.339533Z",
          "shell.execute_reply": "2022-11-14T09:03:33.338850Z"
        },
        "id": "fca1dd34",
        "outputId": "aa0a70ce-2594-48f7-82f2-25609531b558",
        "papermill": {
          "duration": 0.240919,
          "end_time": "2022-11-14T09:03:33.341435",
          "exception": false,
          "start_time": "2022-11-14T09:03:33.100516",
          "status": "completed"
        },
        "tags": []
      },
      "outputs": [
        {
          "name": "stdout",
          "output_type": "stream",
          "text": [
            "Invoice column, unique values:  ['489434' '489435' '489436' ... '581585' '581586' '581587']\n",
            "************\n",
            "\n",
            "StockCode column, unique values:  ['85048' '79323P' '79323W' ... '23562' '23561' '23843']\n",
            "************\n",
            "\n",
            "Quantity column, unique values:  [    12     48     24     10     18      3     16      4      2      6\n",
            "      8      1     28     30     60     32     56      9     25     36\n",
            "     20    -12     -6     -4    -24     -3     -2    576    288     27\n",
            "     64    160      5     -1     72     50     54      7    800     11\n",
            "     58    192     96    144    100    180    216     15    240    108\n",
            "     33     90     81    -81    -48     17     -5     40     -8     -9\n",
            "     13     21    120    200    168     19    280    128   -150    -18\n",
            "    -23     80    300    450     14     61    480     -7     46    504\n",
            "     45   4320   5184   4008     22    600    505    500     23     47\n",
            "    432    252     75    -16   -504   -600   -252   -246    -36    360\n",
            "    107     49     42     66    -10     34     52    400     70    936\n",
            "    -32    -60    -96    -50   -120     35    -64   -168    -30    256\n",
            "   1500    320    130   1002     26   1080     29    -13     67    960\n",
            "    864    150    126    468    336   3000    -25     38    208    334\n",
            "    124    125    117   -200     39    -20     55    -11     78   -100\n",
            "    -17   -144     77    350    526     98    112     59     37    -14\n",
            "    408   1440    832    624    204    198    608    224     43     65\n",
            "    720    271     41    264    225    104    163    187    312    164\n",
            "    110   -190    250    -72    284     89    118   -400   6012    866\n",
            "   6144   2040   2520   3888   5280   4800   6768   9312    384     44\n",
            "    -44    132   -132    -27    229     62     82    114    -26    156\n",
            "    -22    460     84   -300    374    190    484    -21  19152   3312\n",
            "   1344   2504   1968    482   4176   2880   6696   1200   1800   1400\n",
            "   4200    696   3360   3200   3040   2700     51  -2504   9456    176\n",
            "    -40    900     53   -192   -240    -15    152    700     74   1008\n",
            "   -432   -108    141    537     88    140    -28    -80     31    205\n",
            "    247    372   2016     87    992  12960  12480  12744   1110   4608\n",
            "   5364    420     68     91    148   1000    640  10000    -74    135\n",
            "     76    840    816    324    -42    648     85   1152    102   -408\n",
            "    -38   -128  -1440    -34    498    768   -288   -204   -160    246\n",
            "     71    516    270    560   -309    392    -19    396    612    322\n",
            "   -500   -280   -140   -250   -156    105    175    136    171  -1200\n",
            "    -69   -312    -51    -49   5000   2500    808   2664   1728    228\n",
            "   2972   1098   1128    276    -41    134    830   -830    210   -210\n",
            "    730    122    293   3500    -98    -99   1056    220    352    -29\n",
            "    -61   2000   -576   -320   -648    248    330   -720     95    -85\n",
            "   -264    235    -90    174    -55   2304   1120    -46    -33    985\n",
            "   3936   2976   4752   1872   1116    567    684    984   1308   2112\n",
            "   2952   4992   2496   3648   1536   1248   1632   7008   7128   3072\n",
            "    444   3744   1104     63    327   -180   -118     97     57    121\n",
            "    394   1920   3960    876    756    672   -324    189   2004   1512\n",
            "    704    760    464    520  -5184  -1248  -1536   -864  -3648  -2496\n",
            "  -4992  -2952  -2112  -1308   -984   -768   -684   -567  -1116   -372\n",
            "   -480  -1872  -4752  -4320  -1104   -960  -4608  -2000  -3744   -444\n",
            "  -3072  -7128  -7008  -1632  -2976  -3936    139    -35    -31    162\n",
            "    448    304    -59   3120   1224   -700    196    201    402    625\n",
            "   1240  -1152   -384    888    -56   -148    512   1944   1960   9360\n",
            "   6336   -270    169    243   -243   2400    213    212  -2400   1680\n",
            "   -248   -256   1584   -212   -213   -110    -82    -68    -45    -37\n",
            "    -65   -129   -117  -9360   1824     69    378    972   1488   1394\n",
            "    272    -47   1296    147    860   1010   1356   1284    186   1930\n",
            "   3114   1300    670  74215 -74215    456    -94   2592    -76    407\n",
            "   3906    -86   -102   2160    342   -624    151    -58   -670  -1300\n",
            "  -1930  -3114    462    492    273   1350    428  -1350    101    227\n",
            "    222    906    552    738   4300    -52   1600    323   1515  -1515\n",
            "    660   -420    188    588   -164    430    701    828    540    291\n",
            "   3186     83     79   -360    -75    109   -121    129    261    348\n",
            "   1900    157    -39    116    968    824   -828   -701    410    236\n",
            "    230   -334   -318   -126   -113     86     93    494     92   1788\n",
            "    744    416    496    306   1878    666    708   1428    852   1412\n",
            "    528   -756   -152    -79    -43    183   -186    -53    -70   1540\n",
            "   -130   -220   -840  -1296     94    255   -468    -66   -112    912\n",
            "   1992    232    630   1020   2100   -162    -67   -276   -184    234\n",
            "    244   -244   -234  12540    115    774    490    388    620   1404\n",
            "    698  80995 -80995]\n",
            "************\n",
            "\n",
            "InvoiceDate column, unique values:  ['2009-12-01 07:45:00' '2009-12-01 07:46:00' '2009-12-01 09:06:00' ...\n",
            " '2011-12-09 12:31:00' '2011-12-09 12:49:00' '2011-12-09 12:50:00']\n",
            "************\n",
            "\n",
            "Price column, unique values:  [  6.95   6.75   2.1  ...  13.35   4.76 224.69]\n",
            "************\n",
            "\n",
            "Customer ID column, unique values:  [13085. 13078. 15362. ... 15520. 13298. 12713.]\n",
            "************\n",
            "\n",
            "TotalPrice column, unique values:  [ 83.4   81.   100.8  ...  25.08 469.44  66.36]\n",
            "************\n",
            "\n"
          ]
        }
      ],
      "source": [
        "for i in df2.columns:\n",
        "    print(i, \"column, unique values: \", df2[i].unique())\n",
        "    print(\"************\")\n",
        "    print(\"\")"
      ]
    },
    {
      "cell_type": "code",
      "execution_count": null,
      "id": "2dc80df6",
      "metadata": {
        "execution": {
          "iopub.execute_input": "2022-11-14T09:03:33.406191Z",
          "iopub.status.busy": "2022-11-14T09:03:33.405268Z",
          "iopub.status.idle": "2022-11-14T09:03:33.606526Z",
          "shell.execute_reply": "2022-11-14T09:03:33.605615Z"
        },
        "id": "2dc80df6",
        "outputId": "ad748414-ad9f-4948-8fb4-5060650cd847",
        "papermill": {
          "duration": 0.234943,
          "end_time": "2022-11-14T09:03:33.608426",
          "exception": false,
          "start_time": "2022-11-14T09:03:33.373483",
          "status": "completed"
        },
        "scrolled": true,
        "tags": []
      },
      "outputs": [
        {
          "name": "stdout",
          "output_type": "stream",
          "text": [
            "Invoice column, unique values:  44876\n",
            "************\n",
            "\n",
            "StockCode column, unique values:  4646\n",
            "************\n",
            "\n",
            "Quantity column, unique values:  643\n",
            "************\n",
            "\n",
            "InvoiceDate column, unique values:  41439\n",
            "************\n",
            "\n",
            "Price column, unique values:  1022\n",
            "************\n",
            "\n",
            "Customer ID column, unique values:  5942\n",
            "************\n",
            "\n",
            "TotalPrice column, unique values:  5625\n",
            "************\n",
            "\n"
          ]
        }
      ],
      "source": [
        "for i in df2.columns:\n",
        "    print(i, \"column, unique values: \", df2[i].nunique())\n",
        "    print(\"************\")\n",
        "    print(\"\")"
      ]
    },
    {
      "cell_type": "markdown",
      "id": "ffb327f3",
      "metadata": {
        "id": "ffb327f3",
        "papermill": {
          "duration": 0.029983,
          "end_time": "2022-11-14T09:03:33.669075",
          "exception": false,
          "start_time": "2022-11-14T09:03:33.639092",
          "status": "completed"
        },
        "tags": []
      },
      "source": [
        "Observed some negative values the Quantity and Price columns.\n",
        "Let's check the value containing 0 in the Quantity and Price columns:"
      ]
    },
    {
      "cell_type": "code",
      "execution_count": null,
      "id": "d953f361",
      "metadata": {
        "execution": {
          "iopub.execute_input": "2022-11-14T09:03:33.731939Z",
          "iopub.status.busy": "2022-11-14T09:03:33.731559Z",
          "iopub.status.idle": "2022-11-14T09:03:33.736696Z",
          "shell.execute_reply": "2022-11-14T09:03:33.736099Z"
        },
        "id": "d953f361",
        "outputId": "b1a8ebfb-268a-4558-adbe-873ce8b6ae05",
        "papermill": {
          "duration": 0.039521,
          "end_time": "2022-11-14T09:03:33.738795",
          "exception": false,
          "start_time": "2022-11-14T09:03:33.699274",
          "status": "completed"
        },
        "tags": []
      },
      "outputs": [
        {
          "data": {
            "text/plain": [
              "(797883, 7)"
            ]
          },
          "execution_count": 22,
          "metadata": {},
          "output_type": "execute_result"
        }
      ],
      "source": [
        "df2.shape"
      ]
    },
    {
      "cell_type": "code",
      "execution_count": null,
      "id": "83216f31",
      "metadata": {
        "execution": {
          "iopub.execute_input": "2022-11-14T09:03:33.802169Z",
          "iopub.status.busy": "2022-11-14T09:03:33.801544Z",
          "iopub.status.idle": "2022-11-14T09:03:33.832324Z",
          "shell.execute_reply": "2022-11-14T09:03:33.831311Z"
        },
        "id": "83216f31",
        "outputId": "0ccdd321-37f6-4327-eb0f-e74ba8bf1b81",
        "papermill": {
          "duration": 0.064754,
          "end_time": "2022-11-14T09:03:33.834462",
          "exception": false,
          "start_time": "2022-11-14T09:03:33.769708",
          "status": "completed"
        },
        "tags": []
      },
      "outputs": [
        {
          "data": {
            "text/html": [
              "<div>\n",
              "<style scoped>\n",
              "    .dataframe tbody tr th:only-of-type {\n",
              "        vertical-align: middle;\n",
              "    }\n",
              "\n",
              "    .dataframe tbody tr th {\n",
              "        vertical-align: top;\n",
              "    }\n",
              "\n",
              "    .dataframe thead th {\n",
              "        text-align: right;\n",
              "    }\n",
              "</style>\n",
              "<table border=\"1\" class=\"dataframe\">\n",
              "  <thead>\n",
              "    <tr style=\"text-align: right;\">\n",
              "      <th></th>\n",
              "      <th>Invoice</th>\n",
              "      <th>StockCode</th>\n",
              "      <th>Quantity</th>\n",
              "      <th>InvoiceDate</th>\n",
              "      <th>Price</th>\n",
              "      <th>Customer ID</th>\n",
              "      <th>TotalPrice</th>\n",
              "    </tr>\n",
              "  </thead>\n",
              "  <tbody>\n",
              "    <tr>\n",
              "      <th>178</th>\n",
              "      <td>C489449</td>\n",
              "      <td>22087</td>\n",
              "      <td>-12</td>\n",
              "      <td>2009-12-01 10:33:00</td>\n",
              "      <td>2.95</td>\n",
              "      <td>16321.0</td>\n",
              "      <td>-35.40</td>\n",
              "    </tr>\n",
              "    <tr>\n",
              "      <th>179</th>\n",
              "      <td>C489449</td>\n",
              "      <td>85206A</td>\n",
              "      <td>-6</td>\n",
              "      <td>2009-12-01 10:33:00</td>\n",
              "      <td>1.65</td>\n",
              "      <td>16321.0</td>\n",
              "      <td>-9.90</td>\n",
              "    </tr>\n",
              "    <tr>\n",
              "      <th>180</th>\n",
              "      <td>C489449</td>\n",
              "      <td>21895</td>\n",
              "      <td>-4</td>\n",
              "      <td>2009-12-01 10:33:00</td>\n",
              "      <td>4.25</td>\n",
              "      <td>16321.0</td>\n",
              "      <td>-17.00</td>\n",
              "    </tr>\n",
              "    <tr>\n",
              "      <th>181</th>\n",
              "      <td>C489449</td>\n",
              "      <td>21896</td>\n",
              "      <td>-6</td>\n",
              "      <td>2009-12-01 10:33:00</td>\n",
              "      <td>2.10</td>\n",
              "      <td>16321.0</td>\n",
              "      <td>-12.60</td>\n",
              "    </tr>\n",
              "    <tr>\n",
              "      <th>182</th>\n",
              "      <td>C489449</td>\n",
              "      <td>22083</td>\n",
              "      <td>-12</td>\n",
              "      <td>2009-12-01 10:33:00</td>\n",
              "      <td>2.95</td>\n",
              "      <td>16321.0</td>\n",
              "      <td>-35.40</td>\n",
              "    </tr>\n",
              "    <tr>\n",
              "      <th>...</th>\n",
              "      <td>...</td>\n",
              "      <td>...</td>\n",
              "      <td>...</td>\n",
              "      <td>...</td>\n",
              "      <td>...</td>\n",
              "      <td>...</td>\n",
              "      <td>...</td>\n",
              "    </tr>\n",
              "    <tr>\n",
              "      <th>1065910</th>\n",
              "      <td>C581490</td>\n",
              "      <td>23144</td>\n",
              "      <td>-11</td>\n",
              "      <td>2011-12-09 09:57:00</td>\n",
              "      <td>0.83</td>\n",
              "      <td>14397.0</td>\n",
              "      <td>-9.13</td>\n",
              "    </tr>\n",
              "    <tr>\n",
              "      <th>1067002</th>\n",
              "      <td>C581499</td>\n",
              "      <td>M</td>\n",
              "      <td>-1</td>\n",
              "      <td>2011-12-09 10:28:00</td>\n",
              "      <td>224.69</td>\n",
              "      <td>15498.0</td>\n",
              "      <td>-224.69</td>\n",
              "    </tr>\n",
              "    <tr>\n",
              "      <th>1067176</th>\n",
              "      <td>C581568</td>\n",
              "      <td>21258</td>\n",
              "      <td>-5</td>\n",
              "      <td>2011-12-09 11:57:00</td>\n",
              "      <td>10.95</td>\n",
              "      <td>15311.0</td>\n",
              "      <td>-54.75</td>\n",
              "    </tr>\n",
              "    <tr>\n",
              "      <th>1067177</th>\n",
              "      <td>C581569</td>\n",
              "      <td>84978</td>\n",
              "      <td>-1</td>\n",
              "      <td>2011-12-09 11:58:00</td>\n",
              "      <td>1.25</td>\n",
              "      <td>17315.0</td>\n",
              "      <td>-1.25</td>\n",
              "    </tr>\n",
              "    <tr>\n",
              "      <th>1067178</th>\n",
              "      <td>C581569</td>\n",
              "      <td>20979</td>\n",
              "      <td>-5</td>\n",
              "      <td>2011-12-09 11:58:00</td>\n",
              "      <td>1.25</td>\n",
              "      <td>17315.0</td>\n",
              "      <td>-6.25</td>\n",
              "    </tr>\n",
              "  </tbody>\n",
              "</table>\n",
              "<p>18460 rows × 7 columns</p>\n",
              "</div>"
            ],
            "text/plain": [
              "         Invoice StockCode  Quantity          InvoiceDate   Price  \\\n",
              "178      C489449     22087       -12  2009-12-01 10:33:00    2.95   \n",
              "179      C489449    85206A        -6  2009-12-01 10:33:00    1.65   \n",
              "180      C489449     21895        -4  2009-12-01 10:33:00    4.25   \n",
              "181      C489449     21896        -6  2009-12-01 10:33:00    2.10   \n",
              "182      C489449     22083       -12  2009-12-01 10:33:00    2.95   \n",
              "...          ...       ...       ...                  ...     ...   \n",
              "1065910  C581490     23144       -11  2011-12-09 09:57:00    0.83   \n",
              "1067002  C581499         M        -1  2011-12-09 10:28:00  224.69   \n",
              "1067176  C581568     21258        -5  2011-12-09 11:57:00   10.95   \n",
              "1067177  C581569     84978        -1  2011-12-09 11:58:00    1.25   \n",
              "1067178  C581569     20979        -5  2011-12-09 11:58:00    1.25   \n",
              "\n",
              "         Customer ID  TotalPrice  \n",
              "178          16321.0      -35.40  \n",
              "179          16321.0       -9.90  \n",
              "180          16321.0      -17.00  \n",
              "181          16321.0      -12.60  \n",
              "182          16321.0      -35.40  \n",
              "...              ...         ...  \n",
              "1065910      14397.0       -9.13  \n",
              "1067002      15498.0     -224.69  \n",
              "1067176      15311.0      -54.75  \n",
              "1067177      17315.0       -1.25  \n",
              "1067178      17315.0       -6.25  \n",
              "\n",
              "[18460 rows x 7 columns]"
            ]
          },
          "execution_count": 23,
          "metadata": {},
          "output_type": "execute_result"
        }
      ],
      "source": [
        "df2.loc[(df2[\"Quantity\"]<=0) | (df2[\"Price\"]<=0)]"
      ]
    },
    {
      "cell_type": "markdown",
      "id": "ddf9ab59",
      "metadata": {
        "id": "ddf9ab59",
        "papermill": {
          "duration": 0.030166,
          "end_time": "2022-11-14T09:03:33.895282",
          "exception": false,
          "start_time": "2022-11-14T09:03:33.865116",
          "status": "completed"
        },
        "tags": []
      },
      "source": [
        "Let's drop them..."
      ]
    },
    {
      "cell_type": "code",
      "execution_count": null,
      "id": "0138d0e2",
      "metadata": {
        "execution": {
          "iopub.execute_input": "2022-11-14T09:03:33.959207Z",
          "iopub.status.busy": "2022-11-14T09:03:33.958812Z",
          "iopub.status.idle": "2022-11-14T09:03:34.010493Z",
          "shell.execute_reply": "2022-11-14T09:03:34.009170Z"
        },
        "id": "0138d0e2",
        "papermill": {
          "duration": 0.087008,
          "end_time": "2022-11-14T09:03:34.013537",
          "exception": false,
          "start_time": "2022-11-14T09:03:33.926529",
          "status": "completed"
        },
        "tags": []
      },
      "outputs": [],
      "source": [
        "df3= df2[(df2['Price'] > 0)]"
      ]
    },
    {
      "cell_type": "code",
      "execution_count": null,
      "id": "dfa2b42b",
      "metadata": {
        "execution": {
          "iopub.execute_input": "2022-11-14T09:03:34.078721Z",
          "iopub.status.busy": "2022-11-14T09:03:34.078360Z",
          "iopub.status.idle": "2022-11-14T09:03:34.142156Z",
          "shell.execute_reply": "2022-11-14T09:03:34.141044Z"
        },
        "id": "dfa2b42b",
        "papermill": {
          "duration": 0.098097,
          "end_time": "2022-11-14T09:03:34.144554",
          "exception": false,
          "start_time": "2022-11-14T09:03:34.046457",
          "status": "completed"
        },
        "tags": []
      },
      "outputs": [],
      "source": [
        "df3= df3[(df3['Quantity'] > 0)]"
      ]
    },
    {
      "cell_type": "code",
      "execution_count": null,
      "id": "4467c5d7",
      "metadata": {
        "execution": {
          "iopub.execute_input": "2022-11-14T09:03:34.208310Z",
          "iopub.status.busy": "2022-11-14T09:03:34.207906Z",
          "iopub.status.idle": "2022-11-14T09:03:34.215838Z",
          "shell.execute_reply": "2022-11-14T09:03:34.214580Z"
        },
        "id": "4467c5d7",
        "outputId": "8251b6ee-e043-43d3-b8a8-c2da289a216a",
        "papermill": {
          "duration": 0.042521,
          "end_time": "2022-11-14T09:03:34.218045",
          "exception": false,
          "start_time": "2022-11-14T09:03:34.175524",
          "status": "completed"
        },
        "tags": []
      },
      "outputs": [
        {
          "data": {
            "text/plain": [
              "(797883, 7)"
            ]
          },
          "execution_count": 26,
          "metadata": {},
          "output_type": "execute_result"
        }
      ],
      "source": [
        "df2.shape"
      ]
    },
    {
      "cell_type": "code",
      "execution_count": null,
      "id": "d68c37e5",
      "metadata": {
        "execution": {
          "iopub.execute_input": "2022-11-14T09:03:34.282163Z",
          "iopub.status.busy": "2022-11-14T09:03:34.281780Z",
          "iopub.status.idle": "2022-11-14T09:03:34.287298Z",
          "shell.execute_reply": "2022-11-14T09:03:34.286274Z"
        },
        "id": "d68c37e5",
        "outputId": "dfe356e0-320a-46cc-ca5b-0cb4bfa65d71",
        "papermill": {
          "duration": 0.040007,
          "end_time": "2022-11-14T09:03:34.289098",
          "exception": false,
          "start_time": "2022-11-14T09:03:34.249091",
          "status": "completed"
        },
        "tags": []
      },
      "outputs": [
        {
          "data": {
            "text/plain": [
              "(779423, 7)"
            ]
          },
          "execution_count": 27,
          "metadata": {},
          "output_type": "execute_result"
        }
      ],
      "source": [
        "df3.shape"
      ]
    },
    {
      "cell_type": "code",
      "execution_count": null,
      "id": "069a1562",
      "metadata": {
        "execution": {
          "iopub.execute_input": "2022-11-14T09:03:34.360202Z",
          "iopub.status.busy": "2022-11-14T09:03:34.359562Z",
          "iopub.status.idle": "2022-11-14T09:03:34.373110Z",
          "shell.execute_reply": "2022-11-14T09:03:34.371894Z"
        },
        "id": "069a1562",
        "outputId": "4f530ec7-a14c-4d5f-aeb5-43c9878f3743",
        "papermill": {
          "duration": 0.051782,
          "end_time": "2022-11-14T09:03:34.375163",
          "exception": false,
          "start_time": "2022-11-14T09:03:34.323381",
          "status": "completed"
        },
        "tags": []
      },
      "outputs": [
        {
          "data": {
            "text/html": [
              "<div>\n",
              "<style scoped>\n",
              "    .dataframe tbody tr th:only-of-type {\n",
              "        vertical-align: middle;\n",
              "    }\n",
              "\n",
              "    .dataframe tbody tr th {\n",
              "        vertical-align: top;\n",
              "    }\n",
              "\n",
              "    .dataframe thead th {\n",
              "        text-align: right;\n",
              "    }\n",
              "</style>\n",
              "<table border=\"1\" class=\"dataframe\">\n",
              "  <thead>\n",
              "    <tr style=\"text-align: right;\">\n",
              "      <th></th>\n",
              "      <th>Invoice</th>\n",
              "      <th>StockCode</th>\n",
              "      <th>Quantity</th>\n",
              "      <th>InvoiceDate</th>\n",
              "      <th>Price</th>\n",
              "      <th>Customer ID</th>\n",
              "      <th>TotalPrice</th>\n",
              "    </tr>\n",
              "  </thead>\n",
              "  <tbody>\n",
              "  </tbody>\n",
              "</table>\n",
              "</div>"
            ],
            "text/plain": [
              "Empty DataFrame\n",
              "Columns: [Invoice, StockCode, Quantity, InvoiceDate, Price, Customer ID, TotalPrice]\n",
              "Index: []"
            ]
          },
          "execution_count": 28,
          "metadata": {},
          "output_type": "execute_result"
        }
      ],
      "source": [
        "df3.loc[(df3[\"Quantity\"]<=0) | (df3[\"Price\"]<=0)]"
      ]
    },
    {
      "cell_type": "markdown",
      "id": "1c2b3cdf",
      "metadata": {
        "id": "1c2b3cdf",
        "papermill": {
          "duration": 0.031009,
          "end_time": "2022-11-14T09:03:34.437801",
          "exception": false,
          "start_time": "2022-11-14T09:03:34.406792",
          "status": "completed"
        },
        "tags": []
      },
      "source": [
        "Let's find the non-numeric stock codes:"
      ]
    },
    {
      "cell_type": "code",
      "execution_count": null,
      "id": "52d221bc",
      "metadata": {
        "execution": {
          "iopub.execute_input": "2022-11-14T09:03:34.502546Z",
          "iopub.status.busy": "2022-11-14T09:03:34.501877Z",
          "iopub.status.idle": "2022-11-14T09:03:34.960846Z",
          "shell.execute_reply": "2022-11-14T09:03:34.960179Z"
        },
        "id": "52d221bc",
        "outputId": "185af98c-a83a-424e-c5d1-3bf7f334a599",
        "papermill": {
          "duration": 0.494575,
          "end_time": "2022-11-14T09:03:34.963251",
          "exception": false,
          "start_time": "2022-11-14T09:03:34.468676",
          "status": "completed"
        },
        "tags": []
      },
      "outputs": [
        {
          "data": {
            "text/html": [
              "<div>\n",
              "<style scoped>\n",
              "    .dataframe tbody tr th:only-of-type {\n",
              "        vertical-align: middle;\n",
              "    }\n",
              "\n",
              "    .dataframe tbody tr th {\n",
              "        vertical-align: top;\n",
              "    }\n",
              "\n",
              "    .dataframe thead th {\n",
              "        text-align: right;\n",
              "    }\n",
              "</style>\n",
              "<table border=\"1\" class=\"dataframe\">\n",
              "  <thead>\n",
              "    <tr style=\"text-align: right;\">\n",
              "      <th></th>\n",
              "      <th>StockCode</th>\n",
              "    </tr>\n",
              "    <tr>\n",
              "      <th>StockCode</th>\n",
              "      <th></th>\n",
              "    </tr>\n",
              "  </thead>\n",
              "  <tbody>\n",
              "    <tr>\n",
              "      <th>ADJUST</th>\n",
              "      <td>32</td>\n",
              "    </tr>\n",
              "    <tr>\n",
              "      <th>BANK CHARGES</th>\n",
              "      <td>31</td>\n",
              "    </tr>\n",
              "    <tr>\n",
              "      <th>D</th>\n",
              "      <td>5</td>\n",
              "    </tr>\n",
              "    <tr>\n",
              "      <th>DOT</th>\n",
              "      <td>16</td>\n",
              "    </tr>\n",
              "    <tr>\n",
              "      <th>M</th>\n",
              "      <td>681</td>\n",
              "    </tr>\n",
              "    <tr>\n",
              "      <th>PADS</th>\n",
              "      <td>17</td>\n",
              "    </tr>\n",
              "    <tr>\n",
              "      <th>POST</th>\n",
              "      <td>1803</td>\n",
              "    </tr>\n",
              "  </tbody>\n",
              "</table>\n",
              "</div>"
            ],
            "text/plain": [
              "              StockCode\n",
              "StockCode              \n",
              "ADJUST               32\n",
              "BANK CHARGES         31\n",
              "D                     5\n",
              "DOT                  16\n",
              "M                   681\n",
              "PADS                 17\n",
              "POST               1803"
            ]
          },
          "execution_count": 29,
          "metadata": {},
          "output_type": "execute_result"
        }
      ],
      "source": [
        "# ALL ONLY non-numeric stock codes\n",
        "wrong_stock_codes= df3[df3[\"StockCode\"].astype(str).str.contains(r\"^[a-zA-Z''-'\\s]{1,40}$\")][\"StockCode\"].unique().tolist()\n",
        "\n",
        "df3[df3[\"StockCode\"].isin(wrong_stock_codes)].groupby([\"StockCode\"]).agg({\"StockCode\": \"count\"})"
      ]
    },
    {
      "cell_type": "code",
      "execution_count": null,
      "id": "795120e3",
      "metadata": {
        "execution": {
          "iopub.execute_input": "2022-11-14T09:03:35.027887Z",
          "iopub.status.busy": "2022-11-14T09:03:35.026720Z",
          "iopub.status.idle": "2022-11-14T09:03:35.066775Z",
          "shell.execute_reply": "2022-11-14T09:03:35.065578Z"
        },
        "id": "795120e3",
        "outputId": "72fba1d7-765e-456d-e7a5-ba024e6ee0b9",
        "papermill": {
          "duration": 0.074246,
          "end_time": "2022-11-14T09:03:35.068685",
          "exception": false,
          "start_time": "2022-11-14T09:03:34.994439",
          "status": "completed"
        },
        "scrolled": true,
        "tags": []
      },
      "outputs": [
        {
          "data": {
            "text/plain": [
              "StockCode    2585\n",
              "dtype: int64"
            ]
          },
          "execution_count": 30,
          "metadata": {},
          "output_type": "execute_result"
        }
      ],
      "source": [
        "df3[df3[\"StockCode\"].isin(wrong_stock_codes)].groupby([\"StockCode\"]).agg({\"StockCode\": \"count\"}).sum()"
      ]
    },
    {
      "cell_type": "markdown",
      "id": "525e8e03",
      "metadata": {
        "id": "525e8e03",
        "papermill": {
          "duration": 0.032008,
          "end_time": "2022-11-14T09:03:35.136227",
          "exception": false,
          "start_time": "2022-11-14T09:03:35.104219",
          "status": "completed"
        },
        "tags": []
      },
      "source": [
        "Total rows: 2585"
      ]
    },
    {
      "cell_type": "markdown",
      "id": "ec27239c",
      "metadata": {
        "id": "ec27239c",
        "papermill": {
          "duration": 0.031405,
          "end_time": "2022-11-14T09:03:35.201763",
          "exception": false,
          "start_time": "2022-11-14T09:03:35.170358",
          "status": "completed"
        },
        "tags": []
      },
      "source": [
        "Let's drop them:"
      ]
    },
    {
      "cell_type": "code",
      "execution_count": null,
      "id": "a730caa9",
      "metadata": {
        "execution": {
          "iopub.execute_input": "2022-11-14T09:03:35.267312Z",
          "iopub.status.busy": "2022-11-14T09:03:35.266303Z",
          "iopub.status.idle": "2022-11-14T09:03:35.376833Z",
          "shell.execute_reply": "2022-11-14T09:03:35.375412Z"
        },
        "id": "a730caa9",
        "papermill": {
          "duration": 0.145991,
          "end_time": "2022-11-14T09:03:35.379534",
          "exception": false,
          "start_time": "2022-11-14T09:03:35.233543",
          "status": "completed"
        },
        "tags": []
      },
      "outputs": [],
      "source": [
        "df3= df3[~df3[\"StockCode\"].isin(wrong_stock_codes)].reset_index(drop=True)"
      ]
    },
    {
      "cell_type": "code",
      "execution_count": null,
      "id": "bb730fc3",
      "metadata": {
        "execution": {
          "iopub.execute_input": "2022-11-14T09:03:35.445474Z",
          "iopub.status.busy": "2022-11-14T09:03:35.444772Z",
          "iopub.status.idle": "2022-11-14T09:03:35.892609Z",
          "shell.execute_reply": "2022-11-14T09:03:35.891474Z"
        },
        "id": "bb730fc3",
        "outputId": "fef389be-6c11-4831-bea6-99b471b00806",
        "papermill": {
          "duration": 0.483165,
          "end_time": "2022-11-14T09:03:35.894982",
          "exception": false,
          "start_time": "2022-11-14T09:03:35.411817",
          "status": "completed"
        },
        "scrolled": true,
        "tags": []
      },
      "outputs": [
        {
          "data": {
            "text/html": [
              "<div>\n",
              "<style scoped>\n",
              "    .dataframe tbody tr th:only-of-type {\n",
              "        vertical-align: middle;\n",
              "    }\n",
              "\n",
              "    .dataframe tbody tr th {\n",
              "        vertical-align: top;\n",
              "    }\n",
              "\n",
              "    .dataframe thead th {\n",
              "        text-align: right;\n",
              "    }\n",
              "</style>\n",
              "<table border=\"1\" class=\"dataframe\">\n",
              "  <thead>\n",
              "    <tr style=\"text-align: right;\">\n",
              "      <th></th>\n",
              "      <th>StockCode</th>\n",
              "    </tr>\n",
              "    <tr>\n",
              "      <th>StockCode</th>\n",
              "      <th></th>\n",
              "    </tr>\n",
              "  </thead>\n",
              "  <tbody>\n",
              "    <tr>\n",
              "      <th>ADJUST2</th>\n",
              "      <td>3</td>\n",
              "    </tr>\n",
              "    <tr>\n",
              "      <th>TEST001</th>\n",
              "      <td>9</td>\n",
              "    </tr>\n",
              "    <tr>\n",
              "      <th>TEST002</th>\n",
              "      <td>1</td>\n",
              "    </tr>\n",
              "  </tbody>\n",
              "</table>\n",
              "</div>"
            ],
            "text/plain": [
              "           StockCode\n",
              "StockCode           \n",
              "ADJUST2            3\n",
              "TEST001            9\n",
              "TEST002            1"
            ]
          },
          "execution_count": 32,
          "metadata": {},
          "output_type": "execute_result"
        }
      ],
      "source": [
        "# Other non-numeric stock codes\n",
        "wrong_stock_codes2= df3[df3[\"StockCode\"].astype(str).str.contains(r\"[a-zA-Z]{3,}\")][\"StockCode\"].unique().tolist()\n",
        "df3[df3[\"StockCode\"].isin(wrong_stock_codes2)].groupby([\"StockCode\"]).agg({\"StockCode\": \"count\"})"
      ]
    },
    {
      "cell_type": "code",
      "execution_count": null,
      "id": "89b65bd1",
      "metadata": {
        "execution": {
          "iopub.execute_input": "2022-11-14T09:03:35.964439Z",
          "iopub.status.busy": "2022-11-14T09:03:35.962872Z",
          "iopub.status.idle": "2022-11-14T09:03:36.008204Z",
          "shell.execute_reply": "2022-11-14T09:03:36.006722Z"
        },
        "id": "89b65bd1",
        "outputId": "c66d4dee-0a54-4f56-bfe1-bfbc73827e5d",
        "papermill": {
          "duration": 0.083051,
          "end_time": "2022-11-14T09:03:36.010940",
          "exception": false,
          "start_time": "2022-11-14T09:03:35.927889",
          "status": "completed"
        },
        "tags": []
      },
      "outputs": [
        {
          "data": {
            "text/plain": [
              "StockCode    13\n",
              "dtype: int64"
            ]
          },
          "execution_count": 33,
          "metadata": {},
          "output_type": "execute_result"
        }
      ],
      "source": [
        "df3[df3[\"StockCode\"].isin(wrong_stock_codes2)].groupby([\"StockCode\"]).agg({\"StockCode\": \"count\"}).sum()"
      ]
    },
    {
      "cell_type": "markdown",
      "id": "e5d7d39f",
      "metadata": {
        "id": "e5d7d39f",
        "papermill": {
          "duration": 0.032277,
          "end_time": "2022-11-14T09:03:36.075747",
          "exception": false,
          "start_time": "2022-11-14T09:03:36.043470",
          "status": "completed"
        },
        "tags": []
      },
      "source": [
        "Let's drop them:"
      ]
    },
    {
      "cell_type": "code",
      "execution_count": null,
      "id": "92a67bd7",
      "metadata": {
        "execution": {
          "iopub.execute_input": "2022-11-14T09:03:36.144002Z",
          "iopub.status.busy": "2022-11-14T09:03:36.143571Z",
          "iopub.status.idle": "2022-11-14T09:03:36.252570Z",
          "shell.execute_reply": "2022-11-14T09:03:36.251351Z"
        },
        "id": "92a67bd7",
        "papermill": {
          "duration": 0.147124,
          "end_time": "2022-11-14T09:03:36.255019",
          "exception": false,
          "start_time": "2022-11-14T09:03:36.107895",
          "status": "completed"
        },
        "tags": []
      },
      "outputs": [],
      "source": [
        "df3= df3[~df3[\"StockCode\"].isin(wrong_stock_codes2)].reset_index(drop=True)"
      ]
    },
    {
      "cell_type": "code",
      "execution_count": null,
      "id": "f4003c98",
      "metadata": {
        "execution": {
          "iopub.execute_input": "2022-11-14T09:03:36.322530Z",
          "iopub.status.busy": "2022-11-14T09:03:36.322125Z",
          "iopub.status.idle": "2022-11-14T09:03:36.339001Z",
          "shell.execute_reply": "2022-11-14T09:03:36.338306Z"
        },
        "id": "f4003c98",
        "outputId": "7110d93a-eaaa-4b24-f20c-e8c4af9caafd",
        "papermill": {
          "duration": 0.052997,
          "end_time": "2022-11-14T09:03:36.340719",
          "exception": false,
          "start_time": "2022-11-14T09:03:36.287722",
          "status": "completed"
        },
        "scrolled": true,
        "tags": []
      },
      "outputs": [
        {
          "data": {
            "text/html": [
              "<div>\n",
              "<style scoped>\n",
              "    .dataframe tbody tr th:only-of-type {\n",
              "        vertical-align: middle;\n",
              "    }\n",
              "\n",
              "    .dataframe tbody tr th {\n",
              "        vertical-align: top;\n",
              "    }\n",
              "\n",
              "    .dataframe thead th {\n",
              "        text-align: right;\n",
              "    }\n",
              "</style>\n",
              "<table border=\"1\" class=\"dataframe\">\n",
              "  <thead>\n",
              "    <tr style=\"text-align: right;\">\n",
              "      <th></th>\n",
              "      <th>Invoice</th>\n",
              "      <th>StockCode</th>\n",
              "      <th>Quantity</th>\n",
              "      <th>InvoiceDate</th>\n",
              "      <th>Price</th>\n",
              "      <th>Customer ID</th>\n",
              "      <th>TotalPrice</th>\n",
              "    </tr>\n",
              "  </thead>\n",
              "  <tbody>\n",
              "    <tr>\n",
              "      <th>0</th>\n",
              "      <td>489434</td>\n",
              "      <td>85048</td>\n",
              "      <td>12</td>\n",
              "      <td>2009-12-01 07:45:00</td>\n",
              "      <td>6.95</td>\n",
              "      <td>13085.0</td>\n",
              "      <td>83.40</td>\n",
              "    </tr>\n",
              "    <tr>\n",
              "      <th>1</th>\n",
              "      <td>489434</td>\n",
              "      <td>79323P</td>\n",
              "      <td>12</td>\n",
              "      <td>2009-12-01 07:45:00</td>\n",
              "      <td>6.75</td>\n",
              "      <td>13085.0</td>\n",
              "      <td>81.00</td>\n",
              "    </tr>\n",
              "    <tr>\n",
              "      <th>2</th>\n",
              "      <td>489434</td>\n",
              "      <td>79323W</td>\n",
              "      <td>12</td>\n",
              "      <td>2009-12-01 07:45:00</td>\n",
              "      <td>6.75</td>\n",
              "      <td>13085.0</td>\n",
              "      <td>81.00</td>\n",
              "    </tr>\n",
              "    <tr>\n",
              "      <th>3</th>\n",
              "      <td>489434</td>\n",
              "      <td>22041</td>\n",
              "      <td>48</td>\n",
              "      <td>2009-12-01 07:45:00</td>\n",
              "      <td>2.10</td>\n",
              "      <td>13085.0</td>\n",
              "      <td>100.80</td>\n",
              "    </tr>\n",
              "    <tr>\n",
              "      <th>4</th>\n",
              "      <td>489434</td>\n",
              "      <td>21232</td>\n",
              "      <td>24</td>\n",
              "      <td>2009-12-01 07:45:00</td>\n",
              "      <td>1.25</td>\n",
              "      <td>13085.0</td>\n",
              "      <td>30.00</td>\n",
              "    </tr>\n",
              "    <tr>\n",
              "      <th>...</th>\n",
              "      <td>...</td>\n",
              "      <td>...</td>\n",
              "      <td>...</td>\n",
              "      <td>...</td>\n",
              "      <td>...</td>\n",
              "      <td>...</td>\n",
              "      <td>...</td>\n",
              "    </tr>\n",
              "    <tr>\n",
              "      <th>776820</th>\n",
              "      <td>581587</td>\n",
              "      <td>22613</td>\n",
              "      <td>12</td>\n",
              "      <td>2011-12-09 12:50:00</td>\n",
              "      <td>0.85</td>\n",
              "      <td>12680.0</td>\n",
              "      <td>10.20</td>\n",
              "    </tr>\n",
              "    <tr>\n",
              "      <th>776821</th>\n",
              "      <td>581587</td>\n",
              "      <td>22899</td>\n",
              "      <td>6</td>\n",
              "      <td>2011-12-09 12:50:00</td>\n",
              "      <td>2.10</td>\n",
              "      <td>12680.0</td>\n",
              "      <td>12.60</td>\n",
              "    </tr>\n",
              "    <tr>\n",
              "      <th>776822</th>\n",
              "      <td>581587</td>\n",
              "      <td>23254</td>\n",
              "      <td>4</td>\n",
              "      <td>2011-12-09 12:50:00</td>\n",
              "      <td>4.15</td>\n",
              "      <td>12680.0</td>\n",
              "      <td>16.60</td>\n",
              "    </tr>\n",
              "    <tr>\n",
              "      <th>776823</th>\n",
              "      <td>581587</td>\n",
              "      <td>23255</td>\n",
              "      <td>4</td>\n",
              "      <td>2011-12-09 12:50:00</td>\n",
              "      <td>4.15</td>\n",
              "      <td>12680.0</td>\n",
              "      <td>16.60</td>\n",
              "    </tr>\n",
              "    <tr>\n",
              "      <th>776824</th>\n",
              "      <td>581587</td>\n",
              "      <td>22138</td>\n",
              "      <td>3</td>\n",
              "      <td>2011-12-09 12:50:00</td>\n",
              "      <td>4.95</td>\n",
              "      <td>12680.0</td>\n",
              "      <td>14.85</td>\n",
              "    </tr>\n",
              "  </tbody>\n",
              "</table>\n",
              "<p>776825 rows × 7 columns</p>\n",
              "</div>"
            ],
            "text/plain": [
              "       Invoice StockCode  Quantity          InvoiceDate  Price  Customer ID  \\\n",
              "0       489434     85048        12  2009-12-01 07:45:00   6.95      13085.0   \n",
              "1       489434    79323P        12  2009-12-01 07:45:00   6.75      13085.0   \n",
              "2       489434    79323W        12  2009-12-01 07:45:00   6.75      13085.0   \n",
              "3       489434     22041        48  2009-12-01 07:45:00   2.10      13085.0   \n",
              "4       489434     21232        24  2009-12-01 07:45:00   1.25      13085.0   \n",
              "...        ...       ...       ...                  ...    ...          ...   \n",
              "776820  581587     22613        12  2011-12-09 12:50:00   0.85      12680.0   \n",
              "776821  581587     22899         6  2011-12-09 12:50:00   2.10      12680.0   \n",
              "776822  581587     23254         4  2011-12-09 12:50:00   4.15      12680.0   \n",
              "776823  581587     23255         4  2011-12-09 12:50:00   4.15      12680.0   \n",
              "776824  581587     22138         3  2011-12-09 12:50:00   4.95      12680.0   \n",
              "\n",
              "        TotalPrice  \n",
              "0            83.40  \n",
              "1            81.00  \n",
              "2            81.00  \n",
              "3           100.80  \n",
              "4            30.00  \n",
              "...            ...  \n",
              "776820       10.20  \n",
              "776821       12.60  \n",
              "776822       16.60  \n",
              "776823       16.60  \n",
              "776824       14.85  \n",
              "\n",
              "[776825 rows x 7 columns]"
            ]
          },
          "execution_count": 35,
          "metadata": {},
          "output_type": "execute_result"
        }
      ],
      "source": [
        "df3"
      ]
    },
    {
      "cell_type": "code",
      "execution_count": null,
      "id": "0e4aa630",
      "metadata": {
        "execution": {
          "iopub.execute_input": "2022-11-14T09:03:36.408624Z",
          "iopub.status.busy": "2022-11-14T09:03:36.408058Z",
          "iopub.status.idle": "2022-11-14T09:03:36.502890Z",
          "shell.execute_reply": "2022-11-14T09:03:36.501389Z"
        },
        "id": "0e4aa630",
        "outputId": "21098774-7852-4004-cc2e-ff7e683d1bb9",
        "papermill": {
          "duration": 0.131324,
          "end_time": "2022-11-14T09:03:36.505608",
          "exception": false,
          "start_time": "2022-11-14T09:03:36.374284",
          "status": "completed"
        },
        "tags": []
      },
      "outputs": [
        {
          "name": "stdout",
          "output_type": "stream",
          "text": [
            "<class 'pandas.core.frame.DataFrame'>\n",
            "RangeIndex: 776825 entries, 0 to 776824\n",
            "Data columns (total 7 columns):\n",
            " #   Column       Non-Null Count   Dtype  \n",
            "---  ------       --------------   -----  \n",
            " 0   Invoice      776825 non-null  object \n",
            " 1   StockCode    776825 non-null  object \n",
            " 2   Quantity     776825 non-null  int64  \n",
            " 3   InvoiceDate  776825 non-null  object \n",
            " 4   Price        776825 non-null  float64\n",
            " 5   Customer ID  776825 non-null  float64\n",
            " 6   TotalPrice   776825 non-null  float64\n",
            "dtypes: float64(3), int64(1), object(3)\n",
            "memory usage: 41.5+ MB\n"
          ]
        }
      ],
      "source": [
        "df3.info()"
      ]
    },
    {
      "cell_type": "markdown",
      "id": "a749da2b",
      "metadata": {
        "id": "a749da2b",
        "papermill": {
          "duration": 0.032013,
          "end_time": "2022-11-14T09:03:36.570207",
          "exception": false,
          "start_time": "2022-11-14T09:03:36.538194",
          "status": "completed"
        },
        "tags": []
      },
      "source": [
        "Let's convert the type of column \"InvoiceDate\" to pandas datetime"
      ]
    },
    {
      "cell_type": "code",
      "execution_count": null,
      "id": "334ab044",
      "metadata": {
        "execution": {
          "iopub.execute_input": "2022-11-14T09:03:36.636459Z",
          "iopub.status.busy": "2022-11-14T09:03:36.635286Z",
          "iopub.status.idle": "2022-11-14T09:03:36.766261Z",
          "shell.execute_reply": "2022-11-14T09:03:36.765207Z"
        },
        "id": "334ab044",
        "papermill": {
          "duration": 0.166768,
          "end_time": "2022-11-14T09:03:36.768667",
          "exception": false,
          "start_time": "2022-11-14T09:03:36.601899",
          "status": "completed"
        },
        "tags": []
      },
      "outputs": [],
      "source": [
        "df3.InvoiceDate = pd.to_datetime(df3.InvoiceDate)"
      ]
    },
    {
      "cell_type": "markdown",
      "id": "52a943bc",
      "metadata": {
        "id": "52a943bc",
        "papermill": {
          "duration": 0.032086,
          "end_time": "2022-11-14T09:03:36.833705",
          "exception": false,
          "start_time": "2022-11-14T09:03:36.801619",
          "status": "completed"
        },
        "tags": []
      },
      "source": [
        "Let's convert the \"Customer ID\" column to a categorical column:"
      ]
    },
    {
      "cell_type": "code",
      "execution_count": null,
      "id": "b4145216",
      "metadata": {
        "execution": {
          "iopub.execute_input": "2022-11-14T09:03:36.901762Z",
          "iopub.status.busy": "2022-11-14T09:03:36.900450Z",
          "iopub.status.idle": "2022-11-14T09:03:36.930497Z",
          "shell.execute_reply": "2022-11-14T09:03:36.928804Z"
        },
        "id": "b4145216",
        "papermill": {
          "duration": 0.066954,
          "end_time": "2022-11-14T09:03:36.933502",
          "exception": false,
          "start_time": "2022-11-14T09:03:36.866548",
          "status": "completed"
        },
        "tags": []
      },
      "outputs": [],
      "source": [
        "df3[\"Customer ID\"]= df3[\"Customer ID\"].astype('object')"
      ]
    },
    {
      "cell_type": "code",
      "execution_count": null,
      "id": "f6c6b451",
      "metadata": {
        "execution": {
          "iopub.execute_input": "2022-11-14T09:03:37.001184Z",
          "iopub.status.busy": "2022-11-14T09:03:37.000858Z",
          "iopub.status.idle": "2022-11-14T09:03:37.094850Z",
          "shell.execute_reply": "2022-11-14T09:03:37.092823Z"
        },
        "id": "f6c6b451",
        "outputId": "1df204fd-c89d-40f7-9362-d41d197c4024",
        "papermill": {
          "duration": 0.12962,
          "end_time": "2022-11-14T09:03:37.097195",
          "exception": false,
          "start_time": "2022-11-14T09:03:36.967575",
          "status": "completed"
        },
        "tags": []
      },
      "outputs": [
        {
          "name": "stdout",
          "output_type": "stream",
          "text": [
            "<class 'pandas.core.frame.DataFrame'>\n",
            "RangeIndex: 776825 entries, 0 to 776824\n",
            "Data columns (total 7 columns):\n",
            " #   Column       Non-Null Count   Dtype         \n",
            "---  ------       --------------   -----         \n",
            " 0   Invoice      776825 non-null  object        \n",
            " 1   StockCode    776825 non-null  object        \n",
            " 2   Quantity     776825 non-null  int64         \n",
            " 3   InvoiceDate  776825 non-null  datetime64[ns]\n",
            " 4   Price        776825 non-null  float64       \n",
            " 5   Customer ID  776825 non-null  object        \n",
            " 6   TotalPrice   776825 non-null  float64       \n",
            "dtypes: datetime64[ns](1), float64(2), int64(1), object(3)\n",
            "memory usage: 41.5+ MB\n"
          ]
        }
      ],
      "source": [
        "df3.info()"
      ]
    },
    {
      "cell_type": "markdown",
      "id": "807ebd7f",
      "metadata": {
        "id": "807ebd7f",
        "papermill": {
          "duration": 0.03331,
          "end_time": "2022-11-14T09:03:37.162799",
          "exception": false,
          "start_time": "2022-11-14T09:03:37.129489",
          "status": "completed"
        },
        "tags": []
      },
      "source": [
        "# <p style=\"background-color:#C71585;font-family:Georgia;color:white;text-align:left;border-radius:20px 20px;\"><b>Lifetime Value Prediction</b></p>"
      ]
    },
    {
      "cell_type": "markdown",
      "id": "986d0f2f",
      "metadata": {
        "id": "986d0f2f",
        "papermill": {
          "duration": 0.032731,
          "end_time": "2022-11-14T09:03:37.228422",
          "exception": false,
          "start_time": "2022-11-14T09:03:37.195691",
          "status": "completed"
        },
        "tags": []
      },
      "source": [
        "Yes, we are ready to predict LTV.\n",
        "\n",
        "We will use 8 months of data, calculate RFM and use it for predicting next 16 months.\n",
        "\n",
        "We were inspired by [Karaman's project](https://towardsdatascience.com/data-driven-growth-with-python-part-3-customer-lifetime-value-prediction-6017802f2e0f)"
      ]
    },
    {
      "cell_type": "code",
      "execution_count": null,
      "id": "3ebf2671",
      "metadata": {
        "colab": {
          "base_uri": "https://localhost:8080/",
          "height": 141
        },
        "execution": {
          "iopub.execute_input": "2022-11-14T09:03:37.295571Z",
          "iopub.status.busy": "2022-11-14T09:03:37.295214Z",
          "iopub.status.idle": "2022-11-14T09:03:37.363934Z",
          "shell.execute_reply": "2022-11-14T09:03:37.363000Z"
        },
        "id": "3ebf2671",
        "outputId": "35d3cadf-59e8-4e66-bce3-b49c4df2ec3a",
        "papermill": {
          "duration": 0.106466,
          "end_time": "2022-11-14T09:03:37.367275",
          "exception": false,
          "start_time": "2022-11-14T09:03:37.260809",
          "status": "completed"
        },
        "tags": []
      },
      "outputs": [
        {
          "ename": "NameError",
          "evalue": "name 'df3' is not defined",
          "output_type": "error",
          "traceback": [
            "\u001b[0;31m---------------------------------------------------------------------------\u001b[0m",
            "\u001b[0;31mNameError\u001b[0m                                 Traceback (most recent call last)",
            "\u001b[0;32m<ipython-input-2-8dcfa8f11a1c>\u001b[0m in \u001b[0;36m<cell line: 1>\u001b[0;34m()\u001b[0m\n\u001b[0;32m----> 1\u001b[0;31m \u001b[0mdf_LTV\u001b[0m\u001b[0;34m=\u001b[0m \u001b[0mdf3\u001b[0m\u001b[0;34m.\u001b[0m\u001b[0mcopy\u001b[0m\u001b[0;34m(\u001b[0m\u001b[0;34m)\u001b[0m\u001b[0;34m\u001b[0m\u001b[0;34m\u001b[0m\u001b[0m\n\u001b[0m",
            "\u001b[0;31mNameError\u001b[0m: name 'df3' is not defined"
          ]
        }
      ],
      "source": [
        "df_LTV= df.copy()"
      ]
    },
    {
      "cell_type": "code",
      "execution_count": null,
      "id": "b828bdd7",
      "metadata": {
        "execution": {
          "iopub.execute_input": "2022-11-14T09:03:37.446724Z",
          "iopub.status.busy": "2022-11-14T09:03:37.445721Z",
          "iopub.status.idle": "2022-11-14T09:03:37.453827Z",
          "shell.execute_reply": "2022-11-14T09:03:37.452354Z"
        },
        "id": "b828bdd7",
        "outputId": "c58bbd6d-9366-4977-d361-66289a549f1c",
        "papermill": {
          "duration": 0.04474,
          "end_time": "2022-11-14T09:03:37.456609",
          "exception": false,
          "start_time": "2022-11-14T09:03:37.411869",
          "status": "completed"
        },
        "tags": []
      },
      "outputs": [
        {
          "name": "stdout",
          "output_type": "stream",
          "text": [
            "First date in dataset:  2009-12-01 07:45:00\n"
          ]
        }
      ],
      "source": [
        "print(\"First date in dataset: \", df_LTV['InvoiceDate'].min())"
      ]
    },
    {
      "cell_type": "code",
      "execution_count": null,
      "id": "ea59fe96",
      "metadata": {
        "execution": {
          "iopub.execute_input": "2022-11-14T09:03:37.524589Z",
          "iopub.status.busy": "2022-11-14T09:03:37.524163Z",
          "iopub.status.idle": "2022-11-14T09:03:37.537928Z",
          "shell.execute_reply": "2022-11-14T09:03:37.536641Z"
        },
        "id": "ea59fe96",
        "outputId": "f6752651-1de3-4b8c-9fbe-6768a64b30a5",
        "papermill": {
          "duration": 0.050179,
          "end_time": "2022-11-14T09:03:37.539933",
          "exception": false,
          "start_time": "2022-11-14T09:03:37.489754",
          "status": "completed"
        },
        "tags": []
      },
      "outputs": [
        {
          "name": "stdout",
          "output_type": "stream",
          "text": [
            "Last date in dataset:  2011-12-09 12:50:00\n"
          ]
        }
      ],
      "source": [
        "print(\"Last date in dataset: \", df_LTV['InvoiceDate'].max())"
      ]
    },
    {
      "cell_type": "markdown",
      "id": "d680f7ed",
      "metadata": {
        "id": "d680f7ed",
        "papermill": {
          "duration": 0.032726,
          "end_time": "2022-11-14T09:03:37.605606",
          "exception": false,
          "start_time": "2022-11-14T09:03:37.572880",
          "status": "completed"
        },
        "tags": []
      },
      "source": [
        "create 2 dataframes:"
      ]
    },
    {
      "cell_type": "code",
      "execution_count": null,
      "id": "d51caec4",
      "metadata": {
        "colab": {
          "base_uri": "https://localhost:8080/",
          "height": 141
        },
        "execution": {
          "iopub.execute_input": "2022-11-14T09:03:37.671969Z",
          "iopub.status.busy": "2022-11-14T09:03:37.671637Z",
          "iopub.status.idle": "2022-11-14T09:03:37.733459Z",
          "shell.execute_reply": "2022-11-14T09:03:37.732113Z"
        },
        "id": "d51caec4",
        "outputId": "a64e5379-e58b-4773-d8e6-41f880f8d70e",
        "papermill": {
          "duration": 0.098093,
          "end_time": "2022-11-14T09:03:37.736100",
          "exception": false,
          "start_time": "2022-11-14T09:03:37.638007",
          "status": "completed"
        },
        "tags": []
      },
      "outputs": [
        {
          "ename": "NameError",
          "evalue": "name 'df_LTV' is not defined",
          "output_type": "error",
          "traceback": [
            "\u001b[0;31m---------------------------------------------------------------------------\u001b[0m",
            "\u001b[0;31mNameError\u001b[0m                                 Traceback (most recent call last)",
            "\u001b[0;32m<ipython-input-1-a5fe7ed247ed>\u001b[0m in \u001b[0;36m<cell line: 1>\u001b[0;34m()\u001b[0m\n\u001b[0;32m----> 1\u001b[0;31m \u001b[0mdf_last\u001b[0m\u001b[0;34m=\u001b[0m \u001b[0mdf_LTV\u001b[0m\u001b[0;34m[\u001b[0m\u001b[0;34m(\u001b[0m\u001b[0mdf_LTV\u001b[0m\u001b[0;34m.\u001b[0m\u001b[0mInvoiceDate\u001b[0m \u001b[0;34m>=\u001b[0m  \u001b[0mdatetime\u001b[0m\u001b[0;34m.\u001b[0m\u001b[0mstrptime\u001b[0m\u001b[0;34m(\u001b[0m\u001b[0;34m\"2010-8-1\"\u001b[0m\u001b[0;34m,\u001b[0m \u001b[0;34m'%Y-%m-%d'\u001b[0m\u001b[0;34m)\u001b[0m\u001b[0;34m)\u001b[0m \u001b[0;34m&\u001b[0m \u001b[0;34m(\u001b[0m\u001b[0mdf_LTV\u001b[0m\u001b[0;34m.\u001b[0m\u001b[0mInvoiceDate\u001b[0m \u001b[0;34m<=\u001b[0m \u001b[0mdf_LTV\u001b[0m\u001b[0;34m[\u001b[0m\u001b[0;34m'InvoiceDate'\u001b[0m\u001b[0;34m]\u001b[0m\u001b[0;34m.\u001b[0m\u001b[0mmax\u001b[0m\u001b[0;34m(\u001b[0m\u001b[0;34m)\u001b[0m\u001b[0;34m)\u001b[0m\u001b[0;34m]\u001b[0m\u001b[0;34m.\u001b[0m\u001b[0mreset_index\u001b[0m\u001b[0;34m(\u001b[0m\u001b[0mdrop\u001b[0m\u001b[0;34m=\u001b[0m\u001b[0;32mTrue\u001b[0m\u001b[0;34m)\u001b[0m\u001b[0;34m\u001b[0m\u001b[0;34m\u001b[0m\u001b[0m\n\u001b[0m",
            "\u001b[0;31mNameError\u001b[0m: name 'df_LTV' is not defined"
          ]
        }
      ],
      "source": [
        "df_last= df_LTV[(df_LTV.InvoiceDate >=  datetime.strptime(\"2010-8-1\", '%Y-%m-%d')) & (df_LTV.InvoiceDate <= df_LTV['InvoiceDate'].max())].reset_index(drop=True)"
      ]
    },
    {
      "cell_type": "code",
      "execution_count": null,
      "id": "e4c518bc",
      "metadata": {
        "execution": {
          "iopub.execute_input": "2022-11-14T09:03:37.804235Z",
          "iopub.status.busy": "2022-11-14T09:03:37.803865Z",
          "iopub.status.idle": "2022-11-14T09:03:37.834534Z",
          "shell.execute_reply": "2022-11-14T09:03:37.833460Z"
        },
        "id": "e4c518bc",
        "papermill": {
          "duration": 0.067571,
          "end_time": "2022-11-14T09:03:37.836784",
          "exception": false,
          "start_time": "2022-11-14T09:03:37.769213",
          "status": "completed"
        },
        "tags": []
      },
      "outputs": [],
      "source": [
        "df_first= df_LTV[(df_LTV.InvoiceDate <  datetime.strptime(\"2010-8-1\", '%Y-%m-%d')) & (df_LTV.InvoiceDate >= df_LTV['InvoiceDate'].min())].reset_index(drop=True)"
      ]
    },
    {
      "cell_type": "code",
      "execution_count": null,
      "id": "47ad181e",
      "metadata": {
        "execution": {
          "iopub.execute_input": "2022-11-14T09:03:37.904412Z",
          "iopub.status.busy": "2022-11-14T09:03:37.903795Z",
          "iopub.status.idle": "2022-11-14T09:03:37.924224Z",
          "shell.execute_reply": "2022-11-14T09:03:37.922779Z"
        },
        "id": "47ad181e",
        "outputId": "017f5acd-95cf-4e4b-afd9-68741c530c21",
        "papermill": {
          "duration": 0.056583,
          "end_time": "2022-11-14T09:03:37.926415",
          "exception": false,
          "start_time": "2022-11-14T09:03:37.869832",
          "status": "completed"
        },
        "tags": []
      },
      "outputs": [
        {
          "data": {
            "text/html": [
              "<div>\n",
              "<style scoped>\n",
              "    .dataframe tbody tr th:only-of-type {\n",
              "        vertical-align: middle;\n",
              "    }\n",
              "\n",
              "    .dataframe tbody tr th {\n",
              "        vertical-align: top;\n",
              "    }\n",
              "\n",
              "    .dataframe thead th {\n",
              "        text-align: right;\n",
              "    }\n",
              "</style>\n",
              "<table border=\"1\" class=\"dataframe\">\n",
              "  <thead>\n",
              "    <tr style=\"text-align: right;\">\n",
              "      <th></th>\n",
              "      <th>Invoice</th>\n",
              "      <th>StockCode</th>\n",
              "      <th>Quantity</th>\n",
              "      <th>InvoiceDate</th>\n",
              "      <th>Price</th>\n",
              "      <th>Customer ID</th>\n",
              "      <th>TotalPrice</th>\n",
              "    </tr>\n",
              "  </thead>\n",
              "  <tbody>\n",
              "    <tr>\n",
              "      <th>0</th>\n",
              "      <td>517707</td>\n",
              "      <td>22066</td>\n",
              "      <td>2</td>\n",
              "      <td>2010-08-01 10:06:00</td>\n",
              "      <td>1.45</td>\n",
              "      <td>12843.0</td>\n",
              "      <td>2.90</td>\n",
              "    </tr>\n",
              "    <tr>\n",
              "      <th>1</th>\n",
              "      <td>517707</td>\n",
              "      <td>21889</td>\n",
              "      <td>1</td>\n",
              "      <td>2010-08-01 10:06:00</td>\n",
              "      <td>1.25</td>\n",
              "      <td>12843.0</td>\n",
              "      <td>1.25</td>\n",
              "    </tr>\n",
              "    <tr>\n",
              "      <th>2</th>\n",
              "      <td>517708</td>\n",
              "      <td>22415</td>\n",
              "      <td>2</td>\n",
              "      <td>2010-08-01 10:09:00</td>\n",
              "      <td>7.95</td>\n",
              "      <td>17243.0</td>\n",
              "      <td>15.90</td>\n",
              "    </tr>\n",
              "    <tr>\n",
              "      <th>3</th>\n",
              "      <td>517708</td>\n",
              "      <td>22470</td>\n",
              "      <td>4</td>\n",
              "      <td>2010-08-01 10:09:00</td>\n",
              "      <td>2.95</td>\n",
              "      <td>17243.0</td>\n",
              "      <td>11.80</td>\n",
              "    </tr>\n",
              "    <tr>\n",
              "      <th>4</th>\n",
              "      <td>517708</td>\n",
              "      <td>22483</td>\n",
              "      <td>2</td>\n",
              "      <td>2010-08-01 10:09:00</td>\n",
              "      <td>2.95</td>\n",
              "      <td>17243.0</td>\n",
              "      <td>5.90</td>\n",
              "    </tr>\n",
              "    <tr>\n",
              "      <th>...</th>\n",
              "      <td>...</td>\n",
              "      <td>...</td>\n",
              "      <td>...</td>\n",
              "      <td>...</td>\n",
              "      <td>...</td>\n",
              "      <td>...</td>\n",
              "      <td>...</td>\n",
              "    </tr>\n",
              "    <tr>\n",
              "      <th>558575</th>\n",
              "      <td>581587</td>\n",
              "      <td>22613</td>\n",
              "      <td>12</td>\n",
              "      <td>2011-12-09 12:50:00</td>\n",
              "      <td>0.85</td>\n",
              "      <td>12680.0</td>\n",
              "      <td>10.20</td>\n",
              "    </tr>\n",
              "    <tr>\n",
              "      <th>558576</th>\n",
              "      <td>581587</td>\n",
              "      <td>22899</td>\n",
              "      <td>6</td>\n",
              "      <td>2011-12-09 12:50:00</td>\n",
              "      <td>2.10</td>\n",
              "      <td>12680.0</td>\n",
              "      <td>12.60</td>\n",
              "    </tr>\n",
              "    <tr>\n",
              "      <th>558577</th>\n",
              "      <td>581587</td>\n",
              "      <td>23254</td>\n",
              "      <td>4</td>\n",
              "      <td>2011-12-09 12:50:00</td>\n",
              "      <td>4.15</td>\n",
              "      <td>12680.0</td>\n",
              "      <td>16.60</td>\n",
              "    </tr>\n",
              "    <tr>\n",
              "      <th>558578</th>\n",
              "      <td>581587</td>\n",
              "      <td>23255</td>\n",
              "      <td>4</td>\n",
              "      <td>2011-12-09 12:50:00</td>\n",
              "      <td>4.15</td>\n",
              "      <td>12680.0</td>\n",
              "      <td>16.60</td>\n",
              "    </tr>\n",
              "    <tr>\n",
              "      <th>558579</th>\n",
              "      <td>581587</td>\n",
              "      <td>22138</td>\n",
              "      <td>3</td>\n",
              "      <td>2011-12-09 12:50:00</td>\n",
              "      <td>4.95</td>\n",
              "      <td>12680.0</td>\n",
              "      <td>14.85</td>\n",
              "    </tr>\n",
              "  </tbody>\n",
              "</table>\n",
              "<p>558580 rows × 7 columns</p>\n",
              "</div>"
            ],
            "text/plain": [
              "       Invoice StockCode  Quantity         InvoiceDate  Price Customer ID  \\\n",
              "0       517707     22066         2 2010-08-01 10:06:00   1.45     12843.0   \n",
              "1       517707     21889         1 2010-08-01 10:06:00   1.25     12843.0   \n",
              "2       517708     22415         2 2010-08-01 10:09:00   7.95     17243.0   \n",
              "3       517708     22470         4 2010-08-01 10:09:00   2.95     17243.0   \n",
              "4       517708     22483         2 2010-08-01 10:09:00   2.95     17243.0   \n",
              "...        ...       ...       ...                 ...    ...         ...   \n",
              "558575  581587     22613        12 2011-12-09 12:50:00   0.85     12680.0   \n",
              "558576  581587     22899         6 2011-12-09 12:50:00   2.10     12680.0   \n",
              "558577  581587     23254         4 2011-12-09 12:50:00   4.15     12680.0   \n",
              "558578  581587     23255         4 2011-12-09 12:50:00   4.15     12680.0   \n",
              "558579  581587     22138         3 2011-12-09 12:50:00   4.95     12680.0   \n",
              "\n",
              "        TotalPrice  \n",
              "0             2.90  \n",
              "1             1.25  \n",
              "2            15.90  \n",
              "3            11.80  \n",
              "4             5.90  \n",
              "...            ...  \n",
              "558575       10.20  \n",
              "558576       12.60  \n",
              "558577       16.60  \n",
              "558578       16.60  \n",
              "558579       14.85  \n",
              "\n",
              "[558580 rows x 7 columns]"
            ]
          },
          "execution_count": 45,
          "metadata": {},
          "output_type": "execute_result"
        }
      ],
      "source": [
        "df_last"
      ]
    },
    {
      "cell_type": "code",
      "execution_count": null,
      "id": "68dd42f1",
      "metadata": {
        "execution": {
          "iopub.execute_input": "2022-11-14T09:03:37.997123Z",
          "iopub.status.busy": "2022-11-14T09:03:37.996124Z",
          "iopub.status.idle": "2022-11-14T09:03:38.014270Z",
          "shell.execute_reply": "2022-11-14T09:03:38.012983Z"
        },
        "id": "68dd42f1",
        "outputId": "8242f2f4-f25a-4c11-de33-11a132646939",
        "papermill": {
          "duration": 0.055122,
          "end_time": "2022-11-14T09:03:38.016532",
          "exception": false,
          "start_time": "2022-11-14T09:03:37.961410",
          "status": "completed"
        },
        "tags": []
      },
      "outputs": [
        {
          "data": {
            "text/html": [
              "<div>\n",
              "<style scoped>\n",
              "    .dataframe tbody tr th:only-of-type {\n",
              "        vertical-align: middle;\n",
              "    }\n",
              "\n",
              "    .dataframe tbody tr th {\n",
              "        vertical-align: top;\n",
              "    }\n",
              "\n",
              "    .dataframe thead th {\n",
              "        text-align: right;\n",
              "    }\n",
              "</style>\n",
              "<table border=\"1\" class=\"dataframe\">\n",
              "  <thead>\n",
              "    <tr style=\"text-align: right;\">\n",
              "      <th></th>\n",
              "      <th>Invoice</th>\n",
              "      <th>StockCode</th>\n",
              "      <th>Quantity</th>\n",
              "      <th>InvoiceDate</th>\n",
              "      <th>Price</th>\n",
              "      <th>Customer ID</th>\n",
              "      <th>TotalPrice</th>\n",
              "    </tr>\n",
              "  </thead>\n",
              "  <tbody>\n",
              "    <tr>\n",
              "      <th>0</th>\n",
              "      <td>489434</td>\n",
              "      <td>85048</td>\n",
              "      <td>12</td>\n",
              "      <td>2009-12-01 07:45:00</td>\n",
              "      <td>6.95</td>\n",
              "      <td>13085.0</td>\n",
              "      <td>83.40</td>\n",
              "    </tr>\n",
              "    <tr>\n",
              "      <th>1</th>\n",
              "      <td>489434</td>\n",
              "      <td>79323P</td>\n",
              "      <td>12</td>\n",
              "      <td>2009-12-01 07:45:00</td>\n",
              "      <td>6.75</td>\n",
              "      <td>13085.0</td>\n",
              "      <td>81.00</td>\n",
              "    </tr>\n",
              "    <tr>\n",
              "      <th>2</th>\n",
              "      <td>489434</td>\n",
              "      <td>79323W</td>\n",
              "      <td>12</td>\n",
              "      <td>2009-12-01 07:45:00</td>\n",
              "      <td>6.75</td>\n",
              "      <td>13085.0</td>\n",
              "      <td>81.00</td>\n",
              "    </tr>\n",
              "    <tr>\n",
              "      <th>3</th>\n",
              "      <td>489434</td>\n",
              "      <td>22041</td>\n",
              "      <td>48</td>\n",
              "      <td>2009-12-01 07:45:00</td>\n",
              "      <td>2.10</td>\n",
              "      <td>13085.0</td>\n",
              "      <td>100.80</td>\n",
              "    </tr>\n",
              "    <tr>\n",
              "      <th>4</th>\n",
              "      <td>489434</td>\n",
              "      <td>21232</td>\n",
              "      <td>24</td>\n",
              "      <td>2009-12-01 07:45:00</td>\n",
              "      <td>1.25</td>\n",
              "      <td>13085.0</td>\n",
              "      <td>30.00</td>\n",
              "    </tr>\n",
              "    <tr>\n",
              "      <th>...</th>\n",
              "      <td>...</td>\n",
              "      <td>...</td>\n",
              "      <td>...</td>\n",
              "      <td>...</td>\n",
              "      <td>...</td>\n",
              "      <td>...</td>\n",
              "      <td>...</td>\n",
              "    </tr>\n",
              "    <tr>\n",
              "      <th>218240</th>\n",
              "      <td>517704</td>\n",
              "      <td>22659</td>\n",
              "      <td>6</td>\n",
              "      <td>2010-07-30 17:08:00</td>\n",
              "      <td>1.95</td>\n",
              "      <td>14031.0</td>\n",
              "      <td>11.70</td>\n",
              "    </tr>\n",
              "    <tr>\n",
              "      <th>218241</th>\n",
              "      <td>517704</td>\n",
              "      <td>21658</td>\n",
              "      <td>3</td>\n",
              "      <td>2010-07-30 17:08:00</td>\n",
              "      <td>3.95</td>\n",
              "      <td>14031.0</td>\n",
              "      <td>11.85</td>\n",
              "    </tr>\n",
              "    <tr>\n",
              "      <th>218242</th>\n",
              "      <td>517704</td>\n",
              "      <td>22328</td>\n",
              "      <td>8</td>\n",
              "      <td>2010-07-30 17:08:00</td>\n",
              "      <td>2.95</td>\n",
              "      <td>14031.0</td>\n",
              "      <td>23.60</td>\n",
              "    </tr>\n",
              "    <tr>\n",
              "      <th>218243</th>\n",
              "      <td>517704</td>\n",
              "      <td>37370</td>\n",
              "      <td>72</td>\n",
              "      <td>2010-07-30 17:08:00</td>\n",
              "      <td>1.06</td>\n",
              "      <td>14031.0</td>\n",
              "      <td>76.32</td>\n",
              "    </tr>\n",
              "    <tr>\n",
              "      <th>218244</th>\n",
              "      <td>517704</td>\n",
              "      <td>48138</td>\n",
              "      <td>10</td>\n",
              "      <td>2010-07-30 17:08:00</td>\n",
              "      <td>6.35</td>\n",
              "      <td>14031.0</td>\n",
              "      <td>63.50</td>\n",
              "    </tr>\n",
              "  </tbody>\n",
              "</table>\n",
              "<p>218245 rows × 7 columns</p>\n",
              "</div>"
            ],
            "text/plain": [
              "       Invoice StockCode  Quantity         InvoiceDate  Price Customer ID  \\\n",
              "0       489434     85048        12 2009-12-01 07:45:00   6.95     13085.0   \n",
              "1       489434    79323P        12 2009-12-01 07:45:00   6.75     13085.0   \n",
              "2       489434    79323W        12 2009-12-01 07:45:00   6.75     13085.0   \n",
              "3       489434     22041        48 2009-12-01 07:45:00   2.10     13085.0   \n",
              "4       489434     21232        24 2009-12-01 07:45:00   1.25     13085.0   \n",
              "...        ...       ...       ...                 ...    ...         ...   \n",
              "218240  517704     22659         6 2010-07-30 17:08:00   1.95     14031.0   \n",
              "218241  517704     21658         3 2010-07-30 17:08:00   3.95     14031.0   \n",
              "218242  517704     22328         8 2010-07-30 17:08:00   2.95     14031.0   \n",
              "218243  517704     37370        72 2010-07-30 17:08:00   1.06     14031.0   \n",
              "218244  517704     48138        10 2010-07-30 17:08:00   6.35     14031.0   \n",
              "\n",
              "        TotalPrice  \n",
              "0            83.40  \n",
              "1            81.00  \n",
              "2            81.00  \n",
              "3           100.80  \n",
              "4            30.00  \n",
              "...            ...  \n",
              "218240       11.70  \n",
              "218241       11.85  \n",
              "218242       23.60  \n",
              "218243       76.32  \n",
              "218244       63.50  \n",
              "\n",
              "[218245 rows x 7 columns]"
            ]
          },
          "execution_count": 46,
          "metadata": {},
          "output_type": "execute_result"
        }
      ],
      "source": [
        "df_first"
      ]
    },
    {
      "cell_type": "markdown",
      "id": "f7fd1e3e",
      "metadata": {
        "id": "f7fd1e3e",
        "papermill": {
          "duration": 0.033365,
          "end_time": "2022-11-14T09:03:38.085490",
          "exception": false,
          "start_time": "2022-11-14T09:03:38.052125",
          "status": "completed"
        },
        "tags": []
      },
      "source": [
        "I will create my RFM scoring (I won’t go over the details of RFM scoring, <a href=\"https://www.kaggle.com/code/yaseminturker/customer-segmentation-with-rfm-kmeans-and-hier#Model-Tuning\" target=\"_blank\" rel=\"noopener noreferrer\">please see my previous project</a>):"
      ]
    },
    {
      "cell_type": "code",
      "execution_count": null,
      "id": "dc58a1f9",
      "metadata": {
        "execution": {
          "iopub.execute_input": "2022-11-14T09:03:38.155756Z",
          "iopub.status.busy": "2022-11-14T09:03:38.155170Z",
          "iopub.status.idle": "2022-11-14T09:03:38.177112Z",
          "shell.execute_reply": "2022-11-14T09:03:38.176269Z"
        },
        "id": "dc58a1f9",
        "outputId": "b385d0ae-66df-43ee-a0bf-fd85e3a1d9ec",
        "papermill": {
          "duration": 0.059693,
          "end_time": "2022-11-14T09:03:38.179755",
          "exception": false,
          "start_time": "2022-11-14T09:03:38.120062",
          "status": "completed"
        },
        "tags": []
      },
      "outputs": [
        {
          "data": {
            "text/html": [
              "<div>\n",
              "<style scoped>\n",
              "    .dataframe tbody tr th:only-of-type {\n",
              "        vertical-align: middle;\n",
              "    }\n",
              "\n",
              "    .dataframe tbody tr th {\n",
              "        vertical-align: top;\n",
              "    }\n",
              "\n",
              "    .dataframe thead th {\n",
              "        text-align: right;\n",
              "    }\n",
              "</style>\n",
              "<table border=\"1\" class=\"dataframe\">\n",
              "  <thead>\n",
              "    <tr style=\"text-align: right;\">\n",
              "      <th></th>\n",
              "      <th>Customer ID</th>\n",
              "    </tr>\n",
              "  </thead>\n",
              "  <tbody>\n",
              "    <tr>\n",
              "      <th>0</th>\n",
              "      <td>13085.0</td>\n",
              "    </tr>\n",
              "    <tr>\n",
              "      <th>1</th>\n",
              "      <td>13078.0</td>\n",
              "    </tr>\n",
              "    <tr>\n",
              "      <th>2</th>\n",
              "      <td>15362.0</td>\n",
              "    </tr>\n",
              "    <tr>\n",
              "      <th>3</th>\n",
              "      <td>18102.0</td>\n",
              "    </tr>\n",
              "    <tr>\n",
              "      <th>4</th>\n",
              "      <td>12682.0</td>\n",
              "    </tr>\n",
              "    <tr>\n",
              "      <th>...</th>\n",
              "      <td>...</td>\n",
              "    </tr>\n",
              "    <tr>\n",
              "      <th>3132</th>\n",
              "      <td>14346.0</td>\n",
              "    </tr>\n",
              "    <tr>\n",
              "      <th>3133</th>\n",
              "      <td>16428.0</td>\n",
              "    </tr>\n",
              "    <tr>\n",
              "      <th>3134</th>\n",
              "      <td>17109.0</td>\n",
              "    </tr>\n",
              "    <tr>\n",
              "      <th>3135</th>\n",
              "      <td>17735.0</td>\n",
              "    </tr>\n",
              "    <tr>\n",
              "      <th>3136</th>\n",
              "      <td>15459.0</td>\n",
              "    </tr>\n",
              "  </tbody>\n",
              "</table>\n",
              "<p>3137 rows × 1 columns</p>\n",
              "</div>"
            ],
            "text/plain": [
              "     Customer ID\n",
              "0        13085.0\n",
              "1        13078.0\n",
              "2        15362.0\n",
              "3        18102.0\n",
              "4        12682.0\n",
              "...          ...\n",
              "3132     14346.0\n",
              "3133     16428.0\n",
              "3134     17109.0\n",
              "3135     17735.0\n",
              "3136     15459.0\n",
              "\n",
              "[3137 rows x 1 columns]"
            ]
          },
          "execution_count": 47,
          "metadata": {},
          "output_type": "execute_result"
        }
      ],
      "source": [
        "RFM_df= pd.DataFrame(df_first['Customer ID'].unique())\n",
        "RFM_df.columns = ['Customer ID']\n",
        "RFM_df"
      ]
    },
    {
      "cell_type": "markdown",
      "id": "965077e9",
      "metadata": {
        "id": "965077e9",
        "papermill": {
          "duration": 0.033805,
          "end_time": "2022-11-14T09:03:38.248520",
          "exception": false,
          "start_time": "2022-11-14T09:03:38.214715",
          "status": "completed"
        },
        "tags": []
      },
      "source": [
        "for Recency:"
      ]
    },
    {
      "cell_type": "code",
      "execution_count": null,
      "id": "9343fede",
      "metadata": {
        "execution": {
          "iopub.execute_input": "2022-11-14T09:03:38.318341Z",
          "iopub.status.busy": "2022-11-14T09:03:38.317994Z",
          "iopub.status.idle": "2022-11-14T09:03:38.357642Z",
          "shell.execute_reply": "2022-11-14T09:03:38.356264Z"
        },
        "id": "9343fede",
        "outputId": "48d8e57f-e97f-4196-d507-3b657b5615b4",
        "papermill": {
          "duration": 0.07718,
          "end_time": "2022-11-14T09:03:38.360097",
          "exception": false,
          "start_time": "2022-11-14T09:03:38.282917",
          "status": "completed"
        },
        "tags": []
      },
      "outputs": [
        {
          "data": {
            "text/html": [
              "<div>\n",
              "<style scoped>\n",
              "    .dataframe tbody tr th:only-of-type {\n",
              "        vertical-align: middle;\n",
              "    }\n",
              "\n",
              "    .dataframe tbody tr th {\n",
              "        vertical-align: top;\n",
              "    }\n",
              "\n",
              "    .dataframe thead th {\n",
              "        text-align: right;\n",
              "    }\n",
              "</style>\n",
              "<table border=\"1\" class=\"dataframe\">\n",
              "  <thead>\n",
              "    <tr style=\"text-align: right;\">\n",
              "      <th></th>\n",
              "      <th>Customer ID</th>\n",
              "      <th>InvoiceDate</th>\n",
              "    </tr>\n",
              "  </thead>\n",
              "  <tbody>\n",
              "    <tr>\n",
              "      <th>0</th>\n",
              "      <td>12346.0</td>\n",
              "      <td>2010-06-28 13:53:00</td>\n",
              "    </tr>\n",
              "    <tr>\n",
              "      <th>1</th>\n",
              "      <td>12349.0</td>\n",
              "      <td>2010-04-29 13:20:00</td>\n",
              "    </tr>\n",
              "    <tr>\n",
              "      <th>2</th>\n",
              "      <td>12355.0</td>\n",
              "      <td>2010-05-21 11:59:00</td>\n",
              "    </tr>\n",
              "    <tr>\n",
              "      <th>3</th>\n",
              "      <td>12358.0</td>\n",
              "      <td>2010-06-07 12:28:00</td>\n",
              "    </tr>\n",
              "    <tr>\n",
              "      <th>4</th>\n",
              "      <td>12359.0</td>\n",
              "      <td>2010-06-22 10:24:00</td>\n",
              "    </tr>\n",
              "    <tr>\n",
              "      <th>...</th>\n",
              "      <td>...</td>\n",
              "      <td>...</td>\n",
              "    </tr>\n",
              "    <tr>\n",
              "      <th>3132</th>\n",
              "      <td>18281.0</td>\n",
              "      <td>2010-05-11 10:49:00</td>\n",
              "    </tr>\n",
              "    <tr>\n",
              "      <th>3133</th>\n",
              "      <td>18283.0</td>\n",
              "      <td>2010-03-28 13:21:00</td>\n",
              "    </tr>\n",
              "    <tr>\n",
              "      <th>3134</th>\n",
              "      <td>18285.0</td>\n",
              "      <td>2010-02-17 10:24:00</td>\n",
              "    </tr>\n",
              "    <tr>\n",
              "      <th>3135</th>\n",
              "      <td>18286.0</td>\n",
              "      <td>2009-12-16 10:45:00</td>\n",
              "    </tr>\n",
              "    <tr>\n",
              "      <th>3136</th>\n",
              "      <td>18287.0</td>\n",
              "      <td>2010-05-17 11:55:00</td>\n",
              "    </tr>\n",
              "  </tbody>\n",
              "</table>\n",
              "<p>3137 rows × 2 columns</p>\n",
              "</div>"
            ],
            "text/plain": [
              "      Customer ID         InvoiceDate\n",
              "0         12346.0 2010-06-28 13:53:00\n",
              "1         12349.0 2010-04-29 13:20:00\n",
              "2         12355.0 2010-05-21 11:59:00\n",
              "3         12358.0 2010-06-07 12:28:00\n",
              "4         12359.0 2010-06-22 10:24:00\n",
              "...           ...                 ...\n",
              "3132      18281.0 2010-05-11 10:49:00\n",
              "3133      18283.0 2010-03-28 13:21:00\n",
              "3134      18285.0 2010-02-17 10:24:00\n",
              "3135      18286.0 2009-12-16 10:45:00\n",
              "3136      18287.0 2010-05-17 11:55:00\n",
              "\n",
              "[3137 rows x 2 columns]"
            ]
          },
          "execution_count": 48,
          "metadata": {},
          "output_type": "execute_result"
        }
      ],
      "source": [
        "recency_df= df_first.groupby('Customer ID')['InvoiceDate'].max().reset_index()\n",
        "recency_df"
      ]
    },
    {
      "cell_type": "code",
      "execution_count": null,
      "id": "27beda0d",
      "metadata": {
        "execution": {
          "iopub.execute_input": "2022-11-14T09:03:38.433330Z",
          "iopub.status.busy": "2022-11-14T09:03:38.431774Z",
          "iopub.status.idle": "2022-11-14T09:03:38.439639Z",
          "shell.execute_reply": "2022-11-14T09:03:38.438570Z"
        },
        "id": "27beda0d",
        "outputId": "051e08b5-84aa-42e6-bf30-2fa9878b73c2",
        "papermill": {
          "duration": 0.045555,
          "end_time": "2022-11-14T09:03:38.441611",
          "exception": false,
          "start_time": "2022-11-14T09:03:38.396056",
          "status": "completed"
        },
        "tags": []
      },
      "outputs": [
        {
          "data": {
            "text/plain": [
              "Timestamp('2010-07-30 17:08:00')"
            ]
          },
          "execution_count": 49,
          "metadata": {},
          "output_type": "execute_result"
        }
      ],
      "source": [
        "last_day_df_first= df_first['InvoiceDate'].max()\n",
        "last_day_df_first"
      ]
    },
    {
      "cell_type": "code",
      "execution_count": null,
      "id": "83111ea2",
      "metadata": {
        "execution": {
          "iopub.execute_input": "2022-11-14T09:03:38.513855Z",
          "iopub.status.busy": "2022-11-14T09:03:38.513193Z",
          "iopub.status.idle": "2022-11-14T09:03:38.554233Z",
          "shell.execute_reply": "2022-11-14T09:03:38.553204Z"
        },
        "id": "83111ea2",
        "outputId": "0d60900e-2eba-4cdc-a295-d649178c6ae5",
        "papermill": {
          "duration": 0.07926,
          "end_time": "2022-11-14T09:03:38.556353",
          "exception": false,
          "start_time": "2022-11-14T09:03:38.477093",
          "status": "completed"
        },
        "tags": []
      },
      "outputs": [
        {
          "data": {
            "text/html": [
              "<div>\n",
              "<style scoped>\n",
              "    .dataframe tbody tr th:only-of-type {\n",
              "        vertical-align: middle;\n",
              "    }\n",
              "\n",
              "    .dataframe tbody tr th {\n",
              "        vertical-align: top;\n",
              "    }\n",
              "\n",
              "    .dataframe thead th {\n",
              "        text-align: right;\n",
              "    }\n",
              "</style>\n",
              "<table border=\"1\" class=\"dataframe\">\n",
              "  <thead>\n",
              "    <tr style=\"text-align: right;\">\n",
              "      <th></th>\n",
              "      <th>Customer ID</th>\n",
              "      <th>InvoiceDate</th>\n",
              "      <th>Recency</th>\n",
              "    </tr>\n",
              "  </thead>\n",
              "  <tbody>\n",
              "    <tr>\n",
              "      <th>0</th>\n",
              "      <td>12346.0</td>\n",
              "      <td>2010-06-28 13:53:00</td>\n",
              "      <td>32</td>\n",
              "    </tr>\n",
              "    <tr>\n",
              "      <th>1</th>\n",
              "      <td>12349.0</td>\n",
              "      <td>2010-04-29 13:20:00</td>\n",
              "      <td>92</td>\n",
              "    </tr>\n",
              "    <tr>\n",
              "      <th>2</th>\n",
              "      <td>12355.0</td>\n",
              "      <td>2010-05-21 11:59:00</td>\n",
              "      <td>70</td>\n",
              "    </tr>\n",
              "    <tr>\n",
              "      <th>3</th>\n",
              "      <td>12358.0</td>\n",
              "      <td>2010-06-07 12:28:00</td>\n",
              "      <td>53</td>\n",
              "    </tr>\n",
              "    <tr>\n",
              "      <th>4</th>\n",
              "      <td>12359.0</td>\n",
              "      <td>2010-06-22 10:24:00</td>\n",
              "      <td>38</td>\n",
              "    </tr>\n",
              "    <tr>\n",
              "      <th>...</th>\n",
              "      <td>...</td>\n",
              "      <td>...</td>\n",
              "      <td>...</td>\n",
              "    </tr>\n",
              "    <tr>\n",
              "      <th>3132</th>\n",
              "      <td>18281.0</td>\n",
              "      <td>2010-05-11 10:49:00</td>\n",
              "      <td>80</td>\n",
              "    </tr>\n",
              "    <tr>\n",
              "      <th>3133</th>\n",
              "      <td>18283.0</td>\n",
              "      <td>2010-03-28 13:21:00</td>\n",
              "      <td>124</td>\n",
              "    </tr>\n",
              "    <tr>\n",
              "      <th>3134</th>\n",
              "      <td>18285.0</td>\n",
              "      <td>2010-02-17 10:24:00</td>\n",
              "      <td>163</td>\n",
              "    </tr>\n",
              "    <tr>\n",
              "      <th>3135</th>\n",
              "      <td>18286.0</td>\n",
              "      <td>2009-12-16 10:45:00</td>\n",
              "      <td>226</td>\n",
              "    </tr>\n",
              "    <tr>\n",
              "      <th>3136</th>\n",
              "      <td>18287.0</td>\n",
              "      <td>2010-05-17 11:55:00</td>\n",
              "      <td>74</td>\n",
              "    </tr>\n",
              "  </tbody>\n",
              "</table>\n",
              "<p>3137 rows × 3 columns</p>\n",
              "</div>"
            ],
            "text/plain": [
              "      Customer ID         InvoiceDate  Recency\n",
              "0         12346.0 2010-06-28 13:53:00       32\n",
              "1         12349.0 2010-04-29 13:20:00       92\n",
              "2         12355.0 2010-05-21 11:59:00       70\n",
              "3         12358.0 2010-06-07 12:28:00       53\n",
              "4         12359.0 2010-06-22 10:24:00       38\n",
              "...           ...                 ...      ...\n",
              "3132      18281.0 2010-05-11 10:49:00       80\n",
              "3133      18283.0 2010-03-28 13:21:00      124\n",
              "3134      18285.0 2010-02-17 10:24:00      163\n",
              "3135      18286.0 2009-12-16 10:45:00      226\n",
              "3136      18287.0 2010-05-17 11:55:00       74\n",
              "\n",
              "[3137 rows x 3 columns]"
            ]
          },
          "execution_count": 50,
          "metadata": {},
          "output_type": "execute_result"
        }
      ],
      "source": [
        "recency_df['Recency']= recency_df['InvoiceDate'].apply(lambda x: (last_day_df_first - x).days)\n",
        "recency_df"
      ]
    },
    {
      "cell_type": "code",
      "execution_count": null,
      "id": "4e478550",
      "metadata": {
        "execution": {
          "iopub.execute_input": "2022-11-14T09:03:38.628186Z",
          "iopub.status.busy": "2022-11-14T09:03:38.627814Z",
          "iopub.status.idle": "2022-11-14T09:03:38.655634Z",
          "shell.execute_reply": "2022-11-14T09:03:38.654242Z"
        },
        "id": "4e478550",
        "outputId": "090923a0-3f7d-44fb-a2be-35a501664b7c",
        "papermill": {
          "duration": 0.066422,
          "end_time": "2022-11-14T09:03:38.657852",
          "exception": false,
          "start_time": "2022-11-14T09:03:38.591430",
          "status": "completed"
        },
        "tags": []
      },
      "outputs": [
        {
          "data": {
            "text/html": [
              "<div>\n",
              "<style scoped>\n",
              "    .dataframe tbody tr th:only-of-type {\n",
              "        vertical-align: middle;\n",
              "    }\n",
              "\n",
              "    .dataframe tbody tr th {\n",
              "        vertical-align: top;\n",
              "    }\n",
              "\n",
              "    .dataframe thead th {\n",
              "        text-align: right;\n",
              "    }\n",
              "</style>\n",
              "<table border=\"1\" class=\"dataframe\">\n",
              "  <thead>\n",
              "    <tr style=\"text-align: right;\">\n",
              "      <th></th>\n",
              "      <th>Customer ID</th>\n",
              "      <th>Recency</th>\n",
              "    </tr>\n",
              "  </thead>\n",
              "  <tbody>\n",
              "    <tr>\n",
              "      <th>0</th>\n",
              "      <td>13085.0</td>\n",
              "      <td>182</td>\n",
              "    </tr>\n",
              "    <tr>\n",
              "      <th>1</th>\n",
              "      <td>13078.0</td>\n",
              "      <td>3</td>\n",
              "    </tr>\n",
              "    <tr>\n",
              "      <th>2</th>\n",
              "      <td>15362.0</td>\n",
              "      <td>241</td>\n",
              "    </tr>\n",
              "    <tr>\n",
              "      <th>3</th>\n",
              "      <td>18102.0</td>\n",
              "      <td>0</td>\n",
              "    </tr>\n",
              "    <tr>\n",
              "      <th>4</th>\n",
              "      <td>12682.0</td>\n",
              "      <td>15</td>\n",
              "    </tr>\n",
              "    <tr>\n",
              "      <th>...</th>\n",
              "      <td>...</td>\n",
              "      <td>...</td>\n",
              "    </tr>\n",
              "    <tr>\n",
              "      <th>3132</th>\n",
              "      <td>14346.0</td>\n",
              "      <td>0</td>\n",
              "    </tr>\n",
              "    <tr>\n",
              "      <th>3133</th>\n",
              "      <td>16428.0</td>\n",
              "      <td>0</td>\n",
              "    </tr>\n",
              "    <tr>\n",
              "      <th>3134</th>\n",
              "      <td>17109.0</td>\n",
              "      <td>0</td>\n",
              "    </tr>\n",
              "    <tr>\n",
              "      <th>3135</th>\n",
              "      <td>17735.0</td>\n",
              "      <td>0</td>\n",
              "    </tr>\n",
              "    <tr>\n",
              "      <th>3136</th>\n",
              "      <td>15459.0</td>\n",
              "      <td>0</td>\n",
              "    </tr>\n",
              "  </tbody>\n",
              "</table>\n",
              "<p>3137 rows × 2 columns</p>\n",
              "</div>"
            ],
            "text/plain": [
              "     Customer ID  Recency\n",
              "0        13085.0      182\n",
              "1        13078.0        3\n",
              "2        15362.0      241\n",
              "3        18102.0        0\n",
              "4        12682.0       15\n",
              "...          ...      ...\n",
              "3132     14346.0        0\n",
              "3133     16428.0        0\n",
              "3134     17109.0        0\n",
              "3135     17735.0        0\n",
              "3136     15459.0        0\n",
              "\n",
              "[3137 rows x 2 columns]"
            ]
          },
          "execution_count": 51,
          "metadata": {},
          "output_type": "execute_result"
        }
      ],
      "source": [
        "RFM_df= pd.merge(RFM_df, recency_df[['Customer ID','Recency']], on='Customer ID')\n",
        "RFM_df"
      ]
    },
    {
      "cell_type": "code",
      "execution_count": null,
      "id": "3b2b33f5",
      "metadata": {
        "execution": {
          "iopub.execute_input": "2022-11-14T09:03:38.730253Z",
          "iopub.status.busy": "2022-11-14T09:03:38.729598Z",
          "iopub.status.idle": "2022-11-14T09:03:38.736336Z",
          "shell.execute_reply": "2022-11-14T09:03:38.735421Z"
        },
        "id": "3b2b33f5",
        "papermill": {
          "duration": 0.04516,
          "end_time": "2022-11-14T09:03:38.738334",
          "exception": false,
          "start_time": "2022-11-14T09:03:38.693174",
          "status": "completed"
        },
        "tags": []
      },
      "outputs": [],
      "source": [
        "#order cluster method\n",
        "def order_cluster(cluster_field_name, target_field_name,df,ascending):\n",
        "    new_cluster_field_name = 'new_' + cluster_field_name\n",
        "    df_new = df.groupby(cluster_field_name)[target_field_name].mean().reset_index()\n",
        "    df_new = df_new.sort_values(by=target_field_name,ascending=ascending).reset_index(drop=True)\n",
        "    df_new['index'] = df_new.index\n",
        "    df_final = pd.merge(df,df_new[[cluster_field_name,'index']], on=cluster_field_name)\n",
        "    df_final = df_final.drop([cluster_field_name],axis=1)\n",
        "    df_final = df_final.rename(columns={\"index\":cluster_field_name})\n",
        "    return df_final"
      ]
    },
    {
      "cell_type": "markdown",
      "id": "14e2f6d6",
      "metadata": {
        "id": "14e2f6d6",
        "papermill": {
          "duration": 0.034186,
          "end_time": "2022-11-14T09:03:38.807196",
          "exception": false,
          "start_time": "2022-11-14T09:03:38.773010",
          "status": "completed"
        },
        "tags": []
      },
      "source": [
        "Build 4 clusters for recency and add it to dataframe:"
      ]
    },
    {
      "cell_type": "code",
      "execution_count": null,
      "id": "c37f05cc",
      "metadata": {
        "execution": {
          "iopub.execute_input": "2022-11-14T09:03:38.879235Z",
          "iopub.status.busy": "2022-11-14T09:03:38.878030Z",
          "iopub.status.idle": "2022-11-14T09:03:39.344739Z",
          "shell.execute_reply": "2022-11-14T09:03:39.343397Z"
        },
        "id": "c37f05cc",
        "papermill": {
          "duration": 0.505214,
          "end_time": "2022-11-14T09:03:39.347138",
          "exception": false,
          "start_time": "2022-11-14T09:03:38.841924",
          "status": "completed"
        },
        "tags": []
      },
      "outputs": [],
      "source": [
        "from sklearn.cluster import KMeans"
      ]
    },
    {
      "cell_type": "code",
      "execution_count": null,
      "id": "1184f386",
      "metadata": {
        "execution": {
          "iopub.execute_input": "2022-11-14T09:03:39.420326Z",
          "iopub.status.busy": "2022-11-14T09:03:39.419224Z",
          "iopub.status.idle": "2022-11-14T09:03:39.653831Z",
          "shell.execute_reply": "2022-11-14T09:03:39.652973Z"
        },
        "id": "1184f386",
        "outputId": "27001779-c687-41cd-da0a-71d0caf2b2a2",
        "papermill": {
          "duration": 0.273962,
          "end_time": "2022-11-14T09:03:39.656181",
          "exception": false,
          "start_time": "2022-11-14T09:03:39.382219",
          "status": "completed"
        },
        "tags": []
      },
      "outputs": [
        {
          "data": {
            "text/html": [
              "<div>\n",
              "<style scoped>\n",
              "    .dataframe tbody tr th:only-of-type {\n",
              "        vertical-align: middle;\n",
              "    }\n",
              "\n",
              "    .dataframe tbody tr th {\n",
              "        vertical-align: top;\n",
              "    }\n",
              "\n",
              "    .dataframe thead th {\n",
              "        text-align: right;\n",
              "    }\n",
              "</style>\n",
              "<table border=\"1\" class=\"dataframe\">\n",
              "  <thead>\n",
              "    <tr style=\"text-align: right;\">\n",
              "      <th></th>\n",
              "      <th>Customer ID</th>\n",
              "      <th>Recency</th>\n",
              "      <th>RecencyCluster</th>\n",
              "    </tr>\n",
              "  </thead>\n",
              "  <tbody>\n",
              "    <tr>\n",
              "      <th>0</th>\n",
              "      <td>13085.0</td>\n",
              "      <td>182</td>\n",
              "      <td>1</td>\n",
              "    </tr>\n",
              "    <tr>\n",
              "      <th>1</th>\n",
              "      <td>13078.0</td>\n",
              "      <td>3</td>\n",
              "      <td>2</td>\n",
              "    </tr>\n",
              "    <tr>\n",
              "      <th>2</th>\n",
              "      <td>15362.0</td>\n",
              "      <td>241</td>\n",
              "      <td>1</td>\n",
              "    </tr>\n",
              "    <tr>\n",
              "      <th>3</th>\n",
              "      <td>18102.0</td>\n",
              "      <td>0</td>\n",
              "      <td>2</td>\n",
              "    </tr>\n",
              "    <tr>\n",
              "      <th>4</th>\n",
              "      <td>12682.0</td>\n",
              "      <td>15</td>\n",
              "      <td>2</td>\n",
              "    </tr>\n",
              "    <tr>\n",
              "      <th>...</th>\n",
              "      <td>...</td>\n",
              "      <td>...</td>\n",
              "      <td>...</td>\n",
              "    </tr>\n",
              "    <tr>\n",
              "      <th>3132</th>\n",
              "      <td>14346.0</td>\n",
              "      <td>0</td>\n",
              "      <td>2</td>\n",
              "    </tr>\n",
              "    <tr>\n",
              "      <th>3133</th>\n",
              "      <td>16428.0</td>\n",
              "      <td>0</td>\n",
              "      <td>2</td>\n",
              "    </tr>\n",
              "    <tr>\n",
              "      <th>3134</th>\n",
              "      <td>17109.0</td>\n",
              "      <td>0</td>\n",
              "      <td>2</td>\n",
              "    </tr>\n",
              "    <tr>\n",
              "      <th>3135</th>\n",
              "      <td>17735.0</td>\n",
              "      <td>0</td>\n",
              "      <td>2</td>\n",
              "    </tr>\n",
              "    <tr>\n",
              "      <th>3136</th>\n",
              "      <td>15459.0</td>\n",
              "      <td>0</td>\n",
              "      <td>2</td>\n",
              "    </tr>\n",
              "  </tbody>\n",
              "</table>\n",
              "<p>3137 rows × 3 columns</p>\n",
              "</div>"
            ],
            "text/plain": [
              "     Customer ID  Recency  RecencyCluster\n",
              "0        13085.0      182               1\n",
              "1        13078.0        3               2\n",
              "2        15362.0      241               1\n",
              "3        18102.0        0               2\n",
              "4        12682.0       15               2\n",
              "...          ...      ...             ...\n",
              "3132     14346.0        0               2\n",
              "3133     16428.0        0               2\n",
              "3134     17109.0        0               2\n",
              "3135     17735.0        0               2\n",
              "3136     15459.0        0               2\n",
              "\n",
              "[3137 rows x 3 columns]"
            ]
          },
          "execution_count": 54,
          "metadata": {},
          "output_type": "execute_result"
        }
      ],
      "source": [
        "kmeans = KMeans(n_clusters=4)\n",
        "kmeans.fit(RFM_df[['Recency']])\n",
        "RFM_df['RecencyCluster'] = kmeans.predict(RFM_df[['Recency']])\n",
        "RFM_df"
      ]
    },
    {
      "cell_type": "code",
      "execution_count": null,
      "id": "0a8e410c",
      "metadata": {
        "execution": {
          "iopub.execute_input": "2022-11-14T09:03:39.729687Z",
          "iopub.status.busy": "2022-11-14T09:03:39.729301Z",
          "iopub.status.idle": "2022-11-14T09:03:39.753127Z",
          "shell.execute_reply": "2022-11-14T09:03:39.752167Z"
        },
        "id": "0a8e410c",
        "outputId": "05cf00f3-bf45-4f64-e654-df3fbdb23a22",
        "papermill": {
          "duration": 0.062419,
          "end_time": "2022-11-14T09:03:39.755427",
          "exception": false,
          "start_time": "2022-11-14T09:03:39.693008",
          "status": "completed"
        },
        "tags": []
      },
      "outputs": [
        {
          "data": {
            "text/html": [
              "<div>\n",
              "<style scoped>\n",
              "    .dataframe tbody tr th:only-of-type {\n",
              "        vertical-align: middle;\n",
              "    }\n",
              "\n",
              "    .dataframe tbody tr th {\n",
              "        vertical-align: top;\n",
              "    }\n",
              "\n",
              "    .dataframe thead th {\n",
              "        text-align: right;\n",
              "    }\n",
              "</style>\n",
              "<table border=\"1\" class=\"dataframe\">\n",
              "  <thead>\n",
              "    <tr style=\"text-align: right;\">\n",
              "      <th></th>\n",
              "      <th>Customer ID</th>\n",
              "      <th>Recency</th>\n",
              "      <th>RecencyCluster</th>\n",
              "    </tr>\n",
              "  </thead>\n",
              "  <tbody>\n",
              "    <tr>\n",
              "      <th>0</th>\n",
              "      <td>13085.0</td>\n",
              "      <td>182</td>\n",
              "      <td>0</td>\n",
              "    </tr>\n",
              "    <tr>\n",
              "      <th>1</th>\n",
              "      <td>15362.0</td>\n",
              "      <td>241</td>\n",
              "      <td>0</td>\n",
              "    </tr>\n",
              "    <tr>\n",
              "      <th>2</th>\n",
              "      <td>13635.0</td>\n",
              "      <td>227</td>\n",
              "      <td>0</td>\n",
              "    </tr>\n",
              "    <tr>\n",
              "      <th>3</th>\n",
              "      <td>15413.0</td>\n",
              "      <td>194</td>\n",
              "      <td>0</td>\n",
              "    </tr>\n",
              "    <tr>\n",
              "      <th>4</th>\n",
              "      <td>17592.0</td>\n",
              "      <td>241</td>\n",
              "      <td>0</td>\n",
              "    </tr>\n",
              "    <tr>\n",
              "      <th>...</th>\n",
              "      <td>...</td>\n",
              "      <td>...</td>\n",
              "      <td>...</td>\n",
              "    </tr>\n",
              "    <tr>\n",
              "      <th>3132</th>\n",
              "      <td>16007.0</td>\n",
              "      <td>46</td>\n",
              "      <td>2</td>\n",
              "    </tr>\n",
              "    <tr>\n",
              "      <th>3133</th>\n",
              "      <td>15817.0</td>\n",
              "      <td>46</td>\n",
              "      <td>2</td>\n",
              "    </tr>\n",
              "    <tr>\n",
              "      <th>3134</th>\n",
              "      <td>16500.0</td>\n",
              "      <td>46</td>\n",
              "      <td>2</td>\n",
              "    </tr>\n",
              "    <tr>\n",
              "      <th>3135</th>\n",
              "      <td>15905.0</td>\n",
              "      <td>46</td>\n",
              "      <td>2</td>\n",
              "    </tr>\n",
              "    <tr>\n",
              "      <th>3136</th>\n",
              "      <td>17922.0</td>\n",
              "      <td>46</td>\n",
              "      <td>2</td>\n",
              "    </tr>\n",
              "  </tbody>\n",
              "</table>\n",
              "<p>3137 rows × 3 columns</p>\n",
              "</div>"
            ],
            "text/plain": [
              "     Customer ID  Recency  RecencyCluster\n",
              "0        13085.0      182               0\n",
              "1        15362.0      241               0\n",
              "2        13635.0      227               0\n",
              "3        15413.0      194               0\n",
              "4        17592.0      241               0\n",
              "...          ...      ...             ...\n",
              "3132     16007.0       46               2\n",
              "3133     15817.0       46               2\n",
              "3134     16500.0       46               2\n",
              "3135     15905.0       46               2\n",
              "3136     17922.0       46               2\n",
              "\n",
              "[3137 rows x 3 columns]"
            ]
          },
          "execution_count": 55,
          "metadata": {},
          "output_type": "execute_result"
        }
      ],
      "source": [
        "RFM_df= order_cluster('RecencyCluster', 'Recency', RFM_df, False)\n",
        "RFM_df"
      ]
    },
    {
      "cell_type": "code",
      "execution_count": null,
      "id": "d34bfe7c",
      "metadata": {
        "execution": {
          "iopub.execute_input": "2022-11-14T09:03:39.828220Z",
          "iopub.status.busy": "2022-11-14T09:03:39.827814Z",
          "iopub.status.idle": "2022-11-14T09:03:39.853459Z",
          "shell.execute_reply": "2022-11-14T09:03:39.851811Z"
        },
        "id": "d34bfe7c",
        "outputId": "26b539ad-fc95-443c-8a9c-e2b6fe7b7cf4",
        "papermill": {
          "duration": 0.064577,
          "end_time": "2022-11-14T09:03:39.855666",
          "exception": false,
          "start_time": "2022-11-14T09:03:39.791089",
          "status": "completed"
        },
        "tags": []
      },
      "outputs": [
        {
          "data": {
            "text/html": [
              "<div>\n",
              "<style scoped>\n",
              "    .dataframe tbody tr th:only-of-type {\n",
              "        vertical-align: middle;\n",
              "    }\n",
              "\n",
              "    .dataframe tbody tr th {\n",
              "        vertical-align: top;\n",
              "    }\n",
              "\n",
              "    .dataframe thead th {\n",
              "        text-align: right;\n",
              "    }\n",
              "</style>\n",
              "<table border=\"1\" class=\"dataframe\">\n",
              "  <thead>\n",
              "    <tr style=\"text-align: right;\">\n",
              "      <th></th>\n",
              "      <th>count</th>\n",
              "      <th>mean</th>\n",
              "      <th>std</th>\n",
              "      <th>min</th>\n",
              "      <th>25%</th>\n",
              "      <th>50%</th>\n",
              "      <th>75%</th>\n",
              "      <th>max</th>\n",
              "    </tr>\n",
              "    <tr>\n",
              "      <th>RecencyCluster</th>\n",
              "      <th></th>\n",
              "      <th></th>\n",
              "      <th></th>\n",
              "      <th></th>\n",
              "      <th></th>\n",
              "      <th></th>\n",
              "      <th></th>\n",
              "      <th></th>\n",
              "    </tr>\n",
              "  </thead>\n",
              "  <tbody>\n",
              "    <tr>\n",
              "      <th>0</th>\n",
              "      <td>348.0</td>\n",
              "      <td>212.614943</td>\n",
              "      <td>23.444115</td>\n",
              "      <td>175.0</td>\n",
              "      <td>187.0</td>\n",
              "      <td>225.0</td>\n",
              "      <td>233.25</td>\n",
              "      <td>241.0</td>\n",
              "    </tr>\n",
              "    <tr>\n",
              "      <th>1</th>\n",
              "      <td>587.0</td>\n",
              "      <td>136.025554</td>\n",
              "      <td>19.060288</td>\n",
              "      <td>105.0</td>\n",
              "      <td>121.0</td>\n",
              "      <td>134.0</td>\n",
              "      <td>151.00</td>\n",
              "      <td>173.0</td>\n",
              "    </tr>\n",
              "    <tr>\n",
              "      <th>2</th>\n",
              "      <td>918.0</td>\n",
              "      <td>72.257081</td>\n",
              "      <td>17.074388</td>\n",
              "      <td>46.0</td>\n",
              "      <td>56.0</td>\n",
              "      <td>72.0</td>\n",
              "      <td>86.00</td>\n",
              "      <td>103.0</td>\n",
              "    </tr>\n",
              "    <tr>\n",
              "      <th>3</th>\n",
              "      <td>1284.0</td>\n",
              "      <td>19.242991</td>\n",
              "      <td>13.650412</td>\n",
              "      <td>0.0</td>\n",
              "      <td>7.0</td>\n",
              "      <td>17.0</td>\n",
              "      <td>31.00</td>\n",
              "      <td>45.0</td>\n",
              "    </tr>\n",
              "  </tbody>\n",
              "</table>\n",
              "</div>"
            ],
            "text/plain": [
              "                 count        mean        std    min    25%    50%     75%  \\\n",
              "RecencyCluster                                                               \n",
              "0                348.0  212.614943  23.444115  175.0  187.0  225.0  233.25   \n",
              "1                587.0  136.025554  19.060288  105.0  121.0  134.0  151.00   \n",
              "2                918.0   72.257081  17.074388   46.0   56.0   72.0   86.00   \n",
              "3               1284.0   19.242991  13.650412    0.0    7.0   17.0   31.00   \n",
              "\n",
              "                  max  \n",
              "RecencyCluster         \n",
              "0               241.0  \n",
              "1               173.0  \n",
              "2               103.0  \n",
              "3                45.0  "
            ]
          },
          "execution_count": 56,
          "metadata": {},
          "output_type": "execute_result"
        }
      ],
      "source": [
        "RecencyCluster_Stats = RFM_df.groupby(\"RecencyCluster\")[\"Recency\"].describe()\n",
        "RecencyCluster_Stats"
      ]
    },
    {
      "cell_type": "markdown",
      "id": "8e150137",
      "metadata": {
        "id": "8e150137",
        "papermill": {
          "duration": 0.035464,
          "end_time": "2022-11-14T09:03:39.927167",
          "exception": false,
          "start_time": "2022-11-14T09:03:39.891703",
          "status": "completed"
        },
        "tags": []
      },
      "source": [
        "for Frequency:"
      ]
    },
    {
      "cell_type": "code",
      "execution_count": null,
      "id": "e54aa5d9",
      "metadata": {
        "execution": {
          "iopub.execute_input": "2022-11-14T09:03:40.000471Z",
          "iopub.status.busy": "2022-11-14T09:03:39.999441Z",
          "iopub.status.idle": "2022-11-14T09:03:40.055412Z",
          "shell.execute_reply": "2022-11-14T09:03:40.054426Z"
        },
        "id": "e54aa5d9",
        "outputId": "8a6505e5-92b2-44d7-ce39-9c77363f78b7",
        "papermill": {
          "duration": 0.096124,
          "end_time": "2022-11-14T09:03:40.058554",
          "exception": false,
          "start_time": "2022-11-14T09:03:39.962430",
          "status": "completed"
        },
        "tags": []
      },
      "outputs": [
        {
          "data": {
            "text/html": [
              "<div>\n",
              "<style scoped>\n",
              "    .dataframe tbody tr th:only-of-type {\n",
              "        vertical-align: middle;\n",
              "    }\n",
              "\n",
              "    .dataframe tbody tr th {\n",
              "        vertical-align: top;\n",
              "    }\n",
              "\n",
              "    .dataframe thead th {\n",
              "        text-align: right;\n",
              "    }\n",
              "</style>\n",
              "<table border=\"1\" class=\"dataframe\">\n",
              "  <thead>\n",
              "    <tr style=\"text-align: right;\">\n",
              "      <th></th>\n",
              "      <th>Customer ID</th>\n",
              "      <th>Frequency</th>\n",
              "    </tr>\n",
              "  </thead>\n",
              "  <tbody>\n",
              "    <tr>\n",
              "      <th>0</th>\n",
              "      <td>12346.0</td>\n",
              "      <td>2</td>\n",
              "    </tr>\n",
              "    <tr>\n",
              "      <th>1</th>\n",
              "      <td>12349.0</td>\n",
              "      <td>1</td>\n",
              "    </tr>\n",
              "    <tr>\n",
              "      <th>2</th>\n",
              "      <td>12355.0</td>\n",
              "      <td>1</td>\n",
              "    </tr>\n",
              "    <tr>\n",
              "      <th>3</th>\n",
              "      <td>12358.0</td>\n",
              "      <td>2</td>\n",
              "    </tr>\n",
              "    <tr>\n",
              "      <th>4</th>\n",
              "      <td>12359.0</td>\n",
              "      <td>5</td>\n",
              "    </tr>\n",
              "    <tr>\n",
              "      <th>...</th>\n",
              "      <td>...</td>\n",
              "      <td>...</td>\n",
              "    </tr>\n",
              "    <tr>\n",
              "      <th>3132</th>\n",
              "      <td>18281.0</td>\n",
              "      <td>1</td>\n",
              "    </tr>\n",
              "    <tr>\n",
              "      <th>3133</th>\n",
              "      <td>18283.0</td>\n",
              "      <td>3</td>\n",
              "    </tr>\n",
              "    <tr>\n",
              "      <th>3134</th>\n",
              "      <td>18285.0</td>\n",
              "      <td>1</td>\n",
              "    </tr>\n",
              "    <tr>\n",
              "      <th>3135</th>\n",
              "      <td>18286.0</td>\n",
              "      <td>1</td>\n",
              "    </tr>\n",
              "    <tr>\n",
              "      <th>3136</th>\n",
              "      <td>18287.0</td>\n",
              "      <td>1</td>\n",
              "    </tr>\n",
              "  </tbody>\n",
              "</table>\n",
              "<p>3137 rows × 2 columns</p>\n",
              "</div>"
            ],
            "text/plain": [
              "      Customer ID  Frequency\n",
              "0         12346.0          2\n",
              "1         12349.0          1\n",
              "2         12355.0          1\n",
              "3         12358.0          2\n",
              "4         12359.0          5\n",
              "...           ...        ...\n",
              "3132      18281.0          1\n",
              "3133      18283.0          3\n",
              "3134      18285.0          1\n",
              "3135      18286.0          1\n",
              "3136      18287.0          1\n",
              "\n",
              "[3137 rows x 2 columns]"
            ]
          },
          "execution_count": 57,
          "metadata": {},
          "output_type": "execute_result"
        }
      ],
      "source": [
        "frequency_df= df_first.groupby([\"Customer ID\"]).agg({\"Invoice\":\"nunique\"}).reset_index()\n",
        "frequency_df.rename(columns={\"Invoice\":\"Frequency\"}, inplace=True)\n",
        "frequency_df"
      ]
    },
    {
      "cell_type": "code",
      "execution_count": null,
      "id": "d34ba3b4",
      "metadata": {
        "execution": {
          "iopub.execute_input": "2022-11-14T09:03:40.133525Z",
          "iopub.status.busy": "2022-11-14T09:03:40.132759Z",
          "iopub.status.idle": "2022-11-14T09:03:40.149612Z",
          "shell.execute_reply": "2022-11-14T09:03:40.148576Z"
        },
        "id": "d34ba3b4",
        "outputId": "06181007-443c-4cb8-947c-7881b2e7397c",
        "papermill": {
          "duration": 0.057388,
          "end_time": "2022-11-14T09:03:40.152438",
          "exception": false,
          "start_time": "2022-11-14T09:03:40.095050",
          "status": "completed"
        },
        "tags": []
      },
      "outputs": [
        {
          "data": {
            "text/html": [
              "<div>\n",
              "<style scoped>\n",
              "    .dataframe tbody tr th:only-of-type {\n",
              "        vertical-align: middle;\n",
              "    }\n",
              "\n",
              "    .dataframe tbody tr th {\n",
              "        vertical-align: top;\n",
              "    }\n",
              "\n",
              "    .dataframe thead th {\n",
              "        text-align: right;\n",
              "    }\n",
              "</style>\n",
              "<table border=\"1\" class=\"dataframe\">\n",
              "  <thead>\n",
              "    <tr style=\"text-align: right;\">\n",
              "      <th></th>\n",
              "      <th>Customer ID</th>\n",
              "      <th>Recency</th>\n",
              "      <th>RecencyCluster</th>\n",
              "      <th>Frequency</th>\n",
              "    </tr>\n",
              "  </thead>\n",
              "  <tbody>\n",
              "    <tr>\n",
              "      <th>0</th>\n",
              "      <td>13085.0</td>\n",
              "      <td>182</td>\n",
              "      <td>0</td>\n",
              "      <td>6</td>\n",
              "    </tr>\n",
              "    <tr>\n",
              "      <th>1</th>\n",
              "      <td>15362.0</td>\n",
              "      <td>241</td>\n",
              "      <td>0</td>\n",
              "      <td>1</td>\n",
              "    </tr>\n",
              "    <tr>\n",
              "      <th>2</th>\n",
              "      <td>13635.0</td>\n",
              "      <td>227</td>\n",
              "      <td>0</td>\n",
              "      <td>2</td>\n",
              "    </tr>\n",
              "    <tr>\n",
              "      <th>3</th>\n",
              "      <td>15413.0</td>\n",
              "      <td>194</td>\n",
              "      <td>0</td>\n",
              "      <td>5</td>\n",
              "    </tr>\n",
              "    <tr>\n",
              "      <th>4</th>\n",
              "      <td>17592.0</td>\n",
              "      <td>241</td>\n",
              "      <td>0</td>\n",
              "      <td>1</td>\n",
              "    </tr>\n",
              "    <tr>\n",
              "      <th>...</th>\n",
              "      <td>...</td>\n",
              "      <td>...</td>\n",
              "      <td>...</td>\n",
              "      <td>...</td>\n",
              "    </tr>\n",
              "    <tr>\n",
              "      <th>3132</th>\n",
              "      <td>16007.0</td>\n",
              "      <td>46</td>\n",
              "      <td>2</td>\n",
              "      <td>1</td>\n",
              "    </tr>\n",
              "    <tr>\n",
              "      <th>3133</th>\n",
              "      <td>15817.0</td>\n",
              "      <td>46</td>\n",
              "      <td>2</td>\n",
              "      <td>1</td>\n",
              "    </tr>\n",
              "    <tr>\n",
              "      <th>3134</th>\n",
              "      <td>16500.0</td>\n",
              "      <td>46</td>\n",
              "      <td>2</td>\n",
              "      <td>1</td>\n",
              "    </tr>\n",
              "    <tr>\n",
              "      <th>3135</th>\n",
              "      <td>15905.0</td>\n",
              "      <td>46</td>\n",
              "      <td>2</td>\n",
              "      <td>1</td>\n",
              "    </tr>\n",
              "    <tr>\n",
              "      <th>3136</th>\n",
              "      <td>17922.0</td>\n",
              "      <td>46</td>\n",
              "      <td>2</td>\n",
              "      <td>1</td>\n",
              "    </tr>\n",
              "  </tbody>\n",
              "</table>\n",
              "<p>3137 rows × 4 columns</p>\n",
              "</div>"
            ],
            "text/plain": [
              "     Customer ID  Recency  RecencyCluster  Frequency\n",
              "0        13085.0      182               0          6\n",
              "1        15362.0      241               0          1\n",
              "2        13635.0      227               0          2\n",
              "3        15413.0      194               0          5\n",
              "4        17592.0      241               0          1\n",
              "...          ...      ...             ...        ...\n",
              "3132     16007.0       46               2          1\n",
              "3133     15817.0       46               2          1\n",
              "3134     16500.0       46               2          1\n",
              "3135     15905.0       46               2          1\n",
              "3136     17922.0       46               2          1\n",
              "\n",
              "[3137 rows x 4 columns]"
            ]
          },
          "execution_count": 58,
          "metadata": {},
          "output_type": "execute_result"
        }
      ],
      "source": [
        "RFM_df= pd.merge(RFM_df, frequency_df, on='Customer ID')\n",
        "RFM_df"
      ]
    },
    {
      "cell_type": "code",
      "execution_count": null,
      "id": "ebf86aaa",
      "metadata": {
        "execution": {
          "iopub.execute_input": "2022-11-14T09:03:40.229030Z",
          "iopub.status.busy": "2022-11-14T09:03:40.228220Z",
          "iopub.status.idle": "2022-11-14T09:03:40.313704Z",
          "shell.execute_reply": "2022-11-14T09:03:40.312518Z"
        },
        "id": "ebf86aaa",
        "outputId": "2299f807-ca04-4524-b702-667fb5b5ca62",
        "papermill": {
          "duration": 0.125758,
          "end_time": "2022-11-14T09:03:40.315770",
          "exception": false,
          "start_time": "2022-11-14T09:03:40.190012",
          "status": "completed"
        },
        "tags": []
      },
      "outputs": [
        {
          "data": {
            "text/html": [
              "<div>\n",
              "<style scoped>\n",
              "    .dataframe tbody tr th:only-of-type {\n",
              "        vertical-align: middle;\n",
              "    }\n",
              "\n",
              "    .dataframe tbody tr th {\n",
              "        vertical-align: top;\n",
              "    }\n",
              "\n",
              "    .dataframe thead th {\n",
              "        text-align: right;\n",
              "    }\n",
              "</style>\n",
              "<table border=\"1\" class=\"dataframe\">\n",
              "  <thead>\n",
              "    <tr style=\"text-align: right;\">\n",
              "      <th></th>\n",
              "      <th>Customer ID</th>\n",
              "      <th>Recency</th>\n",
              "      <th>RecencyCluster</th>\n",
              "      <th>Frequency</th>\n",
              "      <th>FrequencyCluster</th>\n",
              "    </tr>\n",
              "  </thead>\n",
              "  <tbody>\n",
              "    <tr>\n",
              "      <th>0</th>\n",
              "      <td>13085.0</td>\n",
              "      <td>182</td>\n",
              "      <td>0</td>\n",
              "      <td>6</td>\n",
              "      <td>0</td>\n",
              "    </tr>\n",
              "    <tr>\n",
              "      <th>1</th>\n",
              "      <td>15362.0</td>\n",
              "      <td>241</td>\n",
              "      <td>0</td>\n",
              "      <td>1</td>\n",
              "      <td>2</td>\n",
              "    </tr>\n",
              "    <tr>\n",
              "      <th>2</th>\n",
              "      <td>13635.0</td>\n",
              "      <td>227</td>\n",
              "      <td>0</td>\n",
              "      <td>2</td>\n",
              "      <td>2</td>\n",
              "    </tr>\n",
              "    <tr>\n",
              "      <th>3</th>\n",
              "      <td>15413.0</td>\n",
              "      <td>194</td>\n",
              "      <td>0</td>\n",
              "      <td>5</td>\n",
              "      <td>0</td>\n",
              "    </tr>\n",
              "    <tr>\n",
              "      <th>4</th>\n",
              "      <td>17592.0</td>\n",
              "      <td>241</td>\n",
              "      <td>0</td>\n",
              "      <td>1</td>\n",
              "      <td>2</td>\n",
              "    </tr>\n",
              "    <tr>\n",
              "      <th>...</th>\n",
              "      <td>...</td>\n",
              "      <td>...</td>\n",
              "      <td>...</td>\n",
              "      <td>...</td>\n",
              "      <td>...</td>\n",
              "    </tr>\n",
              "    <tr>\n",
              "      <th>3132</th>\n",
              "      <td>16007.0</td>\n",
              "      <td>46</td>\n",
              "      <td>2</td>\n",
              "      <td>1</td>\n",
              "      <td>2</td>\n",
              "    </tr>\n",
              "    <tr>\n",
              "      <th>3133</th>\n",
              "      <td>15817.0</td>\n",
              "      <td>46</td>\n",
              "      <td>2</td>\n",
              "      <td>1</td>\n",
              "      <td>2</td>\n",
              "    </tr>\n",
              "    <tr>\n",
              "      <th>3134</th>\n",
              "      <td>16500.0</td>\n",
              "      <td>46</td>\n",
              "      <td>2</td>\n",
              "      <td>1</td>\n",
              "      <td>2</td>\n",
              "    </tr>\n",
              "    <tr>\n",
              "      <th>3135</th>\n",
              "      <td>15905.0</td>\n",
              "      <td>46</td>\n",
              "      <td>2</td>\n",
              "      <td>1</td>\n",
              "      <td>2</td>\n",
              "    </tr>\n",
              "    <tr>\n",
              "      <th>3136</th>\n",
              "      <td>17922.0</td>\n",
              "      <td>46</td>\n",
              "      <td>2</td>\n",
              "      <td>1</td>\n",
              "      <td>2</td>\n",
              "    </tr>\n",
              "  </tbody>\n",
              "</table>\n",
              "<p>3137 rows × 5 columns</p>\n",
              "</div>"
            ],
            "text/plain": [
              "     Customer ID  Recency  RecencyCluster  Frequency  FrequencyCluster\n",
              "0        13085.0      182               0          6                 0\n",
              "1        15362.0      241               0          1                 2\n",
              "2        13635.0      227               0          2                 2\n",
              "3        15413.0      194               0          5                 0\n",
              "4        17592.0      241               0          1                 2\n",
              "...          ...      ...             ...        ...               ...\n",
              "3132     16007.0       46               2          1                 2\n",
              "3133     15817.0       46               2          1                 2\n",
              "3134     16500.0       46               2          1                 2\n",
              "3135     15905.0       46               2          1                 2\n",
              "3136     17922.0       46               2          1                 2\n",
              "\n",
              "[3137 rows x 5 columns]"
            ]
          },
          "execution_count": 59,
          "metadata": {},
          "output_type": "execute_result"
        }
      ],
      "source": [
        "kmeans = KMeans(n_clusters=4)\n",
        "kmeans.fit(RFM_df[['Frequency']])\n",
        "RFM_df['FrequencyCluster'] = kmeans.predict(RFM_df[['Frequency']])\n",
        "RFM_df"
      ]
    },
    {
      "cell_type": "code",
      "execution_count": null,
      "id": "cedf10ed",
      "metadata": {
        "execution": {
          "iopub.execute_input": "2022-11-14T09:03:40.390051Z",
          "iopub.status.busy": "2022-11-14T09:03:40.389009Z",
          "iopub.status.idle": "2022-11-14T09:03:40.407873Z",
          "shell.execute_reply": "2022-11-14T09:03:40.406561Z"
        },
        "id": "cedf10ed",
        "outputId": "a9d1339c-464b-472d-e217-071102e93b5b",
        "papermill": {
          "duration": 0.058015,
          "end_time": "2022-11-14T09:03:40.409848",
          "exception": false,
          "start_time": "2022-11-14T09:03:40.351833",
          "status": "completed"
        },
        "tags": []
      },
      "outputs": [
        {
          "data": {
            "text/html": [
              "<div>\n",
              "<style scoped>\n",
              "    .dataframe tbody tr th:only-of-type {\n",
              "        vertical-align: middle;\n",
              "    }\n",
              "\n",
              "    .dataframe tbody tr th {\n",
              "        vertical-align: top;\n",
              "    }\n",
              "\n",
              "    .dataframe thead th {\n",
              "        text-align: right;\n",
              "    }\n",
              "</style>\n",
              "<table border=\"1\" class=\"dataframe\">\n",
              "  <thead>\n",
              "    <tr style=\"text-align: right;\">\n",
              "      <th></th>\n",
              "      <th>Customer ID</th>\n",
              "      <th>Recency</th>\n",
              "      <th>RecencyCluster</th>\n",
              "      <th>Frequency</th>\n",
              "      <th>FrequencyCluster</th>\n",
              "    </tr>\n",
              "  </thead>\n",
              "  <tbody>\n",
              "    <tr>\n",
              "      <th>0</th>\n",
              "      <td>13085.0</td>\n",
              "      <td>182</td>\n",
              "      <td>0</td>\n",
              "      <td>6</td>\n",
              "      <td>1</td>\n",
              "    </tr>\n",
              "    <tr>\n",
              "      <th>1</th>\n",
              "      <td>15413.0</td>\n",
              "      <td>194</td>\n",
              "      <td>0</td>\n",
              "      <td>5</td>\n",
              "      <td>1</td>\n",
              "    </tr>\n",
              "    <tr>\n",
              "      <th>2</th>\n",
              "      <td>14063.0</td>\n",
              "      <td>189</td>\n",
              "      <td>0</td>\n",
              "      <td>7</td>\n",
              "      <td>1</td>\n",
              "    </tr>\n",
              "    <tr>\n",
              "      <th>3</th>\n",
              "      <td>12682.0</td>\n",
              "      <td>15</td>\n",
              "      <td>3</td>\n",
              "      <td>14</td>\n",
              "      <td>1</td>\n",
              "    </tr>\n",
              "    <tr>\n",
              "      <th>4</th>\n",
              "      <td>17519.0</td>\n",
              "      <td>22</td>\n",
              "      <td>3</td>\n",
              "      <td>8</td>\n",
              "      <td>1</td>\n",
              "    </tr>\n",
              "    <tr>\n",
              "      <th>...</th>\n",
              "      <td>...</td>\n",
              "      <td>...</td>\n",
              "      <td>...</td>\n",
              "      <td>...</td>\n",
              "      <td>...</td>\n",
              "    </tr>\n",
              "    <tr>\n",
              "      <th>3132</th>\n",
              "      <td>13089.0</td>\n",
              "      <td>7</td>\n",
              "      <td>3</td>\n",
              "      <td>58</td>\n",
              "      <td>3</td>\n",
              "    </tr>\n",
              "    <tr>\n",
              "      <th>3133</th>\n",
              "      <td>14606.0</td>\n",
              "      <td>1</td>\n",
              "      <td>3</td>\n",
              "      <td>62</td>\n",
              "      <td>3</td>\n",
              "    </tr>\n",
              "    <tr>\n",
              "      <th>3134</th>\n",
              "      <td>13694.0</td>\n",
              "      <td>0</td>\n",
              "      <td>3</td>\n",
              "      <td>81</td>\n",
              "      <td>3</td>\n",
              "    </tr>\n",
              "    <tr>\n",
              "      <th>3135</th>\n",
              "      <td>12748.0</td>\n",
              "      <td>2</td>\n",
              "      <td>3</td>\n",
              "      <td>56</td>\n",
              "      <td>3</td>\n",
              "    </tr>\n",
              "    <tr>\n",
              "      <th>3136</th>\n",
              "      <td>17850.0</td>\n",
              "      <td>11</td>\n",
              "      <td>3</td>\n",
              "      <td>81</td>\n",
              "      <td>3</td>\n",
              "    </tr>\n",
              "  </tbody>\n",
              "</table>\n",
              "<p>3137 rows × 5 columns</p>\n",
              "</div>"
            ],
            "text/plain": [
              "     Customer ID  Recency  RecencyCluster  Frequency  FrequencyCluster\n",
              "0        13085.0      182               0          6                 1\n",
              "1        15413.0      194               0          5                 1\n",
              "2        14063.0      189               0          7                 1\n",
              "3        12682.0       15               3         14                 1\n",
              "4        17519.0       22               3          8                 1\n",
              "...          ...      ...             ...        ...               ...\n",
              "3132     13089.0        7               3         58                 3\n",
              "3133     14606.0        1               3         62                 3\n",
              "3134     13694.0        0               3         81                 3\n",
              "3135     12748.0        2               3         56                 3\n",
              "3136     17850.0       11               3         81                 3\n",
              "\n",
              "[3137 rows x 5 columns]"
            ]
          },
          "execution_count": 60,
          "metadata": {},
          "output_type": "execute_result"
        }
      ],
      "source": [
        "RFM_df= order_cluster('FrequencyCluster', 'Frequency', RFM_df, True)\n",
        "RFM_df"
      ]
    },
    {
      "cell_type": "code",
      "execution_count": null,
      "id": "df6bcaee",
      "metadata": {
        "execution": {
          "iopub.execute_input": "2022-11-14T09:03:40.486444Z",
          "iopub.status.busy": "2022-11-14T09:03:40.485179Z",
          "iopub.status.idle": "2022-11-14T09:03:40.506650Z",
          "shell.execute_reply": "2022-11-14T09:03:40.505999Z"
        },
        "id": "df6bcaee",
        "outputId": "ff99e4c8-cd91-4f5e-d93f-8566c1d75fab",
        "papermill": {
          "duration": 0.061249,
          "end_time": "2022-11-14T09:03:40.508399",
          "exception": false,
          "start_time": "2022-11-14T09:03:40.447150",
          "status": "completed"
        },
        "tags": []
      },
      "outputs": [
        {
          "data": {
            "text/html": [
              "<div>\n",
              "<style scoped>\n",
              "    .dataframe tbody tr th:only-of-type {\n",
              "        vertical-align: middle;\n",
              "    }\n",
              "\n",
              "    .dataframe tbody tr th {\n",
              "        vertical-align: top;\n",
              "    }\n",
              "\n",
              "    .dataframe thead th {\n",
              "        text-align: right;\n",
              "    }\n",
              "</style>\n",
              "<table border=\"1\" class=\"dataframe\">\n",
              "  <thead>\n",
              "    <tr style=\"text-align: right;\">\n",
              "      <th></th>\n",
              "      <th>count</th>\n",
              "      <th>mean</th>\n",
              "      <th>std</th>\n",
              "      <th>min</th>\n",
              "      <th>25%</th>\n",
              "      <th>50%</th>\n",
              "      <th>75%</th>\n",
              "      <th>max</th>\n",
              "    </tr>\n",
              "    <tr>\n",
              "      <th>FrequencyCluster</th>\n",
              "      <th></th>\n",
              "      <th></th>\n",
              "      <th></th>\n",
              "      <th></th>\n",
              "      <th></th>\n",
              "      <th></th>\n",
              "      <th></th>\n",
              "      <th></th>\n",
              "    </tr>\n",
              "  </thead>\n",
              "  <tbody>\n",
              "    <tr>\n",
              "      <th>0</th>\n",
              "      <td>2546.0</td>\n",
              "      <td>1.844855</td>\n",
              "      <td>1.012247</td>\n",
              "      <td>1.0</td>\n",
              "      <td>1.00</td>\n",
              "      <td>1.0</td>\n",
              "      <td>2.0</td>\n",
              "      <td>4.0</td>\n",
              "    </tr>\n",
              "    <tr>\n",
              "      <th>1</th>\n",
              "      <td>526.0</td>\n",
              "      <td>7.319392</td>\n",
              "      <td>2.527691</td>\n",
              "      <td>5.0</td>\n",
              "      <td>5.00</td>\n",
              "      <td>7.0</td>\n",
              "      <td>8.0</td>\n",
              "      <td>15.0</td>\n",
              "    </tr>\n",
              "    <tr>\n",
              "      <th>2</th>\n",
              "      <td>51.0</td>\n",
              "      <td>22.862745</td>\n",
              "      <td>6.997198</td>\n",
              "      <td>16.0</td>\n",
              "      <td>17.00</td>\n",
              "      <td>20.0</td>\n",
              "      <td>26.5</td>\n",
              "      <td>41.0</td>\n",
              "    </tr>\n",
              "    <tr>\n",
              "      <th>3</th>\n",
              "      <td>14.0</td>\n",
              "      <td>62.000000</td>\n",
              "      <td>14.245107</td>\n",
              "      <td>46.0</td>\n",
              "      <td>51.75</td>\n",
              "      <td>58.5</td>\n",
              "      <td>74.0</td>\n",
              "      <td>88.0</td>\n",
              "    </tr>\n",
              "  </tbody>\n",
              "</table>\n",
              "</div>"
            ],
            "text/plain": [
              "                   count       mean        std   min    25%   50%   75%   max\n",
              "FrequencyCluster                                                             \n",
              "0                 2546.0   1.844855   1.012247   1.0   1.00   1.0   2.0   4.0\n",
              "1                  526.0   7.319392   2.527691   5.0   5.00   7.0   8.0  15.0\n",
              "2                   51.0  22.862745   6.997198  16.0  17.00  20.0  26.5  41.0\n",
              "3                   14.0  62.000000  14.245107  46.0  51.75  58.5  74.0  88.0"
            ]
          },
          "execution_count": 61,
          "metadata": {},
          "output_type": "execute_result"
        }
      ],
      "source": [
        "FrequencyCluster_Stats= RFM_df.groupby(\"FrequencyCluster\")[\"Frequency\"].describe()\n",
        "FrequencyCluster_Stats"
      ]
    },
    {
      "cell_type": "markdown",
      "id": "16481290",
      "metadata": {
        "id": "16481290",
        "papermill": {
          "duration": 0.036351,
          "end_time": "2022-11-14T09:03:40.581728",
          "exception": false,
          "start_time": "2022-11-14T09:03:40.545377",
          "status": "completed"
        },
        "tags": []
      },
      "source": [
        "for Monetary:"
      ]
    },
    {
      "cell_type": "code",
      "execution_count": null,
      "id": "1e62fe58",
      "metadata": {
        "execution": {
          "iopub.execute_input": "2022-11-14T09:03:40.656746Z",
          "iopub.status.busy": "2022-11-14T09:03:40.656162Z",
          "iopub.status.idle": "2022-11-14T09:03:40.685625Z",
          "shell.execute_reply": "2022-11-14T09:03:40.685001Z"
        },
        "id": "1e62fe58",
        "outputId": "bc28ec83-7071-41f6-d5b8-bd1a2d760ab6",
        "papermill": {
          "duration": 0.069072,
          "end_time": "2022-11-14T09:03:40.687330",
          "exception": false,
          "start_time": "2022-11-14T09:03:40.618258",
          "status": "completed"
        },
        "scrolled": true,
        "tags": []
      },
      "outputs": [
        {
          "data": {
            "text/html": [
              "<div>\n",
              "<style scoped>\n",
              "    .dataframe tbody tr th:only-of-type {\n",
              "        vertical-align: middle;\n",
              "    }\n",
              "\n",
              "    .dataframe tbody tr th {\n",
              "        vertical-align: top;\n",
              "    }\n",
              "\n",
              "    .dataframe thead th {\n",
              "        text-align: right;\n",
              "    }\n",
              "</style>\n",
              "<table border=\"1\" class=\"dataframe\">\n",
              "  <thead>\n",
              "    <tr style=\"text-align: right;\">\n",
              "      <th></th>\n",
              "      <th>Customer ID</th>\n",
              "      <th>Monetary</th>\n",
              "    </tr>\n",
              "  </thead>\n",
              "  <tbody>\n",
              "    <tr>\n",
              "      <th>0</th>\n",
              "      <td>12346.0</td>\n",
              "      <td>169.36</td>\n",
              "    </tr>\n",
              "    <tr>\n",
              "      <th>1</th>\n",
              "      <td>12349.0</td>\n",
              "      <td>1068.52</td>\n",
              "    </tr>\n",
              "    <tr>\n",
              "      <th>2</th>\n",
              "      <td>12355.0</td>\n",
              "      <td>488.21</td>\n",
              "    </tr>\n",
              "    <tr>\n",
              "      <th>3</th>\n",
              "      <td>12358.0</td>\n",
              "      <td>1697.93</td>\n",
              "    </tr>\n",
              "    <tr>\n",
              "      <th>4</th>\n",
              "      <td>12359.0</td>\n",
              "      <td>2012.03</td>\n",
              "    </tr>\n",
              "  </tbody>\n",
              "</table>\n",
              "</div>"
            ],
            "text/plain": [
              "   Customer ID  Monetary\n",
              "0      12346.0    169.36\n",
              "1      12349.0   1068.52\n",
              "2      12355.0    488.21\n",
              "3      12358.0   1697.93\n",
              "4      12359.0   2012.03"
            ]
          },
          "execution_count": 62,
          "metadata": {},
          "output_type": "execute_result"
        }
      ],
      "source": [
        "monetary_df= df_first.groupby('Customer ID')['TotalPrice'].sum().reset_index()\n",
        "monetary_df.columns = ['Customer ID', 'Monetary']\n",
        "monetary_df.head()"
      ]
    },
    {
      "cell_type": "code",
      "execution_count": null,
      "id": "1687a1a6",
      "metadata": {
        "execution": {
          "iopub.execute_input": "2022-11-14T09:03:40.763285Z",
          "iopub.status.busy": "2022-11-14T09:03:40.762690Z",
          "iopub.status.idle": "2022-11-14T09:03:40.782045Z",
          "shell.execute_reply": "2022-11-14T09:03:40.780425Z"
        },
        "id": "1687a1a6",
        "outputId": "d664fc28-ea9d-42bc-abf9-c10bbce6c596",
        "papermill": {
          "duration": 0.060085,
          "end_time": "2022-11-14T09:03:40.784307",
          "exception": false,
          "start_time": "2022-11-14T09:03:40.724222",
          "status": "completed"
        },
        "scrolled": true,
        "tags": []
      },
      "outputs": [
        {
          "data": {
            "text/html": [
              "<div>\n",
              "<style scoped>\n",
              "    .dataframe tbody tr th:only-of-type {\n",
              "        vertical-align: middle;\n",
              "    }\n",
              "\n",
              "    .dataframe tbody tr th {\n",
              "        vertical-align: top;\n",
              "    }\n",
              "\n",
              "    .dataframe thead th {\n",
              "        text-align: right;\n",
              "    }\n",
              "</style>\n",
              "<table border=\"1\" class=\"dataframe\">\n",
              "  <thead>\n",
              "    <tr style=\"text-align: right;\">\n",
              "      <th></th>\n",
              "      <th>Customer ID</th>\n",
              "      <th>Recency</th>\n",
              "      <th>RecencyCluster</th>\n",
              "      <th>Frequency</th>\n",
              "      <th>FrequencyCluster</th>\n",
              "      <th>Monetary</th>\n",
              "    </tr>\n",
              "  </thead>\n",
              "  <tbody>\n",
              "    <tr>\n",
              "      <th>0</th>\n",
              "      <td>13085.0</td>\n",
              "      <td>182</td>\n",
              "      <td>0</td>\n",
              "      <td>6</td>\n",
              "      <td>1</td>\n",
              "      <td>2017.20</td>\n",
              "    </tr>\n",
              "    <tr>\n",
              "      <th>1</th>\n",
              "      <td>15413.0</td>\n",
              "      <td>194</td>\n",
              "      <td>0</td>\n",
              "      <td>5</td>\n",
              "      <td>1</td>\n",
              "      <td>6798.72</td>\n",
              "    </tr>\n",
              "    <tr>\n",
              "      <th>2</th>\n",
              "      <td>14063.0</td>\n",
              "      <td>189</td>\n",
              "      <td>0</td>\n",
              "      <td>7</td>\n",
              "      <td>1</td>\n",
              "      <td>9471.50</td>\n",
              "    </tr>\n",
              "    <tr>\n",
              "      <th>3</th>\n",
              "      <td>12682.0</td>\n",
              "      <td>15</td>\n",
              "      <td>3</td>\n",
              "      <td>14</td>\n",
              "      <td>1</td>\n",
              "      <td>6845.16</td>\n",
              "    </tr>\n",
              "    <tr>\n",
              "      <th>4</th>\n",
              "      <td>17519.0</td>\n",
              "      <td>22</td>\n",
              "      <td>3</td>\n",
              "      <td>8</td>\n",
              "      <td>1</td>\n",
              "      <td>2621.31</td>\n",
              "    </tr>\n",
              "    <tr>\n",
              "      <th>...</th>\n",
              "      <td>...</td>\n",
              "      <td>...</td>\n",
              "      <td>...</td>\n",
              "      <td>...</td>\n",
              "      <td>...</td>\n",
              "      <td>...</td>\n",
              "    </tr>\n",
              "    <tr>\n",
              "      <th>3132</th>\n",
              "      <td>13089.0</td>\n",
              "      <td>7</td>\n",
              "      <td>3</td>\n",
              "      <td>58</td>\n",
              "      <td>3</td>\n",
              "      <td>28405.08</td>\n",
              "    </tr>\n",
              "    <tr>\n",
              "      <th>3133</th>\n",
              "      <td>14606.0</td>\n",
              "      <td>1</td>\n",
              "      <td>3</td>\n",
              "      <td>62</td>\n",
              "      <td>3</td>\n",
              "      <td>12085.93</td>\n",
              "    </tr>\n",
              "    <tr>\n",
              "      <th>3134</th>\n",
              "      <td>13694.0</td>\n",
              "      <td>0</td>\n",
              "      <td>3</td>\n",
              "      <td>81</td>\n",
              "      <td>3</td>\n",
              "      <td>106707.71</td>\n",
              "    </tr>\n",
              "    <tr>\n",
              "      <th>3135</th>\n",
              "      <td>12748.0</td>\n",
              "      <td>2</td>\n",
              "      <td>3</td>\n",
              "      <td>56</td>\n",
              "      <td>3</td>\n",
              "      <td>7670.00</td>\n",
              "    </tr>\n",
              "    <tr>\n",
              "      <th>3136</th>\n",
              "      <td>17850.0</td>\n",
              "      <td>11</td>\n",
              "      <td>3</td>\n",
              "      <td>81</td>\n",
              "      <td>3</td>\n",
              "      <td>36066.05</td>\n",
              "    </tr>\n",
              "  </tbody>\n",
              "</table>\n",
              "<p>3137 rows × 6 columns</p>\n",
              "</div>"
            ],
            "text/plain": [
              "     Customer ID  Recency  RecencyCluster  Frequency  FrequencyCluster  \\\n",
              "0        13085.0      182               0          6                 1   \n",
              "1        15413.0      194               0          5                 1   \n",
              "2        14063.0      189               0          7                 1   \n",
              "3        12682.0       15               3         14                 1   \n",
              "4        17519.0       22               3          8                 1   \n",
              "...          ...      ...             ...        ...               ...   \n",
              "3132     13089.0        7               3         58                 3   \n",
              "3133     14606.0        1               3         62                 3   \n",
              "3134     13694.0        0               3         81                 3   \n",
              "3135     12748.0        2               3         56                 3   \n",
              "3136     17850.0       11               3         81                 3   \n",
              "\n",
              "       Monetary  \n",
              "0       2017.20  \n",
              "1       6798.72  \n",
              "2       9471.50  \n",
              "3       6845.16  \n",
              "4       2621.31  \n",
              "...         ...  \n",
              "3132   28405.08  \n",
              "3133   12085.93  \n",
              "3134  106707.71  \n",
              "3135    7670.00  \n",
              "3136   36066.05  \n",
              "\n",
              "[3137 rows x 6 columns]"
            ]
          },
          "execution_count": 63,
          "metadata": {},
          "output_type": "execute_result"
        }
      ],
      "source": [
        "RFM_df= pd.merge(RFM_df, monetary_df, on='Customer ID')\n",
        "RFM_df"
      ]
    },
    {
      "cell_type": "code",
      "execution_count": null,
      "id": "f20c3140",
      "metadata": {
        "execution": {
          "iopub.execute_input": "2022-11-14T09:03:40.860493Z",
          "iopub.status.busy": "2022-11-14T09:03:40.860092Z",
          "iopub.status.idle": "2022-11-14T09:03:41.801451Z",
          "shell.execute_reply": "2022-11-14T09:03:41.800730Z"
        },
        "id": "f20c3140",
        "outputId": "2fba0ca7-41b9-489c-803e-509cc220ebd5",
        "papermill": {
          "duration": 0.981384,
          "end_time": "2022-11-14T09:03:41.803355",
          "exception": false,
          "start_time": "2022-11-14T09:03:40.821971",
          "status": "completed"
        },
        "tags": []
      },
      "outputs": [
        {
          "data": {
            "text/html": [
              "<div>\n",
              "<style scoped>\n",
              "    .dataframe tbody tr th:only-of-type {\n",
              "        vertical-align: middle;\n",
              "    }\n",
              "\n",
              "    .dataframe tbody tr th {\n",
              "        vertical-align: top;\n",
              "    }\n",
              "\n",
              "    .dataframe thead th {\n",
              "        text-align: right;\n",
              "    }\n",
              "</style>\n",
              "<table border=\"1\" class=\"dataframe\">\n",
              "  <thead>\n",
              "    <tr style=\"text-align: right;\">\n",
              "      <th></th>\n",
              "      <th>Customer ID</th>\n",
              "      <th>Recency</th>\n",
              "      <th>RecencyCluster</th>\n",
              "      <th>Frequency</th>\n",
              "      <th>FrequencyCluster</th>\n",
              "      <th>Monetary</th>\n",
              "      <th>MonetaryCluster</th>\n",
              "    </tr>\n",
              "  </thead>\n",
              "  <tbody>\n",
              "    <tr>\n",
              "      <th>0</th>\n",
              "      <td>13085.0</td>\n",
              "      <td>182</td>\n",
              "      <td>0</td>\n",
              "      <td>6</td>\n",
              "      <td>1</td>\n",
              "      <td>2017.20</td>\n",
              "      <td>0</td>\n",
              "    </tr>\n",
              "    <tr>\n",
              "      <th>1</th>\n",
              "      <td>15413.0</td>\n",
              "      <td>194</td>\n",
              "      <td>0</td>\n",
              "      <td>5</td>\n",
              "      <td>1</td>\n",
              "      <td>6798.72</td>\n",
              "      <td>0</td>\n",
              "    </tr>\n",
              "    <tr>\n",
              "      <th>2</th>\n",
              "      <td>14063.0</td>\n",
              "      <td>189</td>\n",
              "      <td>0</td>\n",
              "      <td>7</td>\n",
              "      <td>1</td>\n",
              "      <td>9471.50</td>\n",
              "      <td>0</td>\n",
              "    </tr>\n",
              "    <tr>\n",
              "      <th>3</th>\n",
              "      <td>12682.0</td>\n",
              "      <td>15</td>\n",
              "      <td>3</td>\n",
              "      <td>14</td>\n",
              "      <td>1</td>\n",
              "      <td>6845.16</td>\n",
              "      <td>0</td>\n",
              "    </tr>\n",
              "    <tr>\n",
              "      <th>4</th>\n",
              "      <td>17519.0</td>\n",
              "      <td>22</td>\n",
              "      <td>3</td>\n",
              "      <td>8</td>\n",
              "      <td>1</td>\n",
              "      <td>2621.31</td>\n",
              "      <td>0</td>\n",
              "    </tr>\n",
              "    <tr>\n",
              "      <th>...</th>\n",
              "      <td>...</td>\n",
              "      <td>...</td>\n",
              "      <td>...</td>\n",
              "      <td>...</td>\n",
              "      <td>...</td>\n",
              "      <td>...</td>\n",
              "      <td>...</td>\n",
              "    </tr>\n",
              "    <tr>\n",
              "      <th>3132</th>\n",
              "      <td>13089.0</td>\n",
              "      <td>7</td>\n",
              "      <td>3</td>\n",
              "      <td>58</td>\n",
              "      <td>3</td>\n",
              "      <td>28405.08</td>\n",
              "      <td>2</td>\n",
              "    </tr>\n",
              "    <tr>\n",
              "      <th>3133</th>\n",
              "      <td>14606.0</td>\n",
              "      <td>1</td>\n",
              "      <td>3</td>\n",
              "      <td>62</td>\n",
              "      <td>3</td>\n",
              "      <td>12085.93</td>\n",
              "      <td>0</td>\n",
              "    </tr>\n",
              "    <tr>\n",
              "      <th>3134</th>\n",
              "      <td>13694.0</td>\n",
              "      <td>0</td>\n",
              "      <td>3</td>\n",
              "      <td>81</td>\n",
              "      <td>3</td>\n",
              "      <td>106707.71</td>\n",
              "      <td>1</td>\n",
              "    </tr>\n",
              "    <tr>\n",
              "      <th>3135</th>\n",
              "      <td>12748.0</td>\n",
              "      <td>2</td>\n",
              "      <td>3</td>\n",
              "      <td>56</td>\n",
              "      <td>3</td>\n",
              "      <td>7670.00</td>\n",
              "      <td>0</td>\n",
              "    </tr>\n",
              "    <tr>\n",
              "      <th>3136</th>\n",
              "      <td>17850.0</td>\n",
              "      <td>11</td>\n",
              "      <td>3</td>\n",
              "      <td>81</td>\n",
              "      <td>3</td>\n",
              "      <td>36066.05</td>\n",
              "      <td>2</td>\n",
              "    </tr>\n",
              "  </tbody>\n",
              "</table>\n",
              "<p>3137 rows × 7 columns</p>\n",
              "</div>"
            ],
            "text/plain": [
              "     Customer ID  Recency  RecencyCluster  Frequency  FrequencyCluster  \\\n",
              "0        13085.0      182               0          6                 1   \n",
              "1        15413.0      194               0          5                 1   \n",
              "2        14063.0      189               0          7                 1   \n",
              "3        12682.0       15               3         14                 1   \n",
              "4        17519.0       22               3          8                 1   \n",
              "...          ...      ...             ...        ...               ...   \n",
              "3132     13089.0        7               3         58                 3   \n",
              "3133     14606.0        1               3         62                 3   \n",
              "3134     13694.0        0               3         81                 3   \n",
              "3135     12748.0        2               3         56                 3   \n",
              "3136     17850.0       11               3         81                 3   \n",
              "\n",
              "       Monetary  MonetaryCluster  \n",
              "0       2017.20                0  \n",
              "1       6798.72                0  \n",
              "2       9471.50                0  \n",
              "3       6845.16                0  \n",
              "4       2621.31                0  \n",
              "...         ...              ...  \n",
              "3132   28405.08                2  \n",
              "3133   12085.93                0  \n",
              "3134  106707.71                1  \n",
              "3135    7670.00                0  \n",
              "3136   36066.05                2  \n",
              "\n",
              "[3137 rows x 7 columns]"
            ]
          },
          "execution_count": 64,
          "metadata": {},
          "output_type": "execute_result"
        }
      ],
      "source": [
        "kmeans = KMeans(n_clusters=4)\n",
        "kmeans.fit(RFM_df[['Monetary']])\n",
        "RFM_df['MonetaryCluster']= kmeans.predict(RFM_df[['Monetary']])\n",
        "RFM_df"
      ]
    },
    {
      "cell_type": "code",
      "execution_count": null,
      "id": "b7a652fe",
      "metadata": {
        "execution": {
          "iopub.execute_input": "2022-11-14T09:03:41.884147Z",
          "iopub.status.busy": "2022-11-14T09:03:41.883215Z",
          "iopub.status.idle": "2022-11-14T09:03:41.903768Z",
          "shell.execute_reply": "2022-11-14T09:03:41.903150Z"
        },
        "id": "b7a652fe",
        "outputId": "1039b961-55b7-48a5-a31b-8af891f8c3b7",
        "papermill": {
          "duration": 0.061523,
          "end_time": "2022-11-14T09:03:41.905549",
          "exception": false,
          "start_time": "2022-11-14T09:03:41.844026",
          "status": "completed"
        },
        "tags": []
      },
      "outputs": [
        {
          "data": {
            "text/html": [
              "<div>\n",
              "<style scoped>\n",
              "    .dataframe tbody tr th:only-of-type {\n",
              "        vertical-align: middle;\n",
              "    }\n",
              "\n",
              "    .dataframe tbody tr th {\n",
              "        vertical-align: top;\n",
              "    }\n",
              "\n",
              "    .dataframe thead th {\n",
              "        text-align: right;\n",
              "    }\n",
              "</style>\n",
              "<table border=\"1\" class=\"dataframe\">\n",
              "  <thead>\n",
              "    <tr style=\"text-align: right;\">\n",
              "      <th></th>\n",
              "      <th>Customer ID</th>\n",
              "      <th>Recency</th>\n",
              "      <th>RecencyCluster</th>\n",
              "      <th>Frequency</th>\n",
              "      <th>FrequencyCluster</th>\n",
              "      <th>Monetary</th>\n",
              "      <th>MonetaryCluster</th>\n",
              "    </tr>\n",
              "  </thead>\n",
              "  <tbody>\n",
              "    <tr>\n",
              "      <th>0</th>\n",
              "      <td>13085.0</td>\n",
              "      <td>182</td>\n",
              "      <td>0</td>\n",
              "      <td>6</td>\n",
              "      <td>1</td>\n",
              "      <td>2017.20</td>\n",
              "      <td>0</td>\n",
              "    </tr>\n",
              "    <tr>\n",
              "      <th>1</th>\n",
              "      <td>15413.0</td>\n",
              "      <td>194</td>\n",
              "      <td>0</td>\n",
              "      <td>5</td>\n",
              "      <td>1</td>\n",
              "      <td>6798.72</td>\n",
              "      <td>0</td>\n",
              "    </tr>\n",
              "    <tr>\n",
              "      <th>2</th>\n",
              "      <td>14063.0</td>\n",
              "      <td>189</td>\n",
              "      <td>0</td>\n",
              "      <td>7</td>\n",
              "      <td>1</td>\n",
              "      <td>9471.50</td>\n",
              "      <td>0</td>\n",
              "    </tr>\n",
              "    <tr>\n",
              "      <th>3</th>\n",
              "      <td>12682.0</td>\n",
              "      <td>15</td>\n",
              "      <td>3</td>\n",
              "      <td>14</td>\n",
              "      <td>1</td>\n",
              "      <td>6845.16</td>\n",
              "      <td>0</td>\n",
              "    </tr>\n",
              "    <tr>\n",
              "      <th>4</th>\n",
              "      <td>17519.0</td>\n",
              "      <td>22</td>\n",
              "      <td>3</td>\n",
              "      <td>8</td>\n",
              "      <td>1</td>\n",
              "      <td>2621.31</td>\n",
              "      <td>0</td>\n",
              "    </tr>\n",
              "    <tr>\n",
              "      <th>...</th>\n",
              "      <td>...</td>\n",
              "      <td>...</td>\n",
              "      <td>...</td>\n",
              "      <td>...</td>\n",
              "      <td>...</td>\n",
              "      <td>...</td>\n",
              "      <td>...</td>\n",
              "    </tr>\n",
              "    <tr>\n",
              "      <th>3132</th>\n",
              "      <td>17850.0</td>\n",
              "      <td>11</td>\n",
              "      <td>3</td>\n",
              "      <td>81</td>\n",
              "      <td>3</td>\n",
              "      <td>36066.05</td>\n",
              "      <td>1</td>\n",
              "    </tr>\n",
              "    <tr>\n",
              "      <th>3133</th>\n",
              "      <td>14646.0</td>\n",
              "      <td>8</td>\n",
              "      <td>3</td>\n",
              "      <td>38</td>\n",
              "      <td>2</td>\n",
              "      <td>132690.81</td>\n",
              "      <td>2</td>\n",
              "    </tr>\n",
              "    <tr>\n",
              "      <th>3134</th>\n",
              "      <td>14156.0</td>\n",
              "      <td>5</td>\n",
              "      <td>3</td>\n",
              "      <td>51</td>\n",
              "      <td>3</td>\n",
              "      <td>135980.33</td>\n",
              "      <td>2</td>\n",
              "    </tr>\n",
              "    <tr>\n",
              "      <th>3135</th>\n",
              "      <td>13694.0</td>\n",
              "      <td>0</td>\n",
              "      <td>3</td>\n",
              "      <td>81</td>\n",
              "      <td>3</td>\n",
              "      <td>106707.71</td>\n",
              "      <td>2</td>\n",
              "    </tr>\n",
              "    <tr>\n",
              "      <th>3136</th>\n",
              "      <td>18102.0</td>\n",
              "      <td>0</td>\n",
              "      <td>3</td>\n",
              "      <td>61</td>\n",
              "      <td>3</td>\n",
              "      <td>222525.28</td>\n",
              "      <td>3</td>\n",
              "    </tr>\n",
              "  </tbody>\n",
              "</table>\n",
              "<p>3137 rows × 7 columns</p>\n",
              "</div>"
            ],
            "text/plain": [
              "     Customer ID  Recency  RecencyCluster  Frequency  FrequencyCluster  \\\n",
              "0        13085.0      182               0          6                 1   \n",
              "1        15413.0      194               0          5                 1   \n",
              "2        14063.0      189               0          7                 1   \n",
              "3        12682.0       15               3         14                 1   \n",
              "4        17519.0       22               3          8                 1   \n",
              "...          ...      ...             ...        ...               ...   \n",
              "3132     17850.0       11               3         81                 3   \n",
              "3133     14646.0        8               3         38                 2   \n",
              "3134     14156.0        5               3         51                 3   \n",
              "3135     13694.0        0               3         81                 3   \n",
              "3136     18102.0        0               3         61                 3   \n",
              "\n",
              "       Monetary  MonetaryCluster  \n",
              "0       2017.20                0  \n",
              "1       6798.72                0  \n",
              "2       9471.50                0  \n",
              "3       6845.16                0  \n",
              "4       2621.31                0  \n",
              "...         ...              ...  \n",
              "3132   36066.05                1  \n",
              "3133  132690.81                2  \n",
              "3134  135980.33                2  \n",
              "3135  106707.71                2  \n",
              "3136  222525.28                3  \n",
              "\n",
              "[3137 rows x 7 columns]"
            ]
          },
          "execution_count": 65,
          "metadata": {},
          "output_type": "execute_result"
        }
      ],
      "source": [
        "RFM_df= order_cluster('MonetaryCluster', 'Monetary', RFM_df, True)\n",
        "RFM_df"
      ]
    },
    {
      "cell_type": "code",
      "execution_count": null,
      "id": "a4921694",
      "metadata": {
        "execution": {
          "iopub.execute_input": "2022-11-14T09:03:41.984352Z",
          "iopub.status.busy": "2022-11-14T09:03:41.983794Z",
          "iopub.status.idle": "2022-11-14T09:03:42.005852Z",
          "shell.execute_reply": "2022-11-14T09:03:42.004898Z"
        },
        "id": "a4921694",
        "outputId": "1fe054be-e787-4db6-8627-c9075218a629",
        "papermill": {
          "duration": 0.064127,
          "end_time": "2022-11-14T09:03:42.008054",
          "exception": false,
          "start_time": "2022-11-14T09:03:41.943927",
          "status": "completed"
        },
        "tags": []
      },
      "outputs": [
        {
          "data": {
            "text/html": [
              "<div>\n",
              "<style scoped>\n",
              "    .dataframe tbody tr th:only-of-type {\n",
              "        vertical-align: middle;\n",
              "    }\n",
              "\n",
              "    .dataframe tbody tr th {\n",
              "        vertical-align: top;\n",
              "    }\n",
              "\n",
              "    .dataframe thead th {\n",
              "        text-align: right;\n",
              "    }\n",
              "</style>\n",
              "<table border=\"1\" class=\"dataframe\">\n",
              "  <thead>\n",
              "    <tr style=\"text-align: right;\">\n",
              "      <th></th>\n",
              "      <th>count</th>\n",
              "      <th>mean</th>\n",
              "      <th>std</th>\n",
              "      <th>min</th>\n",
              "      <th>25%</th>\n",
              "      <th>50%</th>\n",
              "      <th>75%</th>\n",
              "      <th>max</th>\n",
              "    </tr>\n",
              "    <tr>\n",
              "      <th>MonetaryCluster</th>\n",
              "      <th></th>\n",
              "      <th></th>\n",
              "      <th></th>\n",
              "      <th></th>\n",
              "      <th></th>\n",
              "      <th></th>\n",
              "      <th></th>\n",
              "      <th></th>\n",
              "    </tr>\n",
              "  </thead>\n",
              "  <tbody>\n",
              "    <tr>\n",
              "      <th>0</th>\n",
              "      <td>3099.0</td>\n",
              "      <td>1070.028261</td>\n",
              "      <td>1477.097908</td>\n",
              "      <td>1.55</td>\n",
              "      <td>256.4100</td>\n",
              "      <td>561.25</td>\n",
              "      <td>1256.15</td>\n",
              "      <td>12916.15</td>\n",
              "    </tr>\n",
              "    <tr>\n",
              "      <th>1</th>\n",
              "      <td>34.0</td>\n",
              "      <td>25074.632353</td>\n",
              "      <td>12736.899487</td>\n",
              "      <td>13776.74</td>\n",
              "      <td>15635.6675</td>\n",
              "      <td>19927.71</td>\n",
              "      <td>30937.89</td>\n",
              "      <td>69700.34</td>\n",
              "    </tr>\n",
              "    <tr>\n",
              "      <th>2</th>\n",
              "      <td>3.0</td>\n",
              "      <td>125126.283333</td>\n",
              "      <td>16035.526751</td>\n",
              "      <td>106707.71</td>\n",
              "      <td>119699.2600</td>\n",
              "      <td>132690.81</td>\n",
              "      <td>134335.57</td>\n",
              "      <td>135980.33</td>\n",
              "    </tr>\n",
              "    <tr>\n",
              "      <th>3</th>\n",
              "      <td>1.0</td>\n",
              "      <td>222525.280000</td>\n",
              "      <td>NaN</td>\n",
              "      <td>222525.28</td>\n",
              "      <td>222525.2800</td>\n",
              "      <td>222525.28</td>\n",
              "      <td>222525.28</td>\n",
              "      <td>222525.28</td>\n",
              "    </tr>\n",
              "  </tbody>\n",
              "</table>\n",
              "</div>"
            ],
            "text/plain": [
              "                  count           mean           std        min          25%  \\\n",
              "MonetaryCluster                                                                \n",
              "0                3099.0    1070.028261   1477.097908       1.55     256.4100   \n",
              "1                  34.0   25074.632353  12736.899487   13776.74   15635.6675   \n",
              "2                   3.0  125126.283333  16035.526751  106707.71  119699.2600   \n",
              "3                   1.0  222525.280000           NaN  222525.28  222525.2800   \n",
              "\n",
              "                       50%        75%        max  \n",
              "MonetaryCluster                                   \n",
              "0                   561.25    1256.15   12916.15  \n",
              "1                 19927.71   30937.89   69700.34  \n",
              "2                132690.81  134335.57  135980.33  \n",
              "3                222525.28  222525.28  222525.28  "
            ]
          },
          "execution_count": 66,
          "metadata": {},
          "output_type": "execute_result"
        }
      ],
      "source": [
        "MonetaryCluster_Stats= RFM_df.groupby(\"MonetaryCluster\")[\"Monetary\"].describe()\n",
        "MonetaryCluster_Stats"
      ]
    },
    {
      "cell_type": "markdown",
      "id": "91d64a11",
      "metadata": {
        "id": "91d64a11",
        "papermill": {
          "duration": 0.038234,
          "end_time": "2022-11-14T09:03:42.085739",
          "exception": false,
          "start_time": "2022-11-14T09:03:42.047505",
          "status": "completed"
        },
        "tags": []
      },
      "source": [
        "Let's calculate Overall Scores:\n",
        "\n",
        "- 0 to 2: Low Value\n",
        "- 3 to 4: Mid Value\n",
        "- 5+: High Value"
      ]
    },
    {
      "cell_type": "code",
      "execution_count": null,
      "id": "0a7ac8cd",
      "metadata": {
        "execution": {
          "iopub.execute_input": "2022-11-14T09:03:42.164737Z",
          "iopub.status.busy": "2022-11-14T09:03:42.164375Z",
          "iopub.status.idle": "2022-11-14T09:03:42.187845Z",
          "shell.execute_reply": "2022-11-14T09:03:42.186437Z"
        },
        "id": "0a7ac8cd",
        "outputId": "0c3adaee-2303-4c13-c2c6-e754cec7a4fb",
        "papermill": {
          "duration": 0.066427,
          "end_time": "2022-11-14T09:03:42.190549",
          "exception": false,
          "start_time": "2022-11-14T09:03:42.124122",
          "status": "completed"
        },
        "tags": []
      },
      "outputs": [
        {
          "data": {
            "text/html": [
              "<div>\n",
              "<style scoped>\n",
              "    .dataframe tbody tr th:only-of-type {\n",
              "        vertical-align: middle;\n",
              "    }\n",
              "\n",
              "    .dataframe tbody tr th {\n",
              "        vertical-align: top;\n",
              "    }\n",
              "\n",
              "    .dataframe thead th {\n",
              "        text-align: right;\n",
              "    }\n",
              "</style>\n",
              "<table border=\"1\" class=\"dataframe\">\n",
              "  <thead>\n",
              "    <tr style=\"text-align: right;\">\n",
              "      <th></th>\n",
              "      <th>Customer ID</th>\n",
              "      <th>Recency</th>\n",
              "      <th>RecencyCluster</th>\n",
              "      <th>Frequency</th>\n",
              "      <th>FrequencyCluster</th>\n",
              "      <th>Monetary</th>\n",
              "      <th>MonetaryCluster</th>\n",
              "      <th>OverallScore</th>\n",
              "      <th>Segment</th>\n",
              "    </tr>\n",
              "  </thead>\n",
              "  <tbody>\n",
              "    <tr>\n",
              "      <th>0</th>\n",
              "      <td>13085.0</td>\n",
              "      <td>182</td>\n",
              "      <td>0</td>\n",
              "      <td>6</td>\n",
              "      <td>1</td>\n",
              "      <td>2017.20</td>\n",
              "      <td>0</td>\n",
              "      <td>1</td>\n",
              "      <td>Low-Value</td>\n",
              "    </tr>\n",
              "    <tr>\n",
              "      <th>1</th>\n",
              "      <td>15413.0</td>\n",
              "      <td>194</td>\n",
              "      <td>0</td>\n",
              "      <td>5</td>\n",
              "      <td>1</td>\n",
              "      <td>6798.72</td>\n",
              "      <td>0</td>\n",
              "      <td>1</td>\n",
              "      <td>Low-Value</td>\n",
              "    </tr>\n",
              "    <tr>\n",
              "      <th>2</th>\n",
              "      <td>14063.0</td>\n",
              "      <td>189</td>\n",
              "      <td>0</td>\n",
              "      <td>7</td>\n",
              "      <td>1</td>\n",
              "      <td>9471.50</td>\n",
              "      <td>0</td>\n",
              "      <td>1</td>\n",
              "      <td>Low-Value</td>\n",
              "    </tr>\n",
              "    <tr>\n",
              "      <th>3</th>\n",
              "      <td>12682.0</td>\n",
              "      <td>15</td>\n",
              "      <td>3</td>\n",
              "      <td>14</td>\n",
              "      <td>1</td>\n",
              "      <td>6845.16</td>\n",
              "      <td>0</td>\n",
              "      <td>4</td>\n",
              "      <td>Mid-Value</td>\n",
              "    </tr>\n",
              "    <tr>\n",
              "      <th>4</th>\n",
              "      <td>17519.0</td>\n",
              "      <td>22</td>\n",
              "      <td>3</td>\n",
              "      <td>8</td>\n",
              "      <td>1</td>\n",
              "      <td>2621.31</td>\n",
              "      <td>0</td>\n",
              "      <td>4</td>\n",
              "      <td>Mid-Value</td>\n",
              "    </tr>\n",
              "    <tr>\n",
              "      <th>...</th>\n",
              "      <td>...</td>\n",
              "      <td>...</td>\n",
              "      <td>...</td>\n",
              "      <td>...</td>\n",
              "      <td>...</td>\n",
              "      <td>...</td>\n",
              "      <td>...</td>\n",
              "      <td>...</td>\n",
              "      <td>...</td>\n",
              "    </tr>\n",
              "    <tr>\n",
              "      <th>3132</th>\n",
              "      <td>17850.0</td>\n",
              "      <td>11</td>\n",
              "      <td>3</td>\n",
              "      <td>81</td>\n",
              "      <td>3</td>\n",
              "      <td>36066.05</td>\n",
              "      <td>1</td>\n",
              "      <td>7</td>\n",
              "      <td>High-Value</td>\n",
              "    </tr>\n",
              "    <tr>\n",
              "      <th>3133</th>\n",
              "      <td>14646.0</td>\n",
              "      <td>8</td>\n",
              "      <td>3</td>\n",
              "      <td>38</td>\n",
              "      <td>2</td>\n",
              "      <td>132690.81</td>\n",
              "      <td>2</td>\n",
              "      <td>7</td>\n",
              "      <td>High-Value</td>\n",
              "    </tr>\n",
              "    <tr>\n",
              "      <th>3134</th>\n",
              "      <td>14156.0</td>\n",
              "      <td>5</td>\n",
              "      <td>3</td>\n",
              "      <td>51</td>\n",
              "      <td>3</td>\n",
              "      <td>135980.33</td>\n",
              "      <td>2</td>\n",
              "      <td>8</td>\n",
              "      <td>High-Value</td>\n",
              "    </tr>\n",
              "    <tr>\n",
              "      <th>3135</th>\n",
              "      <td>13694.0</td>\n",
              "      <td>0</td>\n",
              "      <td>3</td>\n",
              "      <td>81</td>\n",
              "      <td>3</td>\n",
              "      <td>106707.71</td>\n",
              "      <td>2</td>\n",
              "      <td>8</td>\n",
              "      <td>High-Value</td>\n",
              "    </tr>\n",
              "    <tr>\n",
              "      <th>3136</th>\n",
              "      <td>18102.0</td>\n",
              "      <td>0</td>\n",
              "      <td>3</td>\n",
              "      <td>61</td>\n",
              "      <td>3</td>\n",
              "      <td>222525.28</td>\n",
              "      <td>3</td>\n",
              "      <td>9</td>\n",
              "      <td>High-Value</td>\n",
              "    </tr>\n",
              "  </tbody>\n",
              "</table>\n",
              "<p>3137 rows × 9 columns</p>\n",
              "</div>"
            ],
            "text/plain": [
              "     Customer ID  Recency  RecencyCluster  Frequency  FrequencyCluster  \\\n",
              "0        13085.0      182               0          6                 1   \n",
              "1        15413.0      194               0          5                 1   \n",
              "2        14063.0      189               0          7                 1   \n",
              "3        12682.0       15               3         14                 1   \n",
              "4        17519.0       22               3          8                 1   \n",
              "...          ...      ...             ...        ...               ...   \n",
              "3132     17850.0       11               3         81                 3   \n",
              "3133     14646.0        8               3         38                 2   \n",
              "3134     14156.0        5               3         51                 3   \n",
              "3135     13694.0        0               3         81                 3   \n",
              "3136     18102.0        0               3         61                 3   \n",
              "\n",
              "       Monetary  MonetaryCluster  OverallScore     Segment  \n",
              "0       2017.20                0             1   Low-Value  \n",
              "1       6798.72                0             1   Low-Value  \n",
              "2       9471.50                0             1   Low-Value  \n",
              "3       6845.16                0             4   Mid-Value  \n",
              "4       2621.31                0             4   Mid-Value  \n",
              "...         ...              ...           ...         ...  \n",
              "3132   36066.05                1             7  High-Value  \n",
              "3133  132690.81                2             7  High-Value  \n",
              "3134  135980.33                2             8  High-Value  \n",
              "3135  106707.71                2             8  High-Value  \n",
              "3136  222525.28                3             9  High-Value  \n",
              "\n",
              "[3137 rows x 9 columns]"
            ]
          },
          "execution_count": 67,
          "metadata": {},
          "output_type": "execute_result"
        }
      ],
      "source": [
        "#overall scoring\n",
        "RFM_df['OverallScore'] = RFM_df['RecencyCluster'] + RFM_df['FrequencyCluster'] + RFM_df['MonetaryCluster']\n",
        "RFM_df['Segment'] = 'Low-Value'\n",
        "RFM_df.loc[RFM_df['OverallScore']>2,'Segment'] = 'Mid-Value'\n",
        "RFM_df.loc[RFM_df['OverallScore']>4,'Segment'] = 'High-Value'\n",
        "RFM_df"
      ]
    },
    {
      "cell_type": "code",
      "execution_count": null,
      "id": "5c41749d",
      "metadata": {
        "execution": {
          "iopub.execute_input": "2022-11-14T09:03:42.270485Z",
          "iopub.status.busy": "2022-11-14T09:03:42.269623Z",
          "iopub.status.idle": "2022-11-14T09:03:42.282721Z",
          "shell.execute_reply": "2022-11-14T09:03:42.281879Z"
        },
        "id": "5c41749d",
        "outputId": "3d51c873-9e36-44b9-f3bb-87ae358671ca",
        "papermill": {
          "duration": 0.055328,
          "end_time": "2022-11-14T09:03:42.284671",
          "exception": false,
          "start_time": "2022-11-14T09:03:42.229343",
          "status": "completed"
        },
        "tags": []
      },
      "outputs": [
        {
          "data": {
            "text/html": [
              "<div>\n",
              "<style scoped>\n",
              "    .dataframe tbody tr th:only-of-type {\n",
              "        vertical-align: middle;\n",
              "    }\n",
              "\n",
              "    .dataframe tbody tr th {\n",
              "        vertical-align: top;\n",
              "    }\n",
              "\n",
              "    .dataframe thead th {\n",
              "        text-align: right;\n",
              "    }\n",
              "</style>\n",
              "<table border=\"1\" class=\"dataframe\">\n",
              "  <thead>\n",
              "    <tr style=\"text-align: right;\">\n",
              "      <th></th>\n",
              "      <th>Recency</th>\n",
              "      <th>Frequency</th>\n",
              "      <th>Monetary</th>\n",
              "    </tr>\n",
              "    <tr>\n",
              "      <th>OverallScore</th>\n",
              "      <th></th>\n",
              "      <th></th>\n",
              "      <th></th>\n",
              "    </tr>\n",
              "  </thead>\n",
              "  <tbody>\n",
              "    <tr>\n",
              "      <th>0</th>\n",
              "      <td>212.826087</td>\n",
              "      <td>1.214493</td>\n",
              "      <td>347.085971</td>\n",
              "    </tr>\n",
              "    <tr>\n",
              "      <th>1</th>\n",
              "      <td>136.576389</td>\n",
              "      <td>1.532986</td>\n",
              "      <td>555.628090</td>\n",
              "    </tr>\n",
              "    <tr>\n",
              "      <th>2</th>\n",
              "      <td>73.718750</td>\n",
              "      <td>1.960337</td>\n",
              "      <td>727.216106</td>\n",
              "    </tr>\n",
              "    <tr>\n",
              "      <th>3</th>\n",
              "      <td>26.415011</td>\n",
              "      <td>2.738411</td>\n",
              "      <td>1052.970640</td>\n",
              "    </tr>\n",
              "    <tr>\n",
              "      <th>4</th>\n",
              "      <td>16.913366</td>\n",
              "      <td>7.480198</td>\n",
              "      <td>2766.988045</td>\n",
              "    </tr>\n",
              "    <tr>\n",
              "      <th>5</th>\n",
              "      <td>11.434783</td>\n",
              "      <td>18.826087</td>\n",
              "      <td>10217.828913</td>\n",
              "    </tr>\n",
              "    <tr>\n",
              "      <th>6</th>\n",
              "      <td>7.437500</td>\n",
              "      <td>33.562500</td>\n",
              "      <td>18546.728750</td>\n",
              "    </tr>\n",
              "    <tr>\n",
              "      <th>7</th>\n",
              "      <td>3.888889</td>\n",
              "      <td>61.000000</td>\n",
              "      <td>46421.476667</td>\n",
              "    </tr>\n",
              "    <tr>\n",
              "      <th>8</th>\n",
              "      <td>2.500000</td>\n",
              "      <td>66.000000</td>\n",
              "      <td>121344.020000</td>\n",
              "    </tr>\n",
              "    <tr>\n",
              "      <th>9</th>\n",
              "      <td>0.000000</td>\n",
              "      <td>61.000000</td>\n",
              "      <td>222525.280000</td>\n",
              "    </tr>\n",
              "  </tbody>\n",
              "</table>\n",
              "</div>"
            ],
            "text/plain": [
              "                 Recency  Frequency       Monetary\n",
              "OverallScore                                      \n",
              "0             212.826087   1.214493     347.085971\n",
              "1             136.576389   1.532986     555.628090\n",
              "2              73.718750   1.960337     727.216106\n",
              "3              26.415011   2.738411    1052.970640\n",
              "4              16.913366   7.480198    2766.988045\n",
              "5              11.434783  18.826087   10217.828913\n",
              "6               7.437500  33.562500   18546.728750\n",
              "7               3.888889  61.000000   46421.476667\n",
              "8               2.500000  66.000000  121344.020000\n",
              "9               0.000000  61.000000  222525.280000"
            ]
          },
          "execution_count": 68,
          "metadata": {},
          "output_type": "execute_result"
        }
      ],
      "source": [
        "RFM_df.groupby('OverallScore')['Recency','Frequency','Monetary'].mean()"
      ]
    },
    {
      "cell_type": "markdown",
      "id": "e2794320",
      "metadata": {
        "id": "e2794320",
        "papermill": {
          "duration": 0.038498,
          "end_time": "2022-11-14T09:03:42.362273",
          "exception": false,
          "start_time": "2022-11-14T09:03:42.323775",
          "status": "completed"
        },
        "tags": []
      },
      "source": [
        "Our feature set is ready, let’s calculate 16 months CLV for each customer which we are going to use for training our model."
      ]
    },
    {
      "cell_type": "markdown",
      "id": "a87ccae4",
      "metadata": {
        "id": "a87ccae4",
        "papermill": {
          "duration": 0.038945,
          "end_time": "2022-11-14T09:03:42.439352",
          "exception": false,
          "start_time": "2022-11-14T09:03:42.400407",
          "status": "completed"
        },
        "tags": []
      },
      "source": [
        "There is no cost specified in the dataset. That’s why Monetary becomes our CLV directly:"
      ]
    },
    {
      "cell_type": "code",
      "execution_count": null,
      "id": "360bd0d3",
      "metadata": {
        "execution": {
          "iopub.execute_input": "2022-11-14T09:03:42.519657Z",
          "iopub.status.busy": "2022-11-14T09:03:42.519262Z",
          "iopub.status.idle": "2022-11-14T09:03:42.582150Z",
          "shell.execute_reply": "2022-11-14T09:03:42.581146Z"
        },
        "id": "360bd0d3",
        "outputId": "1f2e2b1f-a7a4-432e-fe48-97be2f22a408",
        "papermill": {
          "duration": 0.105468,
          "end_time": "2022-11-14T09:03:42.584496",
          "exception": false,
          "start_time": "2022-11-14T09:03:42.479028",
          "status": "completed"
        },
        "tags": []
      },
      "outputs": [
        {
          "data": {
            "text/html": [
              "<div>\n",
              "<style scoped>\n",
              "    .dataframe tbody tr th:only-of-type {\n",
              "        vertical-align: middle;\n",
              "    }\n",
              "\n",
              "    .dataframe tbody tr th {\n",
              "        vertical-align: top;\n",
              "    }\n",
              "\n",
              "    .dataframe thead th {\n",
              "        text-align: right;\n",
              "    }\n",
              "</style>\n",
              "<table border=\"1\" class=\"dataframe\">\n",
              "  <thead>\n",
              "    <tr style=\"text-align: right;\">\n",
              "      <th></th>\n",
              "      <th>Customer ID</th>\n",
              "      <th>lastMonthsMonetary</th>\n",
              "    </tr>\n",
              "  </thead>\n",
              "  <tbody>\n",
              "    <tr>\n",
              "      <th>0</th>\n",
              "      <td>12346.0</td>\n",
              "      <td>77183.60</td>\n",
              "    </tr>\n",
              "    <tr>\n",
              "      <th>1</th>\n",
              "      <td>12347.0</td>\n",
              "      <td>4921.53</td>\n",
              "    </tr>\n",
              "    <tr>\n",
              "      <th>2</th>\n",
              "      <td>12348.0</td>\n",
              "      <td>1658.40</td>\n",
              "    </tr>\n",
              "    <tr>\n",
              "      <th>3</th>\n",
              "      <td>12349.0</td>\n",
              "      <td>2610.17</td>\n",
              "    </tr>\n",
              "    <tr>\n",
              "      <th>4</th>\n",
              "      <td>12350.0</td>\n",
              "      <td>294.40</td>\n",
              "    </tr>\n",
              "  </tbody>\n",
              "</table>\n",
              "</div>"
            ],
            "text/plain": [
              "  Customer ID  lastMonthsMonetary\n",
              "0     12346.0            77183.60\n",
              "1     12347.0             4921.53\n",
              "2     12348.0             1658.40\n",
              "3     12349.0             2610.17\n",
              "4     12350.0              294.40"
            ]
          },
          "execution_count": 69,
          "metadata": {},
          "output_type": "execute_result"
        }
      ],
      "source": [
        "monetary_df_last= df_last.groupby('Customer ID')['TotalPrice'].sum().reset_index()\n",
        "monetary_df_last.columns = ['Customer ID', 'lastMonthsMonetary']\n",
        "monetary_df_last['Customer ID']= monetary_df_last['Customer ID'].astype(\"object\")\n",
        "monetary_df_last.head()"
      ]
    },
    {
      "cell_type": "code",
      "execution_count": null,
      "id": "b3d0223c",
      "metadata": {
        "execution": {
          "iopub.execute_input": "2022-11-14T09:03:42.666438Z",
          "iopub.status.busy": "2022-11-14T09:03:42.666038Z",
          "iopub.status.idle": "2022-11-14T09:03:42.673752Z",
          "shell.execute_reply": "2022-11-14T09:03:42.672436Z"
        },
        "id": "b3d0223c",
        "papermill": {
          "duration": 0.051381,
          "end_time": "2022-11-14T09:03:42.676205",
          "exception": false,
          "start_time": "2022-11-14T09:03:42.624824",
          "status": "completed"
        },
        "tags": []
      },
      "outputs": [],
      "source": [
        "monetary_df_last= monetary_df_last[monetary_df_last[\"lastMonthsMonetary\"] <= monetary_df_last[\"lastMonthsMonetary\"].quantile(0.99)]"
      ]
    },
    {
      "cell_type": "code",
      "execution_count": null,
      "id": "57c110f6",
      "metadata": {
        "execution": {
          "iopub.execute_input": "2022-11-14T09:03:42.755605Z",
          "iopub.status.busy": "2022-11-14T09:03:42.755190Z",
          "iopub.status.idle": "2022-11-14T09:03:42.766972Z",
          "shell.execute_reply": "2022-11-14T09:03:42.765393Z"
        },
        "id": "57c110f6",
        "outputId": "20a705ca-3b84-4e7c-d9a9-393b786c1fe3",
        "papermill": {
          "duration": 0.054221,
          "end_time": "2022-11-14T09:03:42.769167",
          "exception": false,
          "start_time": "2022-11-14T09:03:42.714946",
          "status": "completed"
        },
        "tags": []
      },
      "outputs": [
        {
          "name": "stdout",
          "output_type": "stream",
          "text": [
            "<class 'pandas.core.frame.DataFrame'>\n",
            "Int64Index: 5105 entries, 1 to 5156\n",
            "Data columns (total 2 columns):\n",
            " #   Column              Non-Null Count  Dtype  \n",
            "---  ------              --------------  -----  \n",
            " 0   Customer ID         5105 non-null   object \n",
            " 1   lastMonthsMonetary  5105 non-null   float64\n",
            "dtypes: float64(1), object(1)\n",
            "memory usage: 119.6+ KB\n"
          ]
        }
      ],
      "source": [
        "monetary_df_last.info()"
      ]
    },
    {
      "cell_type": "markdown",
      "id": "0cdbd8c0",
      "metadata": {
        "id": "0cdbd8c0",
        "papermill": {
          "duration": 0.040436,
          "end_time": "2022-11-14T09:03:42.848732",
          "exception": false,
          "start_time": "2022-11-14T09:03:42.808296",
          "status": "completed"
        },
        "tags": []
      },
      "source": [
        "Let's merge our 8 months and 16 months dataframes to see the feature set we have:"
      ]
    },
    {
      "cell_type": "code",
      "execution_count": null,
      "id": "008120a4",
      "metadata": {
        "execution": {
          "iopub.execute_input": "2022-11-14T09:03:42.929766Z",
          "iopub.status.busy": "2022-11-14T09:03:42.928520Z",
          "iopub.status.idle": "2022-11-14T09:03:42.957984Z",
          "shell.execute_reply": "2022-11-14T09:03:42.956832Z"
        },
        "id": "008120a4",
        "outputId": "08b7c7ff-3dd8-4433-fc68-ea34ad504a98",
        "papermill": {
          "duration": 0.071966,
          "end_time": "2022-11-14T09:03:42.960286",
          "exception": false,
          "start_time": "2022-11-14T09:03:42.888320",
          "status": "completed"
        },
        "tags": []
      },
      "outputs": [
        {
          "data": {
            "text/html": [
              "<div>\n",
              "<style scoped>\n",
              "    .dataframe tbody tr th:only-of-type {\n",
              "        vertical-align: middle;\n",
              "    }\n",
              "\n",
              "    .dataframe tbody tr th {\n",
              "        vertical-align: top;\n",
              "    }\n",
              "\n",
              "    .dataframe thead th {\n",
              "        text-align: right;\n",
              "    }\n",
              "</style>\n",
              "<table border=\"1\" class=\"dataframe\">\n",
              "  <thead>\n",
              "    <tr style=\"text-align: right;\">\n",
              "      <th></th>\n",
              "      <th>Customer ID</th>\n",
              "      <th>Recency</th>\n",
              "      <th>RecencyCluster</th>\n",
              "      <th>Frequency</th>\n",
              "      <th>FrequencyCluster</th>\n",
              "      <th>Monetary</th>\n",
              "      <th>MonetaryCluster</th>\n",
              "      <th>OverallScore</th>\n",
              "      <th>Segment</th>\n",
              "      <th>lastMonthsMonetary</th>\n",
              "    </tr>\n",
              "  </thead>\n",
              "  <tbody>\n",
              "    <tr>\n",
              "      <th>0</th>\n",
              "      <td>13085.0</td>\n",
              "      <td>182</td>\n",
              "      <td>0</td>\n",
              "      <td>6</td>\n",
              "      <td>1</td>\n",
              "      <td>2017.20</td>\n",
              "      <td>0</td>\n",
              "      <td>1</td>\n",
              "      <td>Low-Value</td>\n",
              "      <td>416.08</td>\n",
              "    </tr>\n",
              "    <tr>\n",
              "      <th>1</th>\n",
              "      <td>15413.0</td>\n",
              "      <td>194</td>\n",
              "      <td>0</td>\n",
              "      <td>5</td>\n",
              "      <td>1</td>\n",
              "      <td>6798.72</td>\n",
              "      <td>0</td>\n",
              "      <td>1</td>\n",
              "      <td>Low-Value</td>\n",
              "      <td>0.00</td>\n",
              "    </tr>\n",
              "    <tr>\n",
              "      <th>2</th>\n",
              "      <td>14063.0</td>\n",
              "      <td>189</td>\n",
              "      <td>0</td>\n",
              "      <td>7</td>\n",
              "      <td>1</td>\n",
              "      <td>9471.50</td>\n",
              "      <td>0</td>\n",
              "      <td>1</td>\n",
              "      <td>Low-Value</td>\n",
              "      <td>0.00</td>\n",
              "    </tr>\n",
              "    <tr>\n",
              "      <th>3</th>\n",
              "      <td>12682.0</td>\n",
              "      <td>15</td>\n",
              "      <td>3</td>\n",
              "      <td>14</td>\n",
              "      <td>1</td>\n",
              "      <td>6845.16</td>\n",
              "      <td>0</td>\n",
              "      <td>4</td>\n",
              "      <td>Mid-Value</td>\n",
              "      <td>13891.06</td>\n",
              "    </tr>\n",
              "    <tr>\n",
              "      <th>4</th>\n",
              "      <td>17519.0</td>\n",
              "      <td>22</td>\n",
              "      <td>3</td>\n",
              "      <td>8</td>\n",
              "      <td>1</td>\n",
              "      <td>2621.31</td>\n",
              "      <td>0</td>\n",
              "      <td>4</td>\n",
              "      <td>Mid-Value</td>\n",
              "      <td>2152.86</td>\n",
              "    </tr>\n",
              "    <tr>\n",
              "      <th>...</th>\n",
              "      <td>...</td>\n",
              "      <td>...</td>\n",
              "      <td>...</td>\n",
              "      <td>...</td>\n",
              "      <td>...</td>\n",
              "      <td>...</td>\n",
              "      <td>...</td>\n",
              "      <td>...</td>\n",
              "      <td>...</td>\n",
              "      <td>...</td>\n",
              "    </tr>\n",
              "    <tr>\n",
              "      <th>3132</th>\n",
              "      <td>17850.0</td>\n",
              "      <td>11</td>\n",
              "      <td>3</td>\n",
              "      <td>81</td>\n",
              "      <td>3</td>\n",
              "      <td>36066.05</td>\n",
              "      <td>1</td>\n",
              "      <td>7</td>\n",
              "      <td>High-Value</td>\n",
              "      <td>15142.82</td>\n",
              "    </tr>\n",
              "    <tr>\n",
              "      <th>3133</th>\n",
              "      <td>14646.0</td>\n",
              "      <td>8</td>\n",
              "      <td>3</td>\n",
              "      <td>38</td>\n",
              "      <td>2</td>\n",
              "      <td>132690.81</td>\n",
              "      <td>2</td>\n",
              "      <td>7</td>\n",
              "      <td>High-Value</td>\n",
              "      <td>0.00</td>\n",
              "    </tr>\n",
              "    <tr>\n",
              "      <th>3134</th>\n",
              "      <td>14156.0</td>\n",
              "      <td>5</td>\n",
              "      <td>3</td>\n",
              "      <td>51</td>\n",
              "      <td>3</td>\n",
              "      <td>135980.33</td>\n",
              "      <td>2</td>\n",
              "      <td>8</td>\n",
              "      <td>High-Value</td>\n",
              "      <td>0.00</td>\n",
              "    </tr>\n",
              "    <tr>\n",
              "      <th>3135</th>\n",
              "      <td>13694.0</td>\n",
              "      <td>0</td>\n",
              "      <td>3</td>\n",
              "      <td>81</td>\n",
              "      <td>3</td>\n",
              "      <td>106707.71</td>\n",
              "      <td>2</td>\n",
              "      <td>8</td>\n",
              "      <td>High-Value</td>\n",
              "      <td>0.00</td>\n",
              "    </tr>\n",
              "    <tr>\n",
              "      <th>3136</th>\n",
              "      <td>18102.0</td>\n",
              "      <td>0</td>\n",
              "      <td>3</td>\n",
              "      <td>61</td>\n",
              "      <td>3</td>\n",
              "      <td>222525.28</td>\n",
              "      <td>3</td>\n",
              "      <td>9</td>\n",
              "      <td>High-Value</td>\n",
              "      <td>0.00</td>\n",
              "    </tr>\n",
              "  </tbody>\n",
              "</table>\n",
              "<p>3137 rows × 10 columns</p>\n",
              "</div>"
            ],
            "text/plain": [
              "     Customer ID  Recency  RecencyCluster  Frequency  FrequencyCluster  \\\n",
              "0        13085.0      182               0          6                 1   \n",
              "1        15413.0      194               0          5                 1   \n",
              "2        14063.0      189               0          7                 1   \n",
              "3        12682.0       15               3         14                 1   \n",
              "4        17519.0       22               3          8                 1   \n",
              "...          ...      ...             ...        ...               ...   \n",
              "3132     17850.0       11               3         81                 3   \n",
              "3133     14646.0        8               3         38                 2   \n",
              "3134     14156.0        5               3         51                 3   \n",
              "3135     13694.0        0               3         81                 3   \n",
              "3136     18102.0        0               3         61                 3   \n",
              "\n",
              "       Monetary  MonetaryCluster  OverallScore     Segment  lastMonthsMonetary  \n",
              "0       2017.20                0             1   Low-Value              416.08  \n",
              "1       6798.72                0             1   Low-Value                0.00  \n",
              "2       9471.50                0             1   Low-Value                0.00  \n",
              "3       6845.16                0             4   Mid-Value            13891.06  \n",
              "4       2621.31                0             4   Mid-Value             2152.86  \n",
              "...         ...              ...           ...         ...                 ...  \n",
              "3132   36066.05                1             7  High-Value            15142.82  \n",
              "3133  132690.81                2             7  High-Value                0.00  \n",
              "3134  135980.33                2             8  High-Value                0.00  \n",
              "3135  106707.71                2             8  High-Value                0.00  \n",
              "3136  222525.28                3             9  High-Value                0.00  \n",
              "\n",
              "[3137 rows x 10 columns]"
            ]
          },
          "execution_count": 72,
          "metadata": {},
          "output_type": "execute_result"
        }
      ],
      "source": [
        "RFM_df_NEW = pd.merge(RFM_df, monetary_df_last, on='Customer ID', how='left')\n",
        "RFM_df_NEW = RFM_df_NEW.fillna(0)\n",
        "RFM_df_NEW['Customer ID']= RFM_df_NEW['Customer ID'].astype(\"object\")\n",
        "RFM_df_NEW"
      ]
    },
    {
      "cell_type": "code",
      "execution_count": null,
      "id": "df26d7d7",
      "metadata": {
        "execution": {
          "iopub.execute_input": "2022-11-14T09:03:43.042538Z",
          "iopub.status.busy": "2022-11-14T09:03:43.042150Z",
          "iopub.status.idle": "2022-11-14T09:03:43.054812Z",
          "shell.execute_reply": "2022-11-14T09:03:43.053420Z"
        },
        "id": "df26d7d7",
        "outputId": "6987c930-1207-43b7-bf2d-31b6a83f1379",
        "papermill": {
          "duration": 0.056698,
          "end_time": "2022-11-14T09:03:43.057496",
          "exception": false,
          "start_time": "2022-11-14T09:03:43.000798",
          "status": "completed"
        },
        "tags": []
      },
      "outputs": [
        {
          "name": "stdout",
          "output_type": "stream",
          "text": [
            "<class 'pandas.core.frame.DataFrame'>\n",
            "Int64Index: 3137 entries, 0 to 3136\n",
            "Data columns (total 10 columns):\n",
            " #   Column              Non-Null Count  Dtype  \n",
            "---  ------              --------------  -----  \n",
            " 0   Customer ID         3137 non-null   object \n",
            " 1   Recency             3137 non-null   int64  \n",
            " 2   RecencyCluster      3137 non-null   int64  \n",
            " 3   Frequency           3137 non-null   int64  \n",
            " 4   FrequencyCluster    3137 non-null   int64  \n",
            " 5   Monetary            3137 non-null   float64\n",
            " 6   MonetaryCluster     3137 non-null   int64  \n",
            " 7   OverallScore        3137 non-null   int64  \n",
            " 8   Segment             3137 non-null   object \n",
            " 9   lastMonthsMonetary  3137 non-null   float64\n",
            "dtypes: float64(2), int64(6), object(2)\n",
            "memory usage: 269.6+ KB\n"
          ]
        }
      ],
      "source": [
        "RFM_df_NEW.info()"
      ]
    },
    {
      "cell_type": "markdown",
      "id": "911f8b61",
      "metadata": {
        "id": "911f8b61",
        "papermill": {
          "duration": 0.039433,
          "end_time": "2022-11-14T09:03:43.137725",
          "exception": false,
          "start_time": "2022-11-14T09:03:43.098292",
          "status": "completed"
        },
        "tags": []
      },
      "source": [
        "Here, we want to create CLV segments. Because it makes it more actionable and easy to communicate with other people.\n",
        "\n",
        "By applying K-means clustering, we can identify our existing CLV groups and build segments on top of it.\n",
        "\n",
        "Considering business part of this analysis, we need to treat customers differently based on their predicted CLV.\n",
        "\n",
        "For this example, we will apply clustering and have 3 segments (number of segments really depends on your business dynamics and goals):\n",
        "\n",
        "- Low CLV\n",
        "- Mid CLV\n",
        "- High CLV\n",
        "\n",
        "We are going to apply K-means clustering to decide segments and observe their characteristics:"
      ]
    },
    {
      "cell_type": "code",
      "execution_count": null,
      "id": "b34f2200",
      "metadata": {
        "execution": {
          "iopub.execute_input": "2022-11-14T09:03:43.219884Z",
          "iopub.status.busy": "2022-11-14T09:03:43.219230Z",
          "iopub.status.idle": "2022-11-14T09:03:43.369254Z",
          "shell.execute_reply": "2022-11-14T09:03:43.368245Z"
        },
        "id": "b34f2200",
        "papermill": {
          "duration": 0.193649,
          "end_time": "2022-11-14T09:03:43.371547",
          "exception": false,
          "start_time": "2022-11-14T09:03:43.177898",
          "status": "completed"
        },
        "tags": []
      },
      "outputs": [],
      "source": [
        "#creating 3 clusters\n",
        "kmeans = KMeans(n_clusters=3)\n",
        "kmeans.fit(RFM_df_NEW[['lastMonthsMonetary']])\n",
        "RFM_df_NEW['LTVCluster'] = kmeans.predict(RFM_df_NEW[['lastMonthsMonetary']])"
      ]
    },
    {
      "cell_type": "code",
      "execution_count": null,
      "id": "97d40020",
      "metadata": {
        "execution": {
          "iopub.execute_input": "2022-11-14T09:03:43.456858Z",
          "iopub.status.busy": "2022-11-14T09:03:43.456514Z",
          "iopub.status.idle": "2022-11-14T09:03:43.481502Z",
          "shell.execute_reply": "2022-11-14T09:03:43.480764Z"
        },
        "id": "97d40020",
        "outputId": "dd39fea2-70a0-40c1-f280-f109b7e3a785",
        "papermill": {
          "duration": 0.071239,
          "end_time": "2022-11-14T09:03:43.483273",
          "exception": false,
          "start_time": "2022-11-14T09:03:43.412034",
          "status": "completed"
        },
        "tags": []
      },
      "outputs": [
        {
          "data": {
            "text/html": [
              "<div>\n",
              "<style scoped>\n",
              "    .dataframe tbody tr th:only-of-type {\n",
              "        vertical-align: middle;\n",
              "    }\n",
              "\n",
              "    .dataframe tbody tr th {\n",
              "        vertical-align: top;\n",
              "    }\n",
              "\n",
              "    .dataframe thead th {\n",
              "        text-align: right;\n",
              "    }\n",
              "</style>\n",
              "<table border=\"1\" class=\"dataframe\">\n",
              "  <thead>\n",
              "    <tr style=\"text-align: right;\">\n",
              "      <th></th>\n",
              "      <th>Customer ID</th>\n",
              "      <th>Recency</th>\n",
              "      <th>RecencyCluster</th>\n",
              "      <th>Frequency</th>\n",
              "      <th>FrequencyCluster</th>\n",
              "      <th>Monetary</th>\n",
              "      <th>MonetaryCluster</th>\n",
              "      <th>OverallScore</th>\n",
              "      <th>Segment</th>\n",
              "      <th>lastMonthsMonetary</th>\n",
              "      <th>LTVCluster</th>\n",
              "    </tr>\n",
              "  </thead>\n",
              "  <tbody>\n",
              "    <tr>\n",
              "      <th>0</th>\n",
              "      <td>13085.0</td>\n",
              "      <td>182</td>\n",
              "      <td>0</td>\n",
              "      <td>6</td>\n",
              "      <td>1</td>\n",
              "      <td>2017.20</td>\n",
              "      <td>0</td>\n",
              "      <td>1</td>\n",
              "      <td>Low-Value</td>\n",
              "      <td>416.08</td>\n",
              "      <td>0</td>\n",
              "    </tr>\n",
              "    <tr>\n",
              "      <th>1</th>\n",
              "      <td>15413.0</td>\n",
              "      <td>194</td>\n",
              "      <td>0</td>\n",
              "      <td>5</td>\n",
              "      <td>1</td>\n",
              "      <td>6798.72</td>\n",
              "      <td>0</td>\n",
              "      <td>1</td>\n",
              "      <td>Low-Value</td>\n",
              "      <td>0.00</td>\n",
              "      <td>0</td>\n",
              "    </tr>\n",
              "    <tr>\n",
              "      <th>2</th>\n",
              "      <td>14063.0</td>\n",
              "      <td>189</td>\n",
              "      <td>0</td>\n",
              "      <td>7</td>\n",
              "      <td>1</td>\n",
              "      <td>9471.50</td>\n",
              "      <td>0</td>\n",
              "      <td>1</td>\n",
              "      <td>Low-Value</td>\n",
              "      <td>0.00</td>\n",
              "      <td>0</td>\n",
              "    </tr>\n",
              "    <tr>\n",
              "      <th>3</th>\n",
              "      <td>17519.0</td>\n",
              "      <td>22</td>\n",
              "      <td>3</td>\n",
              "      <td>8</td>\n",
              "      <td>1</td>\n",
              "      <td>2621.31</td>\n",
              "      <td>0</td>\n",
              "      <td>4</td>\n",
              "      <td>Mid-Value</td>\n",
              "      <td>2152.86</td>\n",
              "      <td>0</td>\n",
              "    </tr>\n",
              "    <tr>\n",
              "      <th>4</th>\n",
              "      <td>17742.0</td>\n",
              "      <td>25</td>\n",
              "      <td>3</td>\n",
              "      <td>6</td>\n",
              "      <td>1</td>\n",
              "      <td>1240.04</td>\n",
              "      <td>0</td>\n",
              "      <td>4</td>\n",
              "      <td>Mid-Value</td>\n",
              "      <td>858.44</td>\n",
              "      <td>0</td>\n",
              "    </tr>\n",
              "    <tr>\n",
              "      <th>...</th>\n",
              "      <td>...</td>\n",
              "      <td>...</td>\n",
              "      <td>...</td>\n",
              "      <td>...</td>\n",
              "      <td>...</td>\n",
              "      <td>...</td>\n",
              "      <td>...</td>\n",
              "      <td>...</td>\n",
              "      <td>...</td>\n",
              "      <td>...</td>\n",
              "      <td>...</td>\n",
              "    </tr>\n",
              "    <tr>\n",
              "      <th>3132</th>\n",
              "      <td>18231.0</td>\n",
              "      <td>4</td>\n",
              "      <td>3</td>\n",
              "      <td>21</td>\n",
              "      <td>2</td>\n",
              "      <td>4177.55</td>\n",
              "      <td>0</td>\n",
              "      <td>5</td>\n",
              "      <td>High-Value</td>\n",
              "      <td>2670.72</td>\n",
              "      <td>1</td>\n",
              "    </tr>\n",
              "    <tr>\n",
              "      <th>3133</th>\n",
              "      <td>12647.0</td>\n",
              "      <td>7</td>\n",
              "      <td>3</td>\n",
              "      <td>17</td>\n",
              "      <td>2</td>\n",
              "      <td>8067.36</td>\n",
              "      <td>0</td>\n",
              "      <td>5</td>\n",
              "      <td>High-Value</td>\n",
              "      <td>6042.19</td>\n",
              "      <td>1</td>\n",
              "    </tr>\n",
              "    <tr>\n",
              "      <th>3134</th>\n",
              "      <td>18008.0</td>\n",
              "      <td>32</td>\n",
              "      <td>3</td>\n",
              "      <td>10</td>\n",
              "      <td>1</td>\n",
              "      <td>15110.39</td>\n",
              "      <td>1</td>\n",
              "      <td>5</td>\n",
              "      <td>High-Value</td>\n",
              "      <td>4648.69</td>\n",
              "      <td>1</td>\n",
              "    </tr>\n",
              "    <tr>\n",
              "      <th>3135</th>\n",
              "      <td>17940.0</td>\n",
              "      <td>73</td>\n",
              "      <td>2</td>\n",
              "      <td>4</td>\n",
              "      <td>0</td>\n",
              "      <td>22530.00</td>\n",
              "      <td>1</td>\n",
              "      <td>3</td>\n",
              "      <td>Mid-Value</td>\n",
              "      <td>5859.58</td>\n",
              "      <td>1</td>\n",
              "    </tr>\n",
              "    <tr>\n",
              "      <th>3136</th>\n",
              "      <td>17920.0</td>\n",
              "      <td>1</td>\n",
              "      <td>3</td>\n",
              "      <td>31</td>\n",
              "      <td>2</td>\n",
              "      <td>18099.79</td>\n",
              "      <td>1</td>\n",
              "      <td>6</td>\n",
              "      <td>High-Value</td>\n",
              "      <td>5470.09</td>\n",
              "      <td>1</td>\n",
              "    </tr>\n",
              "  </tbody>\n",
              "</table>\n",
              "<p>3137 rows × 11 columns</p>\n",
              "</div>"
            ],
            "text/plain": [
              "     Customer ID  Recency  RecencyCluster  Frequency  FrequencyCluster  \\\n",
              "0        13085.0      182               0          6                 1   \n",
              "1        15413.0      194               0          5                 1   \n",
              "2        14063.0      189               0          7                 1   \n",
              "3        17519.0       22               3          8                 1   \n",
              "4        17742.0       25               3          6                 1   \n",
              "...          ...      ...             ...        ...               ...   \n",
              "3132     18231.0        4               3         21                 2   \n",
              "3133     12647.0        7               3         17                 2   \n",
              "3134     18008.0       32               3         10                 1   \n",
              "3135     17940.0       73               2          4                 0   \n",
              "3136     17920.0        1               3         31                 2   \n",
              "\n",
              "      Monetary  MonetaryCluster  OverallScore     Segment  lastMonthsMonetary  \\\n",
              "0      2017.20                0             1   Low-Value              416.08   \n",
              "1      6798.72                0             1   Low-Value                0.00   \n",
              "2      9471.50                0             1   Low-Value                0.00   \n",
              "3      2621.31                0             4   Mid-Value             2152.86   \n",
              "4      1240.04                0             4   Mid-Value              858.44   \n",
              "...        ...              ...           ...         ...                 ...   \n",
              "3132   4177.55                0             5  High-Value             2670.72   \n",
              "3133   8067.36                0             5  High-Value             6042.19   \n",
              "3134  15110.39                1             5  High-Value             4648.69   \n",
              "3135  22530.00                1             3   Mid-Value             5859.58   \n",
              "3136  18099.79                1             6  High-Value             5470.09   \n",
              "\n",
              "      LTVCluster  \n",
              "0              0  \n",
              "1              0  \n",
              "2              0  \n",
              "3              0  \n",
              "4              0  \n",
              "...          ...  \n",
              "3132           1  \n",
              "3133           1  \n",
              "3134           1  \n",
              "3135           1  \n",
              "3136           1  \n",
              "\n",
              "[3137 rows x 11 columns]"
            ]
          },
          "execution_count": 75,
          "metadata": {},
          "output_type": "execute_result"
        }
      ],
      "source": [
        "RFM_df_NEW = order_cluster('LTVCluster', 'lastMonthsMonetary', RFM_df_NEW, True)\n",
        "RFM_df_NEW"
      ]
    },
    {
      "cell_type": "code",
      "execution_count": null,
      "id": "90329ce0",
      "metadata": {
        "execution": {
          "iopub.execute_input": "2022-11-14T09:03:43.565202Z",
          "iopub.status.busy": "2022-11-14T09:03:43.564602Z",
          "iopub.status.idle": "2022-11-14T09:03:43.585668Z",
          "shell.execute_reply": "2022-11-14T09:03:43.584353Z"
        },
        "id": "90329ce0",
        "outputId": "8c06df25-35d2-40a9-e2bf-7c02dea52af3",
        "papermill": {
          "duration": 0.064553,
          "end_time": "2022-11-14T09:03:43.587977",
          "exception": false,
          "start_time": "2022-11-14T09:03:43.523424",
          "status": "completed"
        },
        "tags": []
      },
      "outputs": [
        {
          "data": {
            "text/html": [
              "<div>\n",
              "<style scoped>\n",
              "    .dataframe tbody tr th:only-of-type {\n",
              "        vertical-align: middle;\n",
              "    }\n",
              "\n",
              "    .dataframe tbody tr th {\n",
              "        vertical-align: top;\n",
              "    }\n",
              "\n",
              "    .dataframe thead th {\n",
              "        text-align: right;\n",
              "    }\n",
              "</style>\n",
              "<table border=\"1\" class=\"dataframe\">\n",
              "  <thead>\n",
              "    <tr style=\"text-align: right;\">\n",
              "      <th></th>\n",
              "      <th>count</th>\n",
              "      <th>mean</th>\n",
              "      <th>std</th>\n",
              "      <th>min</th>\n",
              "      <th>25%</th>\n",
              "      <th>50%</th>\n",
              "      <th>75%</th>\n",
              "      <th>max</th>\n",
              "    </tr>\n",
              "    <tr>\n",
              "      <th>LTVCluster</th>\n",
              "      <th></th>\n",
              "      <th></th>\n",
              "      <th></th>\n",
              "      <th></th>\n",
              "      <th></th>\n",
              "      <th></th>\n",
              "      <th></th>\n",
              "      <th></th>\n",
              "    </tr>\n",
              "  </thead>\n",
              "  <tbody>\n",
              "    <tr>\n",
              "      <th>0</th>\n",
              "      <td>2467.0</td>\n",
              "      <td>644.062793</td>\n",
              "      <td>709.641174</td>\n",
              "      <td>0.00</td>\n",
              "      <td>0.0000</td>\n",
              "      <td>395.950</td>\n",
              "      <td>1051.9050</td>\n",
              "      <td>2610.17</td>\n",
              "    </tr>\n",
              "    <tr>\n",
              "      <th>1</th>\n",
              "      <td>544.0</td>\n",
              "      <td>4576.775129</td>\n",
              "      <td>1589.190147</td>\n",
              "      <td>2625.62</td>\n",
              "      <td>3222.9575</td>\n",
              "      <td>4079.940</td>\n",
              "      <td>5615.3200</td>\n",
              "      <td>8548.72</td>\n",
              "    </tr>\n",
              "    <tr>\n",
              "      <th>2</th>\n",
              "      <td>126.0</td>\n",
              "      <td>12686.642063</td>\n",
              "      <td>3365.669323</td>\n",
              "      <td>8747.39</td>\n",
              "      <td>9858.1050</td>\n",
              "      <td>11778.785</td>\n",
              "      <td>14804.8575</td>\n",
              "      <td>23068.77</td>\n",
              "    </tr>\n",
              "  </tbody>\n",
              "</table>\n",
              "</div>"
            ],
            "text/plain": [
              "             count          mean          std      min        25%        50%  \\\n",
              "LTVCluster                                                                     \n",
              "0           2467.0    644.062793   709.641174     0.00     0.0000    395.950   \n",
              "1            544.0   4576.775129  1589.190147  2625.62  3222.9575   4079.940   \n",
              "2            126.0  12686.642063  3365.669323  8747.39  9858.1050  11778.785   \n",
              "\n",
              "                   75%       max  \n",
              "LTVCluster                        \n",
              "0            1051.9050   2610.17  \n",
              "1            5615.3200   8548.72  \n",
              "2           14804.8575  23068.77  "
            ]
          },
          "execution_count": 76,
          "metadata": {},
          "output_type": "execute_result"
        }
      ],
      "source": [
        "#creating a new cluster dataframe\n",
        "df_LTVCluster = RFM_df_NEW.copy()\n",
        "df_LTVCluster.groupby('LTVCluster')['lastMonthsMonetary'].describe()"
      ]
    },
    {
      "cell_type": "markdown",
      "id": "51c38ef5",
      "metadata": {
        "id": "51c38ef5",
        "papermill": {
          "duration": 0.040281,
          "end_time": "2022-11-14T09:03:43.668505",
          "exception": false,
          "start_time": "2022-11-14T09:03:43.628224",
          "status": "completed"
        },
        "tags": []
      },
      "source": [
        "We have finished CLV clustering.\n",
        "\n",
        "2 is the best with average 12686 CLV whereas 0 is the worst with 644."
      ]
    },
    {
      "cell_type": "markdown",
      "id": "57dc21c5",
      "metadata": {
        "id": "57dc21c5",
        "papermill": {
          "duration": 0.03989,
          "end_time": "2022-11-14T09:03:43.748836",
          "exception": false,
          "start_time": "2022-11-14T09:03:43.708946",
          "status": "completed"
        },
        "tags": []
      },
      "source": [
        "# <p style=\"background-color:#C71585;font-family:Georgia;color:white;text-align:left;border-radius:20px 20px;\"><b>Building Machine Learning Model</b></p>\n"
      ]
    },
    {
      "cell_type": "markdown",
      "id": "2a118262",
      "metadata": {
        "id": "2a118262",
        "papermill": {
          "duration": 0.040059,
          "end_time": "2022-11-14T09:03:43.828861",
          "exception": false,
          "start_time": "2022-11-14T09:03:43.788802",
          "status": "completed"
        },
        "tags": []
      },
      "source": [
        "We will start to build ML model. Now, we should perform some steps (some feature engineering, split data, etc.)"
      ]
    },
    {
      "cell_type": "code",
      "execution_count": null,
      "id": "80e29814",
      "metadata": {
        "execution": {
          "iopub.execute_input": "2022-11-14T09:03:43.913067Z",
          "iopub.status.busy": "2022-11-14T09:03:43.912626Z",
          "iopub.status.idle": "2022-11-14T09:03:43.918563Z",
          "shell.execute_reply": "2022-11-14T09:03:43.917427Z"
        },
        "id": "80e29814",
        "papermill": {
          "duration": 0.052683,
          "end_time": "2022-11-14T09:03:43.921433",
          "exception": false,
          "start_time": "2022-11-14T09:03:43.868750",
          "status": "completed"
        },
        "tags": []
      },
      "outputs": [],
      "source": [
        "df_ML= df_LTVCluster.copy()"
      ]
    },
    {
      "cell_type": "code",
      "execution_count": null,
      "id": "02978d0a",
      "metadata": {
        "execution": {
          "iopub.execute_input": "2022-11-14T09:03:44.007882Z",
          "iopub.status.busy": "2022-11-14T09:03:44.006436Z",
          "iopub.status.idle": "2022-11-14T09:03:44.022665Z",
          "shell.execute_reply": "2022-11-14T09:03:44.021265Z"
        },
        "id": "02978d0a",
        "outputId": "a08a778f-1aec-46b7-992c-c60be5d9dce2",
        "papermill": {
          "duration": 0.061168,
          "end_time": "2022-11-14T09:03:44.024617",
          "exception": false,
          "start_time": "2022-11-14T09:03:43.963449",
          "status": "completed"
        },
        "tags": []
      },
      "outputs": [
        {
          "name": "stdout",
          "output_type": "stream",
          "text": [
            "<class 'pandas.core.frame.DataFrame'>\n",
            "Int64Index: 3137 entries, 0 to 3136\n",
            "Data columns (total 11 columns):\n",
            " #   Column              Non-Null Count  Dtype  \n",
            "---  ------              --------------  -----  \n",
            " 0   Customer ID         3137 non-null   object \n",
            " 1   Recency             3137 non-null   int64  \n",
            " 2   RecencyCluster      3137 non-null   int64  \n",
            " 3   Frequency           3137 non-null   int64  \n",
            " 4   FrequencyCluster    3137 non-null   int64  \n",
            " 5   Monetary            3137 non-null   float64\n",
            " 6   MonetaryCluster     3137 non-null   int64  \n",
            " 7   OverallScore        3137 non-null   int64  \n",
            " 8   Segment             3137 non-null   object \n",
            " 9   lastMonthsMonetary  3137 non-null   float64\n",
            " 10  LTVCluster          3137 non-null   int64  \n",
            "dtypes: float64(2), int64(7), object(2)\n",
            "memory usage: 294.1+ KB\n"
          ]
        }
      ],
      "source": [
        "df_ML.info()"
      ]
    },
    {
      "cell_type": "markdown",
      "id": "a63f08e8",
      "metadata": {
        "id": "a63f08e8",
        "papermill": {
          "duration": 0.039946,
          "end_time": "2022-11-14T09:03:44.105245",
          "exception": false,
          "start_time": "2022-11-14T09:03:44.065299",
          "status": "completed"
        },
        "tags": []
      },
      "source": [
        "lets convert columns which we thought to be categorical column into a categorical column:"
      ]
    },
    {
      "cell_type": "code",
      "execution_count": null,
      "id": "cc6ff62e",
      "metadata": {
        "execution": {
          "iopub.execute_input": "2022-11-14T09:03:44.190461Z",
          "iopub.status.busy": "2022-11-14T09:03:44.188840Z",
          "iopub.status.idle": "2022-11-14T09:03:44.198609Z",
          "shell.execute_reply": "2022-11-14T09:03:44.197192Z"
        },
        "id": "cc6ff62e",
        "papermill": {
          "duration": 0.054417,
          "end_time": "2022-11-14T09:03:44.201086",
          "exception": false,
          "start_time": "2022-11-14T09:03:44.146669",
          "status": "completed"
        },
        "tags": []
      },
      "outputs": [],
      "source": [
        "for i in [\"Customer ID\",\"RecencyCluster\",\"FrequencyCluster\", \"MonetaryCluster\", \"Segment\", \"LTVCluster\"]:\n",
        "    df_ML[i]= df_ML[i].astype('object')"
      ]
    },
    {
      "cell_type": "markdown",
      "id": "330e71f0",
      "metadata": {
        "id": "330e71f0",
        "papermill": {
          "duration": 0.04072,
          "end_time": "2022-11-14T09:03:44.283933",
          "exception": false,
          "start_time": "2022-11-14T09:03:44.243213",
          "status": "completed"
        },
        "tags": []
      },
      "source": [
        "Numerical columns:"
      ]
    },
    {
      "cell_type": "code",
      "execution_count": null,
      "id": "8a25158c",
      "metadata": {
        "execution": {
          "iopub.execute_input": "2022-11-14T09:03:44.370006Z",
          "iopub.status.busy": "2022-11-14T09:03:44.369501Z",
          "iopub.status.idle": "2022-11-14T09:03:44.378814Z",
          "shell.execute_reply": "2022-11-14T09:03:44.377817Z"
        },
        "id": "8a25158c",
        "outputId": "2af5a525-2ca9-45ca-8474-fc0e65171e52",
        "papermill": {
          "duration": 0.055181,
          "end_time": "2022-11-14T09:03:44.380694",
          "exception": false,
          "start_time": "2022-11-14T09:03:44.325513",
          "status": "completed"
        },
        "tags": []
      },
      "outputs": [
        {
          "data": {
            "text/plain": [
              "['Recency', 'Frequency', 'Monetary', 'OverallScore', 'lastMonthsMonetary']"
            ]
          },
          "execution_count": 80,
          "metadata": {},
          "output_type": "execute_result"
        }
      ],
      "source": [
        "Num= df_ML.select_dtypes(exclude='object').columns.tolist()\n",
        "Num"
      ]
    },
    {
      "cell_type": "markdown",
      "id": "e7ea64be",
      "metadata": {
        "id": "e7ea64be",
        "papermill": {
          "duration": 0.042607,
          "end_time": "2022-11-14T09:03:44.463428",
          "exception": false,
          "start_time": "2022-11-14T09:03:44.420821",
          "status": "completed"
        },
        "tags": []
      },
      "source": [
        "Let's apply StandardScaler for numerical columns:"
      ]
    },
    {
      "cell_type": "code",
      "execution_count": null,
      "id": "068b21db",
      "metadata": {
        "execution": {
          "iopub.execute_input": "2022-11-14T09:03:44.547316Z",
          "iopub.status.busy": "2022-11-14T09:03:44.546918Z",
          "iopub.status.idle": "2022-11-14T09:03:44.570052Z",
          "shell.execute_reply": "2022-11-14T09:03:44.568286Z"
        },
        "id": "068b21db",
        "papermill": {
          "duration": 0.068375,
          "end_time": "2022-11-14T09:03:44.573015",
          "exception": false,
          "start_time": "2022-11-14T09:03:44.504640",
          "status": "completed"
        },
        "tags": []
      },
      "outputs": [],
      "source": [
        "from sklearn.preprocessing import StandardScaler\n",
        "scalerNum= StandardScaler()\n",
        "\n",
        "for cols in Num:\n",
        "    df_ML[cols] = scalerNum.fit_transform(df_ML[[cols]])"
      ]
    },
    {
      "cell_type": "markdown",
      "id": "19dff905",
      "metadata": {
        "id": "19dff905",
        "papermill": {
          "duration": 0.041068,
          "end_time": "2022-11-14T09:03:44.655128",
          "exception": false,
          "start_time": "2022-11-14T09:03:44.614060",
          "status": "completed"
        },
        "tags": []
      },
      "source": [
        "Categorical columns:"
      ]
    },
    {
      "cell_type": "code",
      "execution_count": null,
      "id": "9f1d1a41",
      "metadata": {
        "execution": {
          "iopub.execute_input": "2022-11-14T09:03:44.739612Z",
          "iopub.status.busy": "2022-11-14T09:03:44.738366Z",
          "iopub.status.idle": "2022-11-14T09:03:44.747456Z",
          "shell.execute_reply": "2022-11-14T09:03:44.746653Z"
        },
        "id": "9f1d1a41",
        "outputId": "09f82067-c579-4166-a932-673b31eb16f4",
        "papermill": {
          "duration": 0.052647,
          "end_time": "2022-11-14T09:03:44.749358",
          "exception": false,
          "start_time": "2022-11-14T09:03:44.696711",
          "status": "completed"
        },
        "tags": []
      },
      "outputs": [
        {
          "data": {
            "text/plain": [
              "['Customer ID',\n",
              " 'RecencyCluster',\n",
              " 'FrequencyCluster',\n",
              " 'MonetaryCluster',\n",
              " 'Segment',\n",
              " 'LTVCluster']"
            ]
          },
          "execution_count": 82,
          "metadata": {},
          "output_type": "execute_result"
        }
      ],
      "source": [
        "Cat= df_ML.select_dtypes(include='object').columns.tolist()\n",
        "Cat"
      ]
    },
    {
      "cell_type": "markdown",
      "id": "e1a67aa9",
      "metadata": {
        "id": "e1a67aa9",
        "papermill": {
          "duration": 0.040609,
          "end_time": "2022-11-14T09:03:44.831630",
          "exception": false,
          "start_time": "2022-11-14T09:03:44.791021",
          "status": "completed"
        },
        "tags": []
      },
      "source": [
        "Convert categorical columns to numerical by using LabelEncoder:"
      ]
    },
    {
      "cell_type": "code",
      "execution_count": null,
      "id": "502f0291",
      "metadata": {
        "execution": {
          "iopub.execute_input": "2022-11-14T09:03:44.914577Z",
          "iopub.status.busy": "2022-11-14T09:03:44.914100Z",
          "iopub.status.idle": "2022-11-14T09:03:44.941806Z",
          "shell.execute_reply": "2022-11-14T09:03:44.940988Z"
        },
        "id": "502f0291",
        "outputId": "19df0f69-4d53-4223-e503-b3d4b877f0ce",
        "papermill": {
          "duration": 0.071701,
          "end_time": "2022-11-14T09:03:44.943611",
          "exception": false,
          "start_time": "2022-11-14T09:03:44.871910",
          "status": "completed"
        },
        "scrolled": true,
        "tags": []
      },
      "outputs": [
        {
          "data": {
            "text/html": [
              "<div>\n",
              "<style scoped>\n",
              "    .dataframe tbody tr th:only-of-type {\n",
              "        vertical-align: middle;\n",
              "    }\n",
              "\n",
              "    .dataframe tbody tr th {\n",
              "        vertical-align: top;\n",
              "    }\n",
              "\n",
              "    .dataframe thead th {\n",
              "        text-align: right;\n",
              "    }\n",
              "</style>\n",
              "<table border=\"1\" class=\"dataframe\">\n",
              "  <thead>\n",
              "    <tr style=\"text-align: right;\">\n",
              "      <th></th>\n",
              "      <th>Customer ID</th>\n",
              "      <th>Recency</th>\n",
              "      <th>RecencyCluster</th>\n",
              "      <th>Frequency</th>\n",
              "      <th>FrequencyCluster</th>\n",
              "      <th>Monetary</th>\n",
              "      <th>MonetaryCluster</th>\n",
              "      <th>OverallScore</th>\n",
              "      <th>Segment</th>\n",
              "      <th>lastMonthsMonetary</th>\n",
              "      <th>LTVCluster</th>\n",
              "    </tr>\n",
              "  </thead>\n",
              "  <tbody>\n",
              "    <tr>\n",
              "      <th>0</th>\n",
              "      <td>350</td>\n",
              "      <td>1.575357</td>\n",
              "      <td>0</td>\n",
              "      <td>0.483320</td>\n",
              "      <td>1</td>\n",
              "      <td>0.078294</td>\n",
              "      <td>0</td>\n",
              "      <td>-0.941655</td>\n",
              "      <td>1</td>\n",
              "      <td>-0.479931</td>\n",
              "      <td>0</td>\n",
              "    </tr>\n",
              "    <tr>\n",
              "      <th>1</th>\n",
              "      <td>1598</td>\n",
              "      <td>1.757235</td>\n",
              "      <td>0</td>\n",
              "      <td>0.299341</td>\n",
              "      <td>1</td>\n",
              "      <td>0.830381</td>\n",
              "      <td>0</td>\n",
              "      <td>-0.941655</td>\n",
              "      <td>1</td>\n",
              "      <td>-0.623214</td>\n",
              "      <td>0</td>\n",
              "    </tr>\n",
              "    <tr>\n",
              "      <th>2</th>\n",
              "      <td>872</td>\n",
              "      <td>1.681452</td>\n",
              "      <td>0</td>\n",
              "      <td>0.667300</td>\n",
              "      <td>1</td>\n",
              "      <td>1.250784</td>\n",
              "      <td>0</td>\n",
              "      <td>-0.941655</td>\n",
              "      <td>1</td>\n",
              "      <td>-0.623214</td>\n",
              "      <td>0</td>\n",
              "    </tr>\n",
              "    <tr>\n",
              "      <th>3</th>\n",
              "      <td>2728</td>\n",
              "      <td>-0.849689</td>\n",
              "      <td>3</td>\n",
              "      <td>0.851280</td>\n",
              "      <td>1</td>\n",
              "      <td>0.173315</td>\n",
              "      <td>0</td>\n",
              "      <td>1.359544</td>\n",
              "      <td>2</td>\n",
              "      <td>0.118155</td>\n",
              "      <td>0</td>\n",
              "    </tr>\n",
              "    <tr>\n",
              "      <th>4</th>\n",
              "      <td>2850</td>\n",
              "      <td>-0.804219</td>\n",
              "      <td>3</td>\n",
              "      <td>0.483320</td>\n",
              "      <td>1</td>\n",
              "      <td>-0.043946</td>\n",
              "      <td>0</td>\n",
              "      <td>1.359544</td>\n",
              "      <td>2</td>\n",
              "      <td>-0.327597</td>\n",
              "      <td>0</td>\n",
              "    </tr>\n",
              "  </tbody>\n",
              "</table>\n",
              "</div>"
            ],
            "text/plain": [
              "   Customer ID   Recency  RecencyCluster  Frequency  FrequencyCluster  \\\n",
              "0          350  1.575357               0   0.483320                 1   \n",
              "1         1598  1.757235               0   0.299341                 1   \n",
              "2          872  1.681452               0   0.667300                 1   \n",
              "3         2728 -0.849689               3   0.851280                 1   \n",
              "4         2850 -0.804219               3   0.483320                 1   \n",
              "\n",
              "   Monetary  MonetaryCluster  OverallScore  Segment  lastMonthsMonetary  \\\n",
              "0  0.078294                0     -0.941655        1           -0.479931   \n",
              "1  0.830381                0     -0.941655        1           -0.623214   \n",
              "2  1.250784                0     -0.941655        1           -0.623214   \n",
              "3  0.173315                0      1.359544        2            0.118155   \n",
              "4 -0.043946                0      1.359544        2           -0.327597   \n",
              "\n",
              "   LTVCluster  \n",
              "0           0  \n",
              "1           0  \n",
              "2           0  \n",
              "3           0  \n",
              "4           0  "
            ]
          },
          "execution_count": 83,
          "metadata": {},
          "output_type": "execute_result"
        }
      ],
      "source": [
        "from sklearn.preprocessing import LabelEncoder\n",
        "df_ML = df_ML.apply(lambda x: LabelEncoder().fit_transform(x) if x.dtype == 'object' else x)\n",
        "df_ML.head()"
      ]
    },
    {
      "cell_type": "markdown",
      "id": "297d8d9c",
      "metadata": {
        "id": "297d8d9c",
        "papermill": {
          "duration": 0.041796,
          "end_time": "2022-11-14T09:03:45.026319",
          "exception": false,
          "start_time": "2022-11-14T09:03:44.984523",
          "status": "completed"
        },
        "tags": []
      },
      "source": [
        "Create X and y, X will be feature set and y is the label - CLV:"
      ]
    },
    {
      "cell_type": "code",
      "execution_count": null,
      "id": "88119270",
      "metadata": {
        "execution": {
          "iopub.execute_input": "2022-11-14T09:03:45.114919Z",
          "iopub.status.busy": "2022-11-14T09:03:45.114170Z",
          "iopub.status.idle": "2022-11-14T09:03:45.120262Z",
          "shell.execute_reply": "2022-11-14T09:03:45.119470Z"
        },
        "id": "88119270",
        "papermill": {
          "duration": 0.053386,
          "end_time": "2022-11-14T09:03:45.122378",
          "exception": false,
          "start_time": "2022-11-14T09:03:45.068992",
          "status": "completed"
        },
        "tags": []
      },
      "outputs": [],
      "source": [
        "X = df_ML.drop(['LTVCluster','lastMonthsMonetary'], axis=1)\n",
        "y = df_ML['LTVCluster']"
      ]
    },
    {
      "cell_type": "markdown",
      "id": "a23c44a0",
      "metadata": {
        "id": "a23c44a0",
        "papermill": {
          "duration": 0.041329,
          "end_time": "2022-11-14T09:03:45.206511",
          "exception": false,
          "start_time": "2022-11-14T09:03:45.165182",
          "status": "completed"
        },
        "tags": []
      },
      "source": [
        "split training and test sets"
      ]
    },
    {
      "cell_type": "code",
      "execution_count": null,
      "id": "37633647",
      "metadata": {
        "execution": {
          "iopub.execute_input": "2022-11-14T09:03:45.290814Z",
          "iopub.status.busy": "2022-11-14T09:03:45.290348Z",
          "iopub.status.idle": "2022-11-14T09:03:45.297409Z",
          "shell.execute_reply": "2022-11-14T09:03:45.295907Z"
        },
        "id": "37633647",
        "papermill": {
          "duration": 0.051777,
          "end_time": "2022-11-14T09:03:45.299511",
          "exception": false,
          "start_time": "2022-11-14T09:03:45.247734",
          "status": "completed"
        },
        "tags": []
      },
      "outputs": [],
      "source": [
        "from sklearn.model_selection import KFold, cross_val_score, train_test_split\n",
        "\n",
        "X_train, X_test, y_train, y_test = train_test_split(X, y, test_size=0.33, random_state=0)"
      ]
    },
    {
      "cell_type": "code",
      "execution_count": null,
      "id": "7a9f6fd3",
      "metadata": {
        "execution": {
          "iopub.execute_input": "2022-11-14T09:03:45.385632Z",
          "iopub.status.busy": "2022-11-14T09:03:45.384795Z",
          "iopub.status.idle": "2022-11-14T09:03:45.582724Z",
          "shell.execute_reply": "2022-11-14T09:03:45.581325Z"
        },
        "id": "7a9f6fd3",
        "papermill": {
          "duration": 0.243974,
          "end_time": "2022-11-14T09:03:45.585725",
          "exception": false,
          "start_time": "2022-11-14T09:03:45.341751",
          "status": "completed"
        },
        "tags": []
      },
      "outputs": [],
      "source": [
        "from sklearn.neighbors import KNeighborsClassifier\n",
        "from sklearn.linear_model import LogisticRegression\n",
        "from sklearn.svm import SVC\n",
        "from sklearn.ensemble import RandomForestClassifier\n",
        "from sklearn.ensemble import GradientBoostingClassifier\n",
        "import xgboost as xgb"
      ]
    },
    {
      "cell_type": "code",
      "execution_count": null,
      "id": "00edcf13",
      "metadata": {
        "execution": {
          "iopub.execute_input": "2022-11-14T09:03:45.672430Z",
          "iopub.status.busy": "2022-11-14T09:03:45.672067Z",
          "iopub.status.idle": "2022-11-14T09:03:45.676986Z",
          "shell.execute_reply": "2022-11-14T09:03:45.675980Z"
        },
        "id": "00edcf13",
        "papermill": {
          "duration": 0.049698,
          "end_time": "2022-11-14T09:03:45.678702",
          "exception": false,
          "start_time": "2022-11-14T09:03:45.629004",
          "status": "completed"
        },
        "tags": []
      },
      "outputs": [],
      "source": [
        "models = {\n",
        "    'K-Nearest Neighbors' : KNeighborsClassifier(),\n",
        "    'Logistic Regression' : LogisticRegression(),\n",
        "    'Random Forest' : RandomForestClassifier(),\n",
        "    'Gradient Boosting' : GradientBoostingClassifier(),\n",
        "    'XG Boosting' : xgb.XGBClassifier()\n",
        "}"
      ]
    },
    {
      "cell_type": "code",
      "execution_count": null,
      "id": "2ce14895",
      "metadata": {
        "execution": {
          "iopub.execute_input": "2022-11-14T09:03:45.762624Z",
          "iopub.status.busy": "2022-11-14T09:03:45.762305Z",
          "iopub.status.idle": "2022-11-14T09:03:47.647735Z",
          "shell.execute_reply": "2022-11-14T09:03:47.646573Z"
        },
        "id": "2ce14895",
        "outputId": "cda2306a-eef8-4ed8-cc44-60edd4e83a59",
        "papermill": {
          "duration": 1.930969,
          "end_time": "2022-11-14T09:03:47.651207",
          "exception": false,
          "start_time": "2022-11-14T09:03:45.720238",
          "status": "completed"
        },
        "tags": []
      },
      "outputs": [
        {
          "name": "stdout",
          "output_type": "stream",
          "text": [
            "K-Nearest Neighbors training started\n",
            "K-Nearest Neighbors trained\n",
            "****************************************\n",
            "Logistic Regression training started\n",
            "Logistic Regression trained\n",
            "****************************************\n",
            "Random Forest training started\n",
            "Random Forest trained\n",
            "****************************************\n",
            "Gradient Boosting training started\n",
            "Gradient Boosting trained\n",
            "****************************************\n",
            "XG Boosting training started\n",
            "XG Boosting trained\n",
            "****************************************\n",
            "FINISHED\n",
            "CPU times: user 3.41 s, sys: 32 ms, total: 3.44 s\n",
            "Wall time: 1.88 s\n"
          ]
        }
      ],
      "source": [
        "%%time\n",
        "for name, model in models.items():\n",
        "    print(f'{name} training started')\n",
        "    model.fit(X_train, y_train)\n",
        "    print(f'{name} trained')\n",
        "    print(\"*\"*40)\n",
        "print(\"FINISHED\")"
      ]
    },
    {
      "cell_type": "code",
      "execution_count": null,
      "id": "870e9a71",
      "metadata": {
        "execution": {
          "iopub.execute_input": "2022-11-14T09:03:47.742743Z",
          "iopub.status.busy": "2022-11-14T09:03:47.742029Z",
          "iopub.status.idle": "2022-11-14T09:03:47.833091Z",
          "shell.execute_reply": "2022-11-14T09:03:47.831681Z"
        },
        "id": "870e9a71",
        "papermill": {
          "duration": 0.139542,
          "end_time": "2022-11-14T09:03:47.835490",
          "exception": false,
          "start_time": "2022-11-14T09:03:47.695948",
          "status": "completed"
        },
        "tags": []
      },
      "outputs": [],
      "source": [
        "from sklearn.metrics import accuracy_score\n",
        "from sklearn.metrics import confusion_matrix as CM\n",
        "from sklearn.metrics import classification_report\n",
        "\n",
        "from sklearn.metrics import roc_curve\n",
        "from sklearn.metrics import roc_auc_score\n",
        "from sklearn.datasets import make_classification"
      ]
    },
    {
      "cell_type": "code",
      "execution_count": null,
      "id": "954c903e",
      "metadata": {
        "execution": {
          "iopub.execute_input": "2022-11-14T09:03:47.923081Z",
          "iopub.status.busy": "2022-11-14T09:03:47.922686Z",
          "iopub.status.idle": "2022-11-14T09:03:47.997382Z",
          "shell.execute_reply": "2022-11-14T09:03:47.996576Z"
        },
        "id": "954c903e",
        "outputId": "b29e51df-b7bc-4fe5-9d9d-1e0e9b546ec8",
        "papermill": {
          "duration": 0.121018,
          "end_time": "2022-11-14T09:03:47.999559",
          "exception": false,
          "start_time": "2022-11-14T09:03:47.878541",
          "status": "completed"
        },
        "scrolled": true,
        "tags": []
      },
      "outputs": [
        {
          "name": "stdout",
          "output_type": "stream",
          "text": [
            "K-Nearest Neighbors accuracy score :  0.769\n",
            "Logistic Regression accuracy score :  0.784\n",
            "Random Forest accuracy score :  0.804\n",
            "Gradient Boosting accuracy score :  0.811\n",
            "XG Boosting accuracy score :  0.794\n"
          ]
        }
      ],
      "source": [
        "for name in models:\n",
        "    acc_score= round(accuracy_score(y_test, models.get(name).predict(X_test)), 3)\n",
        "    print(f'{name} accuracy score :  {acc_score}')"
      ]
    },
    {
      "cell_type": "markdown",
      "id": "e30643b5",
      "metadata": {
        "id": "e30643b5",
        "papermill": {
          "duration": 0.04213,
          "end_time": "2022-11-14T09:03:48.085717",
          "exception": false,
          "start_time": "2022-11-14T09:03:48.043587",
          "status": "completed"
        },
        "tags": []
      },
      "source": [
        "Best accuracy shows 82% on the test set. Looks really good. Or does it?"
      ]
    },
    {
      "cell_type": "code",
      "execution_count": null,
      "id": "8d854ce0",
      "metadata": {
        "execution": {
          "iopub.execute_input": "2022-11-14T09:03:48.171918Z",
          "iopub.status.busy": "2022-11-14T09:03:48.171574Z",
          "iopub.status.idle": "2022-11-14T09:03:48.315551Z",
          "shell.execute_reply": "2022-11-14T09:03:48.314586Z"
        },
        "id": "8d854ce0",
        "outputId": "ef45dc4e-2f45-439c-9d41-5bf88f1aebfd",
        "papermill": {
          "duration": 0.189939,
          "end_time": "2022-11-14T09:03:48.317655",
          "exception": false,
          "start_time": "2022-11-14T09:03:48.127716",
          "status": "completed"
        },
        "tags": []
      },
      "outputs": [
        {
          "data": {
            "image/png": "[encoded data removed]",
            "text/plain": [
              "<Figure size 432x288 with 1 Axes>"
            ]
          },
          "metadata": {},
          "output_type": "display_data"
        }
      ],
      "source": [
        "labels= df_LTVCluster.groupby('LTVCluster')['lastMonthsMonetary'].describe().index\n",
        "colors=['c', 'm', 'g']\n",
        "sizes= df_LTVCluster.groupby('LTVCluster')['lastMonthsMonetary'].describe()[\"count\"]\n",
        "LTVCluster_Pie= plt.pie(sizes,labels=labels, colors=colors, startangle=90, autopct='%1.1f%%')\n",
        "plt.axis('equal')\n",
        "plt.show()"
      ]
    },
    {
      "cell_type": "markdown",
      "id": "d8f47d47",
      "metadata": {
        "id": "d8f47d47",
        "papermill": {
          "duration": 0.053523,
          "end_time": "2022-11-14T09:03:48.429016",
          "exception": false,
          "start_time": "2022-11-14T09:03:48.375493",
          "status": "completed"
        },
        "tags": []
      },
      "source": [
        "Biggest cluster we have is cluster 0 which is 78.6% of the total base. If we blindly say, every customer belongs to cluster 0, then our accuracy would be 78.6%.\n",
        "\n",
        "82% vs 78.6% tell us that our machine learning model is a useful one but needs some improvement for sure. We should find out where the model is failing.\n",
        "\n",
        "We can identify that by looking at classification report:"
      ]
    },
    {
      "cell_type": "code",
      "execution_count": null,
      "id": "3705061c",
      "metadata": {
        "execution": {
          "iopub.execute_input": "2022-11-14T09:03:48.519570Z",
          "iopub.status.busy": "2022-11-14T09:03:48.519191Z",
          "iopub.status.idle": "2022-11-14T09:03:48.613123Z",
          "shell.execute_reply": "2022-11-14T09:03:48.611507Z"
        },
        "id": "3705061c",
        "outputId": "74da0bd3-aac2-4772-b296-1b7b3a8450a6",
        "papermill": {
          "duration": 0.142576,
          "end_time": "2022-11-14T09:03:48.616449",
          "exception": false,
          "start_time": "2022-11-14T09:03:48.473873",
          "status": "completed"
        },
        "tags": []
      },
      "outputs": [
        {
          "name": "stdout",
          "output_type": "stream",
          "text": [
            "K-Nearest Neighbors classification report\n",
            "-------------------------------\n",
            "              precision    recall  f1-score   support\n",
            "\n",
            "           0       0.80      0.96      0.87       819\n",
            "           1       0.25      0.07      0.11       171\n",
            "           2       0.00      0.00      0.00        46\n",
            "\n",
            "    accuracy                           0.77      1036\n",
            "   macro avg       0.35      0.34      0.33      1036\n",
            "weighted avg       0.67      0.77      0.71      1036\n",
            "\n",
            "******************************\n",
            " \n",
            "Logistic Regression classification report\n",
            "-------------------------------\n",
            "              precision    recall  f1-score   support\n",
            "\n",
            "           0       0.81      0.97      0.88       819\n",
            "           1       0.36      0.12      0.18       171\n",
            "           2       0.00      0.00      0.00        46\n",
            "\n",
            "    accuracy                           0.78      1036\n",
            "   macro avg       0.39      0.36      0.36      1036\n",
            "weighted avg       0.70      0.78      0.73      1036\n",
            "\n",
            "******************************\n",
            " \n",
            "Random Forest classification report\n",
            "-------------------------------\n",
            "              precision    recall  f1-score   support\n",
            "\n",
            "           0       0.86      0.94      0.90       819\n",
            "           1       0.48      0.36      0.41       171\n",
            "           2       0.27      0.09      0.13        46\n",
            "\n",
            "    accuracy                           0.80      1036\n",
            "   macro avg       0.53      0.46      0.48      1036\n",
            "weighted avg       0.77      0.80      0.78      1036\n",
            "\n",
            "******************************\n",
            " \n",
            "Gradient Boosting classification report\n",
            "-------------------------------\n",
            "              precision    recall  f1-score   support\n",
            "\n",
            "           0       0.86      0.94      0.90       819\n",
            "           1       0.50      0.35      0.41       171\n",
            "           2       0.39      0.20      0.26        46\n",
            "\n",
            "    accuracy                           0.81      1036\n",
            "   macro avg       0.58      0.50      0.52      1036\n",
            "weighted avg       0.78      0.81      0.79      1036\n",
            "\n",
            "******************************\n",
            " \n",
            "XG Boosting classification report\n",
            "-------------------------------\n",
            "              precision    recall  f1-score   support\n",
            "\n",
            "           0       0.86      0.93      0.89       819\n",
            "           1       0.44      0.33      0.38       171\n",
            "           2       0.35      0.17      0.23        46\n",
            "\n",
            "    accuracy                           0.79      1036\n",
            "   macro avg       0.55      0.48      0.50      1036\n",
            "weighted avg       0.77      0.79      0.78      1036\n",
            "\n",
            "******************************\n",
            " \n"
          ]
        }
      ],
      "source": [
        "for name in models:\n",
        "    print(f'{name} classification report')\n",
        "    print(\"-------------------------------\")\n",
        "    print(classification_report(y_test, models.get(name).predict(X_test)))\n",
        "    print(\"******************************\")\n",
        "    print(\" \")"
      ]
    },
    {
      "cell_type": "markdown",
      "id": "2b6fab32",
      "metadata": {
        "id": "2b6fab32",
        "papermill": {
          "duration": 0.042139,
          "end_time": "2022-11-14T09:03:48.701245",
          "exception": false,
          "start_time": "2022-11-14T09:03:48.659106",
          "status": "completed"
        },
        "tags": []
      },
      "source": [
        "As we handle the Gradient Boosting model;\n",
        "\n",
        "Precision and recall are acceptable for 0.\n",
        "\n",
        "As an example, for cluster 0 (Low CLV), if model tells us this customer belongs to cluster 0,87 out of 100 will be correct (precision). And the model successfully identifies 95% of actual cluster 0 customers (recall).\n",
        "\n",
        "We really need to improve the model for other clusters. For example, this model can not detect other class CLV customers. Possible actions to improve those points:\n",
        "\n",
        "- Adding more features and improve feature engineering\n",
        "- Apply hyper parameter tuning to current model\n",
        "- Add more data to the model if possible"
      ]
    }
  ],
  "metadata": {
    "colab": {
      "provenance": []
    },
    "kernelspec": {
      "display_name": "Python 3",
      "language": "python",
      "name": "python3"
    },
    "language_info": {
      "codemirror_mode": {
        "name": "ipython",
        "version": 3
      },
      "file_extension": ".py",
      "mimetype": "text/x-python",
      "name": "python",
      "nbconvert_exporter": "python",
      "pygments_lexer": "ipython3",
      "version": "3.7.12"
    },
    "papermill": {
      "default_parameters": {},
      "duration": 33.727539,
      "end_time": "2022-11-14T09:03:49.752217",
      "environment_variables": {},
      "exception": null,
      "input_path": "__notebook__.ipynb",
      "output_path": "__notebook__.ipynb",
      "parameters": {},
      "start_time": "2022-11-14T09:03:16.024678",
      "version": "2.3.4"
    }
  },
  "nbformat": 4,
  "nbformat_minor": 5
}
